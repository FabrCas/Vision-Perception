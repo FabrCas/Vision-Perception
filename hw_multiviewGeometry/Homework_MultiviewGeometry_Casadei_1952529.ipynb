{
  "nbformat": 4,
  "nbformat_minor": 0,
  "metadata": {
    "colab": {
      "name": "Homework_MuliviewGeometry_Casadei.ipynb",
      "provenance": [],
      "collapsed_sections": [],
      "toc_visible": true
    },
    "kernelspec": {
      "display_name": "Python 3",
      "name": "python3"
    },
    "language_info": {
      "name": "python"
    }
  },
  "cells": [
    {
      "cell_type": "markdown",
      "metadata": {
        "id": "a85s03JsGAnO"
      },
      "source": [
        "# import libraries"
      ]
    },
    {
      "cell_type": "code",
      "metadata": {
        "id": "ElKYb6INcNY7"
      },
      "source": [
        "import matplotlib.pyplot as plt\n",
        "from matplotlib.pyplot import figure\n",
        "import sympy as sp\n",
        "import numpy as np\n",
        "from sympy import *\n",
        "from IPython.display import display, Math, Latex, HTML, Markdown\n",
        "import math\n",
        "from google.colab import drive\n",
        "\n",
        "\n",
        "# exercise 2\n",
        "from PIL import Image\n",
        "from google.colab.patches import cv2_imshow\n",
        "import skimage\n",
        "import scipy\n",
        "from scipy.ndimage import zoom\n",
        "from scipy.interpolate import  griddata\n",
        "from skimage import transform as tf\n",
        "from skimage.transform import ProjectiveTransform\n",
        "from scipy.ndimage import map_coordinates\n",
        "import cv2\n",
        "\n",
        "# exercise 4\n",
        "from scipy.linalg import null_space\n",
        "import numpy.linalg as lin\n",
        "from numpy.linalg import inv\n",
        "import scipy.linalg as linalg\n",
        "from sympy.solvers.solveset import linsolve"
      ],
      "execution_count": 1,
      "outputs": []
    },
    {
      "cell_type": "markdown",
      "metadata": {
        "id": "AN2a8OqIUH2w"
      },
      "source": [
        "# Load from drive"
      ]
    },
    {
      "cell_type": "code",
      "metadata": {
        "colab": {
          "base_uri": "https://localhost:8080/"
        },
        "id": "_JUvskzbUKK3",
        "outputId": "367eb44d-1190-481b-b6ab-a7e3840f23cf"
      },
      "source": [
        "drive.mount(\"/content/drive\", force_remount=True)\n",
        "%cd '/content/drive/MyDrive/Colab Notebooks/V&P/assignment_geometricView'"
      ],
      "execution_count": 2,
      "outputs": [
        {
          "output_type": "stream",
          "text": [
            "Mounted at /content/drive\n",
            "/content/drive/MyDrive/Colab Notebooks/V&P/assignment_geometricView\n"
          ],
          "name": "stdout"
        }
      ]
    },
    {
      "cell_type": "markdown",
      "metadata": {
        "id": "RKYR3yhrFNpB"
      },
      "source": [
        "# Exercise 1.1\n"
      ]
    },
    {
      "cell_type": "code",
      "metadata": {
        "colab": {
          "base_uri": "https://localhost:8080/",
          "height": 1000
        },
        "id": "pzdDXVw8NFbT",
        "outputId": "2e04e487-5c8e-4199-be3f-602e9a367754"
      },
      "source": [
        "\"\"\" \n",
        "****************************************************************************************************\n",
        "**************************************** Simpy symbols *********************************************\n",
        "****************************************************************************************************\n",
        "\"\"\"\n",
        "\n",
        "x1,y1,x2,y2,x3,y3,z1,z2,z3,l1,l2,l3,L = sp.symbols('x1,y1,x2,y2,x3,y3,z1,z2,z3,l1,l2,l3,L', real = True)\n",
        "\n",
        "P1,P2,P3 = sp.symbols(\"P1,P2,P3\", real = True)\n",
        "\n",
        "X1p,X2p,X3p = sp.symbols(\"X1',X2',X3'\", real = True)\n",
        "\n",
        "l1p,l2p,l3p = sp.symbols(\"l1',l2',l3'\", real = True)\n",
        "\n",
        "h11,h12,h13,h21,h22,h23,h31,h32,h33 = symbols('h11,h12,h13,h21,h22,h23,h31,h32,h33', real = True)\n",
        "\n",
        "L = Matrix([l1,l2,l3])\n",
        "L_values = L.subs([(l1, -1.5), (l2, 1), (l3,0)])\n",
        "\n",
        "P1 = Matrix([x1,y1,z1])\n",
        "P1_values = P1.subs([(x1, 2), (y1, 3), (z1,1)])\n",
        "\n",
        "P2 = Matrix([x2,y2,z2])\n",
        "P2_values = P2.subs([(x2, 4), (y2, 6), (z2,1)])\n",
        "\n",
        "P3 = Matrix([x3,y3,z3])\n",
        "P3_values = P3.subs([(x3, 6), (y3, 9), (z3,1)])\n",
        "\n",
        "\n",
        "\"\"\" \n",
        "****************************************************************************************************\n",
        "************************************ Simpy implementation ******************************************\n",
        "****************************************************************************************************\n",
        "\"\"\"\n",
        "\n",
        "display(Latex('$\\\\bold{Exercise: 1.1}$'))\n",
        "print(\"\\n\");\n",
        "\n",
        "display(Markdown(\"The aim of this exercise is to construct three collinear points and show that are on a certain line L.\"))\n",
        "\n",
        "print(\"\\n\");\n",
        "\n",
        "display(Markdown(\"I choose arbitrary 2 points P1 and P2, and the other one will be inferred.\"))\n",
        "\n",
        "print(\"\\n\");\n",
        "\n",
        "\n",
        "display(Eq(Eq(S('P1'), P1, evaluate=False), P1_values, evaluate=False))\n",
        "print(\"\\n\");\n",
        "\n",
        "display(Eq(Eq(S('P2'), P2, evaluate=False), P2_values, evaluate=False))\n",
        "print(\"\\n\");\n",
        "\n",
        "display(Eq(S('P3'), P3, evaluate=False))\n",
        "print(\"\\n\");\n",
        "\n",
        "display(Markdown(\"From the first 2 points chosen we evaluate the line as the cross product between them.\"))\n",
        "print(\"\\n\")\n",
        "\n",
        "display(Latex(r'${L} = \\vec{P_1}\\times\\vec{P_2}$'))\n",
        "print(\"\\n\")\n",
        "L = P1.cross(P2)\n",
        "L_values = P1_values.cross(P2_values)\n",
        "display(Eq(S('L'), L_values, evaluate=False))\n",
        "\n",
        "print(\"\\n\")\n",
        "display(Markdown(\"That is represented by the following equation:\"))\n",
        "display(Latex(r'$y = \\dfrac{3}{2}x$'))\n",
        "\n",
        "print(\"\\n\")\n",
        "display(Markdown(\"From this line with 1 DoF, has been chosen an arbitrary x value to determine the third point, in this case, has been chosen a value equal to 6.\"))\n",
        "print(\"\\n\")\n",
        "\n",
        "display(Eq(Eq(S('P3'), P3, evaluate=False), P3_values, evaluate=False))\n",
        "print(\"\\n\");\n",
        "\n",
        "display(Markdown(\"Below, are shown the collinear points and the line.\"))\n",
        "\n",
        "x_points =[2,4,6];y_points=[3,6,9]\n",
        "\n",
        "plt.plot(x_points, y_points, label='line', marker='o', markersize=10, color= \"blue\", linewidth=3)\n",
        "plt.show()\n",
        "\n",
        "print(\"\\n\")\n",
        "\n",
        "display(Markdown(\"To conclude has been verified that these 3 points are collinear and has been proven that each one lies on the line L, using the following formula:\"))\n",
        "\n",
        "L = Matrix([l1,l2,l3])\n",
        "print(\"\\n\")\n",
        "display(Latex(r'${L^T}P_1 = 0$'))\n",
        "check1 = L_values.dot(P1_values);\n",
        "display(Eq(Eq(S('check1'), transpose(L)*P1, evaluate=False), check1, evaluate=False))\n",
        "\n",
        "print(\"\\n\")\n",
        "display(Latex(r'${L^T}P_2 = 0$'))\n",
        "check2 = L_values.dot(P2_values);\n",
        "display(Eq(Eq(S('check2'), transpose(L)*P2, evaluate=False), check2, evaluate=False))\n",
        "\n",
        "print(\"\\n\")\n",
        "display(Latex(r'${L^T}P_3 = 0$'))\n",
        "check3 = L_values.dot(P3_values);\n",
        "display(Eq(Eq(S('check3'), transpose(L)*P3, evaluate=False), check3, evaluate=False))\n",
        "\n",
        "print(\"\\n\")\n",
        "\n",
        "display(Latex(\"$\\\\textbf{Conclusion:}$\"))\n",
        "display(Markdown('From these results, we can establish the collinear property of the three points.'))\n"
      ],
      "execution_count": 3,
      "outputs": [
        {
          "output_type": "display_data",
          "data": {
            "text/latex": "$\\bold{Exercise: 1.1}$",
            "text/plain": [
              "<IPython.core.display.Latex object>"
            ]
          },
          "metadata": {
            "tags": []
          }
        },
        {
          "output_type": "stream",
          "text": [
            "\n",
            "\n"
          ],
          "name": "stdout"
        },
        {
          "output_type": "display_data",
          "data": {
            "text/markdown": "The aim of this exercise is to construct three collinear points and show that are on a certain line L.",
            "text/plain": [
              "<IPython.core.display.Markdown object>"
            ]
          },
          "metadata": {
            "tags": []
          }
        },
        {
          "output_type": "stream",
          "text": [
            "\n",
            "\n"
          ],
          "name": "stdout"
        },
        {
          "output_type": "display_data",
          "data": {
            "text/markdown": "I choose arbitrary 2 points P1 and P2, and the other one will be inferred.",
            "text/plain": [
              "<IPython.core.display.Markdown object>"
            ]
          },
          "metadata": {
            "tags": []
          }
        },
        {
          "output_type": "stream",
          "text": [
            "\n",
            "\n"
          ],
          "name": "stdout"
        },
        {
          "output_type": "display_data",
          "data": {
            "text/latex": "$\\displaystyle P_{1} = \\left[\\begin{matrix}x_{1}\\\\y_{1}\\\\z_{1}\\end{matrix}\\right] = \\left[\\begin{matrix}2\\\\3\\\\1\\end{matrix}\\right]$",
            "text/plain": [
              "Eq(Eq(P1, Matrix([\n",
              "[x1],\n",
              "[y1],\n",
              "[z1]])), Matrix([\n",
              "[2],\n",
              "[3],\n",
              "[1]]))"
            ]
          },
          "metadata": {
            "tags": []
          }
        },
        {
          "output_type": "stream",
          "text": [
            "\n",
            "\n"
          ],
          "name": "stdout"
        },
        {
          "output_type": "display_data",
          "data": {
            "text/latex": "$\\displaystyle P_{2} = \\left[\\begin{matrix}x_{2}\\\\y_{2}\\\\z_{2}\\end{matrix}\\right] = \\left[\\begin{matrix}4\\\\6\\\\1\\end{matrix}\\right]$",
            "text/plain": [
              "Eq(Eq(P2, Matrix([\n",
              "[x2],\n",
              "[y2],\n",
              "[z2]])), Matrix([\n",
              "[4],\n",
              "[6],\n",
              "[1]]))"
            ]
          },
          "metadata": {
            "tags": []
          }
        },
        {
          "output_type": "stream",
          "text": [
            "\n",
            "\n"
          ],
          "name": "stdout"
        },
        {
          "output_type": "display_data",
          "data": {
            "text/latex": "$\\displaystyle P_{3} = \\left[\\begin{matrix}x_{3}\\\\y_{3}\\\\z_{3}\\end{matrix}\\right]$",
            "text/plain": [
              "Eq(P3, Matrix([\n",
              "[x3],\n",
              "[y3],\n",
              "[z3]]))"
            ]
          },
          "metadata": {
            "tags": []
          }
        },
        {
          "output_type": "stream",
          "text": [
            "\n",
            "\n"
          ],
          "name": "stdout"
        },
        {
          "output_type": "display_data",
          "data": {
            "text/markdown": "From the first 2 points chosen we evaluate the line as the cross product between them.",
            "text/plain": [
              "<IPython.core.display.Markdown object>"
            ]
          },
          "metadata": {
            "tags": []
          }
        },
        {
          "output_type": "stream",
          "text": [
            "\n",
            "\n"
          ],
          "name": "stdout"
        },
        {
          "output_type": "display_data",
          "data": {
            "text/latex": "${L} = \\vec{P_1}\\times\\vec{P_2}$",
            "text/plain": [
              "<IPython.core.display.Latex object>"
            ]
          },
          "metadata": {
            "tags": []
          }
        },
        {
          "output_type": "stream",
          "text": [
            "\n",
            "\n"
          ],
          "name": "stdout"
        },
        {
          "output_type": "display_data",
          "data": {
            "text/latex": "$\\displaystyle L = \\left[\\begin{matrix}-3\\\\2\\\\0\\end{matrix}\\right]$",
            "text/plain": [
              "Eq(L, Matrix([\n",
              "[-3],\n",
              "[ 2],\n",
              "[ 0]]))"
            ]
          },
          "metadata": {
            "tags": []
          }
        },
        {
          "output_type": "stream",
          "text": [
            "\n",
            "\n"
          ],
          "name": "stdout"
        },
        {
          "output_type": "display_data",
          "data": {
            "text/markdown": "That is represented by the following equation:",
            "text/plain": [
              "<IPython.core.display.Markdown object>"
            ]
          },
          "metadata": {
            "tags": []
          }
        },
        {
          "output_type": "display_data",
          "data": {
            "text/latex": "$y = \\dfrac{3}{2}x$",
            "text/plain": [
              "<IPython.core.display.Latex object>"
            ]
          },
          "metadata": {
            "tags": []
          }
        },
        {
          "output_type": "stream",
          "text": [
            "\n",
            "\n"
          ],
          "name": "stdout"
        },
        {
          "output_type": "display_data",
          "data": {
            "text/markdown": "From this line with 1 DoF, has been chosen an arbitrary x value to determine the third point, in this case, has been chosen a value equal to 6.",
            "text/plain": [
              "<IPython.core.display.Markdown object>"
            ]
          },
          "metadata": {
            "tags": []
          }
        },
        {
          "output_type": "stream",
          "text": [
            "\n",
            "\n"
          ],
          "name": "stdout"
        },
        {
          "output_type": "display_data",
          "data": {
            "text/latex": "$\\displaystyle P_{3} = \\left[\\begin{matrix}x_{3}\\\\y_{3}\\\\z_{3}\\end{matrix}\\right] = \\left[\\begin{matrix}6\\\\9\\\\1\\end{matrix}\\right]$",
            "text/plain": [
              "Eq(Eq(P3, Matrix([\n",
              "[x3],\n",
              "[y3],\n",
              "[z3]])), Matrix([\n",
              "[6],\n",
              "[9],\n",
              "[1]]))"
            ]
          },
          "metadata": {
            "tags": []
          }
        },
        {
          "output_type": "stream",
          "text": [
            "\n",
            "\n"
          ],
          "name": "stdout"
        },
        {
          "output_type": "display_data",
          "data": {
            "text/markdown": "Below, are shown the collinear points and the line.",
            "text/plain": [
              "<IPython.core.display.Markdown object>"
            ]
          },
          "metadata": {
            "tags": []
          }
        },
        {
          "output_type": "display_data",
          "data": {
            "image/png": "[encoded data removed]",
            "text/plain": [
              "<Figure size 432x288 with 1 Axes>"
            ]
          },
          "metadata": {
            "tags": [],
            "needs_background": "light"
          }
        },
        {
          "output_type": "stream",
          "text": [
            "\n",
            "\n"
          ],
          "name": "stdout"
        },
        {
          "output_type": "display_data",
          "data": {
            "text/markdown": "To conclude has been verified that these 3 points are collinear and has been proven that each one lies on the line L, using the following formula:",
            "text/plain": [
              "<IPython.core.display.Markdown object>"
            ]
          },
          "metadata": {
            "tags": []
          }
        },
        {
          "output_type": "stream",
          "text": [
            "\n",
            "\n"
          ],
          "name": "stdout"
        },
        {
          "output_type": "display_data",
          "data": {
            "text/latex": "${L^T}P_1 = 0$",
            "text/plain": [
              "<IPython.core.display.Latex object>"
            ]
          },
          "metadata": {
            "tags": []
          }
        },
        {
          "output_type": "display_data",
          "data": {
            "text/latex": "$\\displaystyle check_{1} = \\left[\\begin{matrix}l_{1} x_{1} + l_{2} y_{1} + l_{3} z_{1}\\end{matrix}\\right] = 0$",
            "text/plain": [
              "Eq(Eq(check1, Matrix([[l1*x1 + l2*y1 + l3*z1]])), 0)"
            ]
          },
          "metadata": {
            "tags": []
          }
        },
        {
          "output_type": "stream",
          "text": [
            "\n",
            "\n"
          ],
          "name": "stdout"
        },
        {
          "output_type": "display_data",
          "data": {
            "text/latex": "${L^T}P_2 = 0$",
            "text/plain": [
              "<IPython.core.display.Latex object>"
            ]
          },
          "metadata": {
            "tags": []
          }
        },
        {
          "output_type": "display_data",
          "data": {
            "text/latex": "$\\displaystyle check_{2} = \\left[\\begin{matrix}l_{1} x_{2} + l_{2} y_{2} + l_{3} z_{2}\\end{matrix}\\right] = 0$",
            "text/plain": [
              "Eq(Eq(check2, Matrix([[l1*x2 + l2*y2 + l3*z2]])), 0)"
            ]
          },
          "metadata": {
            "tags": []
          }
        },
        {
          "output_type": "stream",
          "text": [
            "\n",
            "\n"
          ],
          "name": "stdout"
        },
        {
          "output_type": "display_data",
          "data": {
            "text/latex": "${L^T}P_3 = 0$",
            "text/plain": [
              "<IPython.core.display.Latex object>"
            ]
          },
          "metadata": {
            "tags": []
          }
        },
        {
          "output_type": "display_data",
          "data": {
            "text/latex": "$\\displaystyle check_{3} = \\left[\\begin{matrix}l_{1} x_{3} + l_{2} y_{3} + l_{3} z_{3}\\end{matrix}\\right] = 0$",
            "text/plain": [
              "Eq(Eq(check3, Matrix([[l1*x3 + l2*y3 + l3*z3]])), 0)"
            ]
          },
          "metadata": {
            "tags": []
          }
        },
        {
          "output_type": "stream",
          "text": [
            "\n",
            "\n"
          ],
          "name": "stdout"
        },
        {
          "output_type": "display_data",
          "data": {
            "text/latex": "$\\textbf{Conclusion:}$",
            "text/plain": [
              "<IPython.core.display.Latex object>"
            ]
          },
          "metadata": {
            "tags": []
          }
        },
        {
          "output_type": "display_data",
          "data": {
            "text/markdown": "From these results, we can establish the collinear property of the three points.",
            "text/plain": [
              "<IPython.core.display.Markdown object>"
            ]
          },
          "metadata": {
            "tags": []
          }
        }
      ]
    },
    {
      "cell_type": "markdown",
      "metadata": {
        "id": "934DVp6LZ8QJ"
      },
      "source": [
        "# Exercise 1.2\n",
        "\n"
      ]
    },
    {
      "cell_type": "code",
      "metadata": {
        "id": "kvclhQIQZ_Kh",
        "colab": {
          "base_uri": "https://localhost:8080/",
          "height": 1000
        },
        "outputId": "92e5abb1-4c28-43c1-881c-7f9cab74b313"
      },
      "source": [
        "\"\"\" \n",
        "****************************************************************************************************\n",
        "**************************************** Simpy symbols *********************************************\n",
        "****************************************************************************************************\n",
        "\"\"\"\n",
        "\n",
        "x1,y1,x2,y2,x3,y3,z1,z2,z3,l1,l2,l3,L = sp.symbols('x1,y1,x2,y2,x3,y3,z1,z2,z3,l1,l2,l3,L', real = True)\n",
        "x1p,y1p,x2p,y2p,x3p,y3p,z1p,z2p,z3p = sp.symbols(\"x1',y1',x2',y2',x3',y3',z1',z2',z3'\", real = True)\n",
        "\n",
        "P1,P2,P3 = sp.symbols(\"P1,P2,P3\", real = True)\n",
        "\n",
        "X1p,X2p,X3p = sp.symbols(\"P1',P2',P3'\", real = True)\n",
        "\n",
        "Lp,l1p,l2p,l3p = sp.symbols(\"L',l1',l2',l3'\", real = True)\n",
        "\n",
        "L = Matrix([l1,l2,l3])\n",
        "\n",
        "L_values = L.subs([(l1, -1.5), (l2, 1), (l3,0)])\n",
        "\n",
        "P1 = Matrix([x1,y1,z1])\n",
        "\n",
        "P1_values = P1.subs([(x1, 2), (y1, 3), (z1,1)])\n",
        "\n",
        "P2 = Matrix([x2,y2,z2])\n",
        "\n",
        "P2_values = P2.subs([(x2, 4), (y2, 6), (z2,1)])\n",
        "\n",
        "P3 = Matrix([x3,y3,z3])\n",
        "\n",
        "P3_values = P3.subs([(x3, 6), (y3, 9), (z3,1)])\n",
        "\n",
        "\n",
        "alpha,s1,s2,t,v,V,t1,t2,v1,v2 = sp.symbols('alpha,s1,s2,t,v,V,t1,t2,v1,v2', real = True)\n",
        "\n",
        "h11,h12,h13,h21,h22,h23,h31,h32,h33 = sp.symbols('h11,h12,h13,h21,h22,h23,h31,h32,h33', real = True)\n",
        "\n",
        "\n",
        "\"\"\" \n",
        "****************************************************************************************************\n",
        "************************************ Simpy implementation ******************************************\n",
        "****************************************************************************************************\n",
        "\"\"\"\n",
        "\n",
        "display(Latex('$\\\\bold{Exercise: 1.2}$'))\n",
        "print(\"\\n\");\n",
        "display(Markdown(\"In this exercise we want to show that, starting from three points: P1,P2 and P3 on a line L, a projective transformation maps new points: P1',P2',P3' that are collinear on a new line L'.\"))\n",
        "print(\"\\n\");\n",
        "display(Markdown(\"I decide to reuse both the points and the line defined in the previous exercise.\"))\n",
        "\n",
        "print(\"\\n\");\n",
        "display(Eq(Eq(S('P1'), P1, evaluate=False), P1_values, evaluate=False))\n",
        "print(\"\\n\");\n",
        "\n",
        "display(Eq(Eq(S('P2'), P2, evaluate=False), P2_values, evaluate=False))\n",
        "print(\"\\n\");\n",
        "\n",
        "display(Eq(Eq(S('P2'), P3, evaluate=False), P3_values, evaluate=False))\n",
        "print(\"\\n\");\n",
        "\n",
        "display(Markdown(\"Given the fact of having collinear points, we already know that each one lies on the line L.\"))\n",
        "\n",
        "cross = symbols('×')\n",
        "\n",
        "display(Markdown(\"we define the parameters which build up the projective transformation matrix H.\"))\n",
        "\n",
        "t = Matrix([t1,t2])\n",
        "v = Matrix([v1,v2])\n",
        "\n",
        "t_values = t.subs([(t1, 2.0), (t2, 1.0)])\n",
        "alpha_value = alpha.subs([(alpha, 45)])\n",
        "s1_value = s1.subs([(s1, 2.0)])\n",
        "s2_value = s2.subs([(s2, 3.0)])\n",
        "v_values = v.subs([(v1, 0.3), (v2, 0.5)])\n",
        "V_value = V.subs([(V, 1.0)])  \n",
        "\n",
        "display(Eq(Eq(S('α'), alpha, evaluate=False), alpha_value, evaluate=False))\n",
        "print(\"\\n\");\n",
        "display(Eq(Eq(S('s1'), s1, evaluate=False), s1_value, evaluate=False))\n",
        "print(\"\\n\");\n",
        "display(Eq(Eq(S('s2'), s2, evaluate=False), s2_value, evaluate=False))\n",
        "print(\"\\n\");\n",
        "display(Eq(Eq(S('t'), t, evaluate=False), t_values, evaluate=False))\n",
        "print(\"\\n\");\n",
        "display(Eq(Eq(S('v'), v, evaluate=False), v_values, evaluate=False))\n",
        "print(\"\\n\");\n",
        "\n",
        "cos_alpha = round(math.cos(math.radians(alpha_value)), 2)\n",
        "sin_alpha = round(math.sin(math.radians(alpha_value)), 2)\n",
        "\n",
        "H = sp.Matrix([[h11, h12, h13],[h21, h22, h23],[h31, h32, h33]])\n",
        "H_values = H.subs([(h11,cos_alpha*s1_value), (h12,-(sin_alpha*s2_value)), (h13,t_values[0]), (h21,sin_alpha*s2_value), (h22,cos_alpha*s1_value), (h23,t_values[1]), (h31,v_values[0]), (h32,v_values[1]), (h33,1)])\n",
        "display(Eq(Eq(S('H'), H, evaluate=False), H_values, evaluate=False))\n",
        "print(\"\\n\")\n",
        "\n",
        "display(Markdown(\"It's now possible to construct the new points making the cross product between the points and the homography.\"))\n",
        "print(\"\\n\")\n",
        "\n",
        "result_h_p1 = (H_values)*(P1_values)\n",
        "\n",
        "display(Eq(Eq(S('H*P1'), transpose(H)*P1, evaluate=False), result_h_p1, evaluate=False))\n",
        "print(\"\\n\")\n",
        "result_h_p2 = (H_values)*(P2_values)\n",
        "\n",
        "display(Eq(Eq(S('H*P2'), transpose(H)*P2, evaluate=False), result_h_p2, evaluate=False))\n",
        "print(\"\\n\")\n",
        "result_h_p3 = (H_values)*(P3_values)\n",
        "\n",
        "display(Eq(Eq(S('H*P3'), transpose(H)*P3, evaluate=False), result_h_p3, evaluate=False))\n",
        "print(\"\\n\")\n",
        "\n",
        "display(Markdown(\"Therefore, we have found the following new points:\"))\n",
        "print(\"\\n\")\n",
        "old_points = Matrix([transpose(P1_values), transpose(P2_values), transpose(P3_values)])\n",
        "new_points  = Matrix([X1p,X2p,X3p])\n",
        "display(Eq(Eq(S('H*X'), H_values*transpose(old_points), evaluate=False), transpose(new_points), evaluate=False))\n",
        "print(\"\\n\")\n",
        "display(Markdown(\"We compute the transformation also for the line L. First, it's computed the inverse transposed of H.\"))\n",
        "display(Markdown(\"With this passage, we also demonstrate that the H matrix is non-singular (key property for H), hence, invertible.\"))\n",
        "print(\"\\n\")\n",
        "\n",
        "inv_transpose_H = transpose(H.inv())\n",
        "result_h_L = transpose(H_values.inv()).evalf(3)\n",
        "display(Eq(Symbol('H^{-T}'), result_h_L, evaluate=False))\n",
        "print(\"\\n\")\n",
        "display(Markdown(\"We transform L.\"))\n",
        "print(\"\\n\")\n",
        "result_Lp = ((result_h_L) * (L_values)).evalf(3)\n",
        "display(Eq(Eq(Symbol('H^{-T}L'), result_Lp , evaluate=False), Lp , evaluate=False))\n",
        "print(\"\\n\")\n",
        "\n",
        "# plotting lines and points\n",
        "display(Markdown(\"All the points and lines are represented in the below plot.\"))\n",
        "\n",
        "ax = plt.axes(projection='3d')\n",
        "ax.set_xlabel('X axis')\n",
        "ax.set_ylabel('Y axis')\n",
        "ax.set_zlabel('Z axis')\n",
        "\n",
        "ax.plot3D([P1_values[0], P3_values[0]], [P1_values[1], P3_values[1]], [P1_values[2], P3_values[2]], color=\"blue\", linewidth=3, label='first line')\n",
        "ax.plot3D([P1_values[0]], [P1_values[1]], [P1_values[2]], color=\"crimson\", marker='o', markersize=5)\n",
        "ax.plot3D([P2_values[0]], [P2_values[1]], [P2_values[2]], color=\"crimson\", marker='o', markersize=5)\n",
        "ax.plot3D([P3_values[0]], [P3_values[1]], [P3_values[2]], color=\"crimson\", marker='o', markersize=5)\n",
        "\n",
        "ax.plot3D([result_h_p1[0], result_h_p3[0]], [result_h_p1[1], result_h_p3[1]], [result_h_p1[2], result_h_p3[2]], color=\"green\", linewidth=3, label='second line')\n",
        "ax.plot3D([result_h_p1[0]], [result_h_p1[1]], [result_h_p1[2]], color=\"crimson\", marker='o', markersize=5)\n",
        "ax.plot3D([result_h_p2[0]], [result_h_p2[1]], [result_h_p2[2]], color=\"crimson\", marker='o', markersize=5)\n",
        "ax.plot3D([result_h_p3[0]], [result_h_p3[1]], [result_h_p3[2]], color=\"crimson\", marker='o', markersize=5)\n",
        "\n",
        "plt.legend()\n",
        "plt.show()\n",
        "\n",
        "print(\"\\n\")\n",
        "\n",
        "display(Markdown(\"The last step is to verify that each new point is on the line L' with the following operation.\"))\n",
        "print('\\n')\n",
        "display(Latex(r\"${L'^T}P' = {P'^T}L' = 0$\"))\n",
        "print('\\n')\n",
        "Lp = Matrix([l1p, l2p, l3p])\n",
        "X1p = Matrix([x1p, y1p, z1p]);\n",
        "X2p = Matrix([x2p, y2p, z2p]);\n",
        "X3p = Matrix([x3p, y3p, z3p]);\n",
        "\n",
        "check1 = int(round((transpose(result_Lp).dot(result_h_p1)),0))\n",
        "display(Eq(Eq(Symbol(\"{L'^T}P1'\"), transpose(Lp)*X1p, evaluate=False), check1, evaluate=False))\n",
        "print(\"\\n\")\n",
        "check2 = int(round((transpose(result_Lp).dot(result_h_p2)),0))\n",
        "display(Eq(Eq(Symbol(\"{L'^T}P2'\"), transpose(Lp)*X2p, evaluate=False), check2, evaluate=False))\n",
        "print(\"\\n\")\n",
        "check3 = int(round((transpose(result_Lp).dot(result_h_p3)),0))\n",
        "display(Eq(Eq(Symbol(\"{L'^T}P3'\"), transpose(Lp)*X3p, evaluate=False), check3, evaluate=False))\n",
        "print(\"\\n\")\n",
        "\n",
        "display(Latex(\"$\\\\textbf{Conclusion:}$\"))\n",
        "display(Markdown(\"Since all the results obtained are equal to zero, we have proven that all the new points are on the new line.\"))\n"
      ],
      "execution_count": 4,
      "outputs": [
        {
          "output_type": "display_data",
          "data": {
            "text/latex": "$\\bold{Exercise: 1.2}$",
            "text/plain": [
              "<IPython.core.display.Latex object>"
            ]
          },
          "metadata": {
            "tags": []
          }
        },
        {
          "output_type": "stream",
          "text": [
            "\n",
            "\n"
          ],
          "name": "stdout"
        },
        {
          "output_type": "display_data",
          "data": {
            "text/markdown": "In this exercise we want to show that, starting from three points: P1,P2 and P3 on a line L, a projective transformation maps new points: P1',P2',P3' that are collinear on a new line L'.",
            "text/plain": [
              "<IPython.core.display.Markdown object>"
            ]
          },
          "metadata": {
            "tags": []
          }
        },
        {
          "output_type": "stream",
          "text": [
            "\n",
            "\n"
          ],
          "name": "stdout"
        },
        {
          "output_type": "display_data",
          "data": {
            "text/markdown": "I decide to reuse both the points and the line defined in the previous exercise.",
            "text/plain": [
              "<IPython.core.display.Markdown object>"
            ]
          },
          "metadata": {
            "tags": []
          }
        },
        {
          "output_type": "stream",
          "text": [
            "\n",
            "\n"
          ],
          "name": "stdout"
        },
        {
          "output_type": "display_data",
          "data": {
            "text/latex": "$\\displaystyle P_{1} = \\left[\\begin{matrix}x_{1}\\\\y_{1}\\\\z_{1}\\end{matrix}\\right] = \\left[\\begin{matrix}2\\\\3\\\\1\\end{matrix}\\right]$",
            "text/plain": [
              "Eq(Eq(P1, Matrix([\n",
              "[x1],\n",
              "[y1],\n",
              "[z1]])), Matrix([\n",
              "[2],\n",
              "[3],\n",
              "[1]]))"
            ]
          },
          "metadata": {
            "tags": []
          }
        },
        {
          "output_type": "stream",
          "text": [
            "\n",
            "\n"
          ],
          "name": "stdout"
        },
        {
          "output_type": "display_data",
          "data": {
            "text/latex": "$\\displaystyle P_{2} = \\left[\\begin{matrix}x_{2}\\\\y_{2}\\\\z_{2}\\end{matrix}\\right] = \\left[\\begin{matrix}4\\\\6\\\\1\\end{matrix}\\right]$",
            "text/plain": [
              "Eq(Eq(P2, Matrix([\n",
              "[x2],\n",
              "[y2],\n",
              "[z2]])), Matrix([\n",
              "[4],\n",
              "[6],\n",
              "[1]]))"
            ]
          },
          "metadata": {
            "tags": []
          }
        },
        {
          "output_type": "stream",
          "text": [
            "\n",
            "\n"
          ],
          "name": "stdout"
        },
        {
          "output_type": "display_data",
          "data": {
            "text/latex": "$\\displaystyle P_{2} = \\left[\\begin{matrix}x_{3}\\\\y_{3}\\\\z_{3}\\end{matrix}\\right] = \\left[\\begin{matrix}6\\\\9\\\\1\\end{matrix}\\right]$",
            "text/plain": [
              "Eq(Eq(P2, Matrix([\n",
              "[x3],\n",
              "[y3],\n",
              "[z3]])), Matrix([\n",
              "[6],\n",
              "[9],\n",
              "[1]]))"
            ]
          },
          "metadata": {
            "tags": []
          }
        },
        {
          "output_type": "stream",
          "text": [
            "\n",
            "\n"
          ],
          "name": "stdout"
        },
        {
          "output_type": "display_data",
          "data": {
            "text/markdown": "Given the fact of having collinear points, we already know that each one lies on the line L.",
            "text/plain": [
              "<IPython.core.display.Markdown object>"
            ]
          },
          "metadata": {
            "tags": []
          }
        },
        {
          "output_type": "display_data",
          "data": {
            "text/markdown": "we define the parameters which build up the projective transformation matrix H.",
            "text/plain": [
              "<IPython.core.display.Markdown object>"
            ]
          },
          "metadata": {
            "tags": []
          }
        },
        {
          "output_type": "display_data",
          "data": {
            "text/latex": "$\\displaystyle α = \\alpha = 45$",
            "text/plain": [
              "Eq(Eq(α, alpha), 45)"
            ]
          },
          "metadata": {
            "tags": []
          }
        },
        {
          "output_type": "stream",
          "text": [
            "\n",
            "\n"
          ],
          "name": "stdout"
        },
        {
          "output_type": "display_data",
          "data": {
            "text/latex": "$\\displaystyle s_{1} = s_{1} = 2.0$",
            "text/plain": [
              "Eq(Eq(s1, s1), 2.0)"
            ]
          },
          "metadata": {
            "tags": []
          }
        },
        {
          "output_type": "stream",
          "text": [
            "\n",
            "\n"
          ],
          "name": "stdout"
        },
        {
          "output_type": "display_data",
          "data": {
            "text/latex": "$\\displaystyle s_{2} = s_{2} = 3.0$",
            "text/plain": [
              "Eq(Eq(s2, s2), 3.0)"
            ]
          },
          "metadata": {
            "tags": []
          }
        },
        {
          "output_type": "stream",
          "text": [
            "\n",
            "\n"
          ],
          "name": "stdout"
        },
        {
          "output_type": "display_data",
          "data": {
            "text/latex": "$\\displaystyle t = \\left[\\begin{matrix}t_{1}\\\\t_{2}\\end{matrix}\\right] = \\left[\\begin{matrix}2.0\\\\1.0\\end{matrix}\\right]$",
            "text/plain": [
              "Eq(Eq(t, Matrix([\n",
              "[t1],\n",
              "[t2]])), Matrix([\n",
              "[2.0],\n",
              "[1.0]]))"
            ]
          },
          "metadata": {
            "tags": []
          }
        },
        {
          "output_type": "stream",
          "text": [
            "\n",
            "\n"
          ],
          "name": "stdout"
        },
        {
          "output_type": "display_data",
          "data": {
            "text/latex": "$\\displaystyle v = \\left[\\begin{matrix}v_{1}\\\\v_{2}\\end{matrix}\\right] = \\left[\\begin{matrix}0.3\\\\0.5\\end{matrix}\\right]$",
            "text/plain": [
              "Eq(Eq(v, Matrix([\n",
              "[v1],\n",
              "[v2]])), Matrix([\n",
              "[0.3],\n",
              "[0.5]]))"
            ]
          },
          "metadata": {
            "tags": []
          }
        },
        {
          "output_type": "stream",
          "text": [
            "\n",
            "\n"
          ],
          "name": "stdout"
        },
        {
          "output_type": "display_data",
          "data": {
            "text/latex": "$\\displaystyle H = \\left[\\begin{matrix}h_{11} & h_{12} & h_{13}\\\\h_{21} & h_{22} & h_{23}\\\\h_{31} & h_{32} & h_{33}\\end{matrix}\\right] = \\left[\\begin{matrix}1.42 & -2.13 & 2.0\\\\2.13 & 1.42 & 1.0\\\\0.3 & 0.5 & 1\\end{matrix}\\right]$",
            "text/plain": [
              "Eq(Eq(H, Matrix([\n",
              "[h11, h12, h13],\n",
              "[h21, h22, h23],\n",
              "[h31, h32, h33]])), Matrix([\n",
              "[1.42, -2.13, 2.0],\n",
              "[2.13,  1.42, 1.0],\n",
              "[ 0.3,   0.5,   1]]))"
            ]
          },
          "metadata": {
            "tags": []
          }
        },
        {
          "output_type": "stream",
          "text": [
            "\n",
            "\n"
          ],
          "name": "stdout"
        },
        {
          "output_type": "display_data",
          "data": {
            "text/markdown": "It's now possible to construct the new points making the cross product between the points and the homography.",
            "text/plain": [
              "<IPython.core.display.Markdown object>"
            ]
          },
          "metadata": {
            "tags": []
          }
        },
        {
          "output_type": "stream",
          "text": [
            "\n",
            "\n"
          ],
          "name": "stdout"
        },
        {
          "output_type": "display_data",
          "data": {
            "text/latex": "$\\displaystyle H P_{1} = \\left[\\begin{matrix}h_{11} x_{1} + h_{21} y_{1} + h_{31} z_{1}\\\\h_{12} x_{1} + h_{22} y_{1} + h_{32} z_{1}\\\\h_{13} x_{1} + h_{23} y_{1} + h_{33} z_{1}\\end{matrix}\\right] = \\left[\\begin{matrix}-1.55\\\\9.52\\\\3.1\\end{matrix}\\right]$",
            "text/plain": [
              "Eq(Eq(H*P1, Matrix([\n",
              "[h11*x1 + h21*y1 + h31*z1],\n",
              "[h12*x1 + h22*y1 + h32*z1],\n",
              "[h13*x1 + h23*y1 + h33*z1]])), Matrix([\n",
              "[-1.55],\n",
              "[ 9.52],\n",
              "[  3.1]]))"
            ]
          },
          "metadata": {
            "tags": []
          }
        },
        {
          "output_type": "stream",
          "text": [
            "\n",
            "\n"
          ],
          "name": "stdout"
        },
        {
          "output_type": "display_data",
          "data": {
            "text/latex": "$\\displaystyle H P_{2} = \\left[\\begin{matrix}h_{11} x_{2} + h_{21} y_{2} + h_{31} z_{2}\\\\h_{12} x_{2} + h_{22} y_{2} + h_{32} z_{2}\\\\h_{13} x_{2} + h_{23} y_{2} + h_{33} z_{2}\\end{matrix}\\right] = \\left[\\begin{matrix}-5.1\\\\18.04\\\\5.2\\end{matrix}\\right]$",
            "text/plain": [
              "Eq(Eq(H*P2, Matrix([\n",
              "[h11*x2 + h21*y2 + h31*z2],\n",
              "[h12*x2 + h22*y2 + h32*z2],\n",
              "[h13*x2 + h23*y2 + h33*z2]])), Matrix([\n",
              "[ -5.1],\n",
              "[18.04],\n",
              "[  5.2]]))"
            ]
          },
          "metadata": {
            "tags": []
          }
        },
        {
          "output_type": "stream",
          "text": [
            "\n",
            "\n"
          ],
          "name": "stdout"
        },
        {
          "output_type": "display_data",
          "data": {
            "text/latex": "$\\displaystyle H P_{3} = \\left[\\begin{matrix}h_{11} x_{3} + h_{21} y_{3} + h_{31} z_{3}\\\\h_{12} x_{3} + h_{22} y_{3} + h_{32} z_{3}\\\\h_{13} x_{3} + h_{23} y_{3} + h_{33} z_{3}\\end{matrix}\\right] = \\left[\\begin{matrix}-8.65\\\\26.56\\\\7.3\\end{matrix}\\right]$",
            "text/plain": [
              "Eq(Eq(H*P3, Matrix([\n",
              "[h11*x3 + h21*y3 + h31*z3],\n",
              "[h12*x3 + h22*y3 + h32*z3],\n",
              "[h13*x3 + h23*y3 + h33*z3]])), Matrix([\n",
              "[-8.65],\n",
              "[26.56],\n",
              "[  7.3]]))"
            ]
          },
          "metadata": {
            "tags": []
          }
        },
        {
          "output_type": "stream",
          "text": [
            "\n",
            "\n"
          ],
          "name": "stdout"
        },
        {
          "output_type": "display_data",
          "data": {
            "text/markdown": "Therefore, we have found the following new points:",
            "text/plain": [
              "<IPython.core.display.Markdown object>"
            ]
          },
          "metadata": {
            "tags": []
          }
        },
        {
          "output_type": "stream",
          "text": [
            "\n",
            "\n"
          ],
          "name": "stdout"
        },
        {
          "output_type": "display_data",
          "data": {
            "text/latex": "$\\displaystyle H X = \\left[\\begin{matrix}-1.55 & -5.1 & -8.65\\\\9.52 & 18.04 & 26.56\\\\3.1 & 5.2 & 7.3\\end{matrix}\\right] = \\left[\\begin{matrix}P1' & P2' & P3'\\end{matrix}\\right]$",
            "text/plain": [
              "Eq(Eq(H*X, Matrix([\n",
              "[-1.55,  -5.1, -8.65],\n",
              "[ 9.52, 18.04, 26.56],\n",
              "[  3.1,   5.2,   7.3]])), Matrix([[P1', P2', P3']]))"
            ]
          },
          "metadata": {
            "tags": []
          }
        },
        {
          "output_type": "stream",
          "text": [
            "\n",
            "\n"
          ],
          "name": "stdout"
        },
        {
          "output_type": "display_data",
          "data": {
            "text/markdown": "We compute the transformation also for the line L. First, it's computed the inverse transposed of H.",
            "text/plain": [
              "<IPython.core.display.Markdown object>"
            ]
          },
          "metadata": {
            "tags": []
          }
        },
        {
          "output_type": "display_data",
          "data": {
            "text/markdown": "With this passage, we also demonstrate that the H matrix is non-singular (key property for H), hence, invertible.",
            "text/plain": [
              "<IPython.core.display.Markdown object>"
            ]
          },
          "metadata": {
            "tags": []
          }
        },
        {
          "output_type": "stream",
          "text": [
            "\n",
            "\n"
          ],
          "name": "stdout"
        },
        {
          "output_type": "display_data",
          "data": {
            "text/latex": "$\\displaystyle H^{-T} = \\left[\\begin{matrix}0.142 & -0.282 & 0.0986\\\\0.483 & 0.126 & -0.208\\\\-0.767 & 0.438 & 1.01\\end{matrix}\\right]$",
            "text/plain": [
              "Eq(H^{-T}, Matrix([\n",
              "[ 0.142, -0.282, 0.0986],\n",
              "[ 0.483,  0.126, -0.208],\n",
              "[-0.767,  0.438,   1.01]]))"
            ]
          },
          "metadata": {
            "tags": []
          }
        },
        {
          "output_type": "stream",
          "text": [
            "\n",
            "\n"
          ],
          "name": "stdout"
        },
        {
          "output_type": "display_data",
          "data": {
            "text/markdown": "We transform L.",
            "text/plain": [
              "<IPython.core.display.Markdown object>"
            ]
          },
          "metadata": {
            "tags": []
          }
        },
        {
          "output_type": "stream",
          "text": [
            "\n",
            "\n"
          ],
          "name": "stdout"
        },
        {
          "output_type": "display_data",
          "data": {
            "text/latex": "$\\displaystyle H^{-T}L = \\left[\\begin{matrix}-0.495\\\\-0.598\\\\1.59\\end{matrix}\\right] = L'$",
            "text/plain": [
              "Eq(Eq(H^{-T}L, Matrix([\n",
              "[-0.495],\n",
              "[-0.598],\n",
              "[  1.59]])), L')"
            ]
          },
          "metadata": {
            "tags": []
          }
        },
        {
          "output_type": "stream",
          "text": [
            "\n",
            "\n"
          ],
          "name": "stdout"
        },
        {
          "output_type": "display_data",
          "data": {
            "text/markdown": "All the points and lines are represented in the below plot.",
            "text/plain": [
              "<IPython.core.display.Markdown object>"
            ]
          },
          "metadata": {
            "tags": []
          }
        },
        {
          "output_type": "display_data",
          "data": {
            "image/png": "[encoded data removed]",
            "text/plain": [
              "<Figure size 432x288 with 1 Axes>"
            ]
          },
          "metadata": {
            "tags": [],
            "needs_background": "light"
          }
        },
        {
          "output_type": "stream",
          "text": [
            "\n",
            "\n"
          ],
          "name": "stdout"
        },
        {
          "output_type": "display_data",
          "data": {
            "text/markdown": "The last step is to verify that each new point is on the line L' with the following operation.",
            "text/plain": [
              "<IPython.core.display.Markdown object>"
            ]
          },
          "metadata": {
            "tags": []
          }
        },
        {
          "output_type": "stream",
          "text": [
            "\n",
            "\n"
          ],
          "name": "stdout"
        },
        {
          "output_type": "display_data",
          "data": {
            "text/latex": "${L'^T}P' = {P'^T}L' = 0$",
            "text/plain": [
              "<IPython.core.display.Latex object>"
            ]
          },
          "metadata": {
            "tags": []
          }
        },
        {
          "output_type": "stream",
          "text": [
            "\n",
            "\n"
          ],
          "name": "stdout"
        },
        {
          "output_type": "display_data",
          "data": {
            "text/latex": "$\\displaystyle {L'^T}P1' = \\left[\\begin{matrix}l1' x1' + l2' y1' + l3' z1'\\end{matrix}\\right] = 0$",
            "text/plain": [
              "Eq(Eq({L'^T}P1', Matrix([[l1'*x1' + l2'*y1' + l3'*z1']])), 0)"
            ]
          },
          "metadata": {
            "tags": []
          }
        },
        {
          "output_type": "stream",
          "text": [
            "\n",
            "\n"
          ],
          "name": "stdout"
        },
        {
          "output_type": "display_data",
          "data": {
            "text/latex": "$\\displaystyle {L'^T}P2' = \\left[\\begin{matrix}l1' x2' + l2' y2' + l3' z2'\\end{matrix}\\right] = 0$",
            "text/plain": [
              "Eq(Eq({L'^T}P2', Matrix([[l1'*x2' + l2'*y2' + l3'*z2']])), 0)"
            ]
          },
          "metadata": {
            "tags": []
          }
        },
        {
          "output_type": "stream",
          "text": [
            "\n",
            "\n"
          ],
          "name": "stdout"
        },
        {
          "output_type": "display_data",
          "data": {
            "text/latex": "$\\displaystyle {L'^T}P3' = \\left[\\begin{matrix}l1' x3' + l2' y3' + l3' z3'\\end{matrix}\\right] = 0$",
            "text/plain": [
              "Eq(Eq({L'^T}P3', Matrix([[l1'*x3' + l2'*y3' + l3'*z3']])), 0)"
            ]
          },
          "metadata": {
            "tags": []
          }
        },
        {
          "output_type": "stream",
          "text": [
            "\n",
            "\n"
          ],
          "name": "stdout"
        },
        {
          "output_type": "display_data",
          "data": {
            "text/latex": "$\\textbf{Conclusion:}$",
            "text/plain": [
              "<IPython.core.display.Latex object>"
            ]
          },
          "metadata": {
            "tags": []
          }
        },
        {
          "output_type": "display_data",
          "data": {
            "text/markdown": "Since all the results obtained are equal to zero, we have proven that all the new points are on the new line.",
            "text/plain": [
              "<IPython.core.display.Markdown object>"
            ]
          },
          "metadata": {
            "tags": []
          }
        }
      ]
    },
    {
      "cell_type": "markdown",
      "metadata": {
        "id": "1QpMmAAAFMBK"
      },
      "source": [
        "# Exercise 2.1, 2.2 \\& 2.3"
      ]
    },
    {
      "cell_type": "code",
      "metadata": {
        "id": "jN9bVrR_F4-W"
      },
      "source": [
        "\"\"\" \n",
        "****************************************************************************************************\n",
        "**************************** definition of functions for exercise 2.0 ******************************\n",
        "****************************************************************************************************\n",
        "\"\"\"\n",
        "\n",
        "def image_rebound(mm,nn,hh):\n",
        "    W = np.array([[1, nn, nn, 1 ],[1, 1, mm, mm],[ 1, 1, 1, 1]])\n",
        "    ws = np.dot(hh,W)\n",
        "    xx = np.vstack((ws[2,:],ws[2,:],ws[2,:]))\n",
        "    wsX =  np.round(ws/xx)\n",
        "    bounds = [np.min(wsX[1,:]), np.max(wsX[1,:]),np.min(wsX[0,:]), np.max(wsX[0,:])]\n",
        "    return bounds\n",
        "\n",
        "def make_transform(imm,hh):   \n",
        "    mm,nn = imm.shape[0],imm.shape[0]\n",
        "    bounds = image_rebound(mm,nn,hh)\n",
        "    nrows = bounds[1] - bounds[0]\n",
        "    ncols = bounds[3] - bounds[2]\n",
        "    s = max(nn,mm)/max(nrows,ncols)\n",
        "    scale = np.array([[s, 0, 0],[0, s, 0], [0, 0, 1]])\n",
        "    trasf = scale@hh\n",
        "    trasf_prec =  np.linalg.inv(trasf)\n",
        "    bounds = image_rebound(mm,nn,trasf)\n",
        "    nrows = (bounds[1] - bounds[0]).astype(np.int)\n",
        "    ncols = (bounds[3] - bounds[2]).astype(np.int)\n",
        "    return bounds, nrows, ncols, trasf, trasf_prec\n",
        "\n",
        "def normalize_points(zz):  # lista di punti 4x3\n",
        "    uu = np.transpose(zz) #.T\n",
        "    ff_xx = np.ones(uu.shape)# 3x4\n",
        "    indices, = np.where(abs(uu[2,:]) > 10**-12)\n",
        "    ff_xx[0:2,indices] = uu[0:2,indices]/uu[2,indices]\n",
        "    ff_xx[2,indices]  = 1.\n",
        "    mu = np.mean(ff_xx[0:2,:],axis = 1)\n",
        "    mu_r = np.zeros((mu.shape[0],ff_xx.shape[1]))\n",
        "    for ii in range(ff_xx.shape[1]):\n",
        "        mu_r[:,ii] = mu\n",
        "    mu_dist = np.mean((np.sum((ff_xx[0:2] - mu_r)**2,axis =0))**0.5)\n",
        "    scale =  (2**0.5/mu_dist)\n",
        "    s0 = -scale*mu[0]\n",
        "    s1 = -scale*mu[1]\n",
        "    S = np.array([[scale, 0, s0],[0, scale, s1], [0, 0, 1]])\n",
        "    normalized_zz = S@ff_xx\n",
        "    return normalized_zz, S\n",
        "\n",
        "def get_new_image(nrows,ncols,imm,bounds,trasf_prec,nsamples):\n",
        "    xx  = np.linspace(1, ncols, ncols)\n",
        "    yy  = np.linspace(1, nrows, nrows)\n",
        "    [xi,yi] = np.meshgrid(xx,yy) \n",
        "    a0 = np.reshape(xi, -1,order ='F')+bounds[2]\n",
        "    a1 = np.reshape(yi,-1, order ='F')+bounds[0]\n",
        "    a2 = np.ones((ncols*nrows))\n",
        "    uv = np.vstack((a0.T,a1.T,a2.T)) \n",
        "    new_trasf = np.dot(trasf_prec,uv)\n",
        "    val_normalization = np.vstack((new_trasf[2,:],new_trasf[2,:],new_trasf[2,:]))\n",
        "   \n",
        "    ### The new transformation\n",
        "    newT = new_trasf/val_normalization\n",
        "    \n",
        "    ### \n",
        "    xi = np.reshape(newT[0,:],(nrows,ncols),order ='F') \n",
        "    yi = np.reshape(newT[1,:],(nrows,ncols),order ='F')\n",
        "    cols = imm.shape[1]\n",
        "    rows = imm.shape[0]\n",
        "    xxq  = np.linspace(1, rows, rows).astype(np.int)\n",
        "    yyq  = np.linspace(1, cols, cols).astype(np.int)\n",
        "    [x,y] = np.meshgrid(yyq,xxq) \n",
        "    x = (x - 1).astype(np.int) #Offset x and y relative to region origin.\n",
        "    y = (y - 1).astype(np.int) \n",
        "        \n",
        "    ix = np.random.randint(im.shape[1], size=nsamples)\n",
        "    iy = np.random.randint(im.shape[0], size=nsamples)\n",
        "    samples = im[iy,ix]\n",
        "       \n",
        "    int_im = griddata((iy,ix), samples, (yi,xi))\n",
        "\n",
        "    return int_im\n",
        "\n",
        "def round_(x):\n",
        "  return round(x,6)\n",
        "\n",
        "\"\"\" \n",
        "****************************************************************************************************\n",
        "**************************************** Simpy symbols *********************************************\n",
        "****************************************************************************************************\n",
        "\"\"\"\n",
        "\n",
        "x1,y1,x2,y2,x3,y3,z1,z2,z3,x4,y4,z4,l1,l2,l3,l4 = sp.symbols('x1,y1,x2,y2,x3,y3,z1,z2,z3,x4,y4,z4,l1,l2,l3,l4', real = True)\n",
        "x1p,y1p,x2p,y2p,x3p,y3p,z1p,z2p,z3p,x4p,y4p,z4p = sp.symbols(\"x1',y1',x2',y2',x3',y3',z1',z2',z3',x4',y4',z4'\", real = True)\n",
        "P1,P2,P3,P4 = sp.symbols(\"P1,P2,P3,P4\", real = True)\n",
        "L1,L2,L3,L4 = sp.symbols(\"L1,L2,L3,L4\", real = True)\n",
        "X1p,X2p,X3p,X4p = sp.symbols(\"P1',P2',P3',P4'\", real = True)\n",
        "Lp,l1p,l2p,l3p,l4p = sp.symbols(\"L',l1',l2',l3',l4'\", real = True)\n",
        "\n",
        "L = Matrix([l1,l2,l3,l4])\n",
        "P1 = Matrix([x1,y1,z1])\n",
        "P2 = Matrix([x2,y2,z2])\n",
        "P3 = Matrix([x3,y3,z3])\n",
        "P4 = Matrix([x4,y4,z4])\n",
        "\n",
        "# vanishing points and line\n",
        "v1x,v1y,v1z,v2x,v2y,v2z,vlx,vly,vlz = sp.symbols('v_{1x},v_{1y},v_{1z},v_{2x},v_{2y},v_{2z},v_{lx},v_{ly},v_{lz} ', real = True)\n",
        "v1,v2,vl = sp.symbols('V_{1},V_{2},VL', real = True)\n",
        "v1_matrix = Matrix([v1x,v1y,v1z])\n",
        "v2_matrix = Matrix([v2x,v2y,v2z])\n",
        "vl_matrix = Matrix([vlx,vly,vlz])\n",
        "\n",
        "# homographies\n",
        "alpha,s1,s2,t,v,V,t1,t2,v1h,v2h = sp.symbols('alpha,s1,s2,t,v,V,t1,t2,v1,v2', real = True) # symbols for H\n",
        "h11,h12,h13,h21,h22,h23,h31,h32,h33 = sp.symbols('h11,h12,h13,h21,h22,h23,h31,h32,h33', real = True)\n",
        "\n",
        "Hp,Ha,H = sp.symbols(\"H_{p},H_{a},H\", real = True)\n",
        "Hp = sp.Matrix([[h11, h12, h13],[h21, h22, h23],[h31, h32, h33]])\n",
        " \n",
        "t = Matrix([t1,t2])\n",
        "v = Matrix([v1h,v2h])\n",
        "\n",
        "t_values = t.subs([(t1, 1.5), (t2, 1.3)])\n",
        "alpha_value = alpha.subs([(alpha, 30)])\n",
        "s1_value = s1.subs([(s1, 2.0)])\n",
        "s2_value = s2.subs([(s2, 0.5)])\n",
        "v_values = v.subs([(v1h, 0.0), (v2h, 0.0)])\n",
        "\n",
        "\n",
        "cos_alpha = round(math.cos(math.radians(alpha_value)), 3)\n",
        "sin_alpha = round(math.sin(math.radians(alpha_value)), 3)\n",
        "\n",
        "Ha = sp.Matrix([[h11, h12, h13],[h21, h22, h23],[h31, h32, h33]])\n",
        "Ha_values = Ha.subs([(h11,cos_alpha*s1_value), (h12,-(sin_alpha*s2_value)), (h13,t_values[0]), (h21,sin_alpha*s2_value), (h22,cos_alpha*s1_value), (h23,t_values[1]), (h31,v_values[0]), (h32,v_values[1]), (h33,1)])\n",
        " \n"
      ],
      "execution_count": 8,
      "outputs": []
    },
    {
      "cell_type": "code",
      "metadata": {
        "colab": {
          "base_uri": "https://localhost:8080/",
          "height": 1000
        },
        "id": "XEwcriwK4b0V",
        "outputId": "17da0bca-c24f-4be6-a882-832e1f6212c0"
      },
      "source": [
        "\"\"\" \n",
        "****************************************************************************************************\n",
        "************************************ Simpy implementation ******************************************\n",
        "****************************************************************************************************\n",
        "\"\"\"\n",
        "\n",
        "NORMALIZE = true\n",
        "\n",
        "# points definition\n",
        "scale_1 = 50\n",
        "points = [[7.81*scale_1 ,509 -(3.33*scale_1),1],[9.95*scale_1, 509 -(2.17*scale_1),1],[11.66*scale_1, 509 -(3.34*scale_1),1],[9.55*scale_1, 509 -(4.28*scale_1),1]] #GEOGE\n",
        "\n",
        "x_points= [];y_points=[]\n",
        "for point in points:\n",
        "  x_points.append(point[0])\n",
        "  y_points.append(point[1])\n",
        "\n",
        "x_points.append(points[0][0])\n",
        "y_points.append(points[0][1])\n",
        "\n",
        "P1_values = P1.subs([(x1, x_points[0]), (y1, y_points[0]), (z1,1)])\n",
        "\n",
        "P2_values = P2.subs([(x2, x_points[1]), (y2, y_points[1]), (z2,1)])\n",
        "\n",
        "P3_values = P3.subs([(x3, x_points[2]), (y3, y_points[2]), (z3,1)])\n",
        "\n",
        "P4_values = P4.subs([(x4, x_points[3]), (y4, y_points[3]), (z4,1)])\n",
        "\n",
        "display(Latex('$\\\\bold{Exercise: 2.1-2.2-2.3}$'))\n",
        "print(\"\\n\")\n",
        "display(Markdown(\"The objective of this exercise is to recover parallel lines on the image, in a way of having tiles that appear parallel.\"))\n",
        "display(Markdown(\"The first step of this exercise consists of defining four segments on the parallel sides of an arbitrary tile, that are present in the following image:\"))\n",
        "print(\"\\n\");\n",
        "image = Image.open('./tiles.PNG')\n",
        "im = np.array(image, dtype=np.uint8)\n",
        "plt.imshow(im)\n",
        "plt.show()\n",
        "\n",
        "print(\"\\n\");\n",
        "display(Markdown(\"Two segments are in one direction (parallel in the not distorted image) and the others 2 are orthogonal to those ones.\"))\n",
        "display(Markdown(\"In order to define these segments we need to select four points on the image, that are:\"))\n",
        "print(\"\\n\")\n",
        "display(Eq(Eq(S('P1'), P1, evaluate=False), P1_values, evaluate=False))\n",
        "print(\"\\n\")\n",
        "display(Eq(Eq(S('P2'), P2, evaluate=False), P2_values, evaluate=False))\n",
        "print(\"\\n\")\n",
        "display(Eq(Eq(S('P3'), P3, evaluate=False), P3_values, evaluate=False))\n",
        "print(\"\\n\")\n",
        "display(Eq(Eq(S('P4'), P4, evaluate=False), P4_values, evaluate=False))\n",
        "print(\"\\n\")\n",
        "\n",
        "display(Markdown(\"Segments and points are shown below directly on the image\"))\n",
        "print(\"\\n\");\n",
        "plt.imshow(im)\n",
        "plt.plot(x_points,y_points,label='points', marker='o', markersize=5, color=\"green\")\n",
        "plt.show()\n",
        "\n",
        "if NORMALIZE:\n",
        "  points, T1 = normalize_points(points)\n",
        "  points = np.transpose(points)\n",
        "print(\"\\n\");\n",
        "\n",
        "display(Markdown(\"These Segments belongs to a set of lines that we need to compute.\"))\n",
        "display(Markdown(\"Before compute analytically the calculus of the lines matrices, we normalize the points obtaining the following result:\"))\n",
        "P1_values = P1.subs([(x1, round_(points[0][0])), (y1, round_(points[0][1])), (z1,round_(points[0][2]))])\n",
        "P2_values = P2.subs([(x2, round_(points[1][0])), (y2, round_(points[1][1])), (z2,round_(points[1][2]))])\n",
        "P3_values = P3.subs([(x3, round_(points[2][0])), (y3, round_(points[2][1])), (z3,round_(points[2][2]))])\n",
        "P4_values = P4.subs([(x4, round_(points[3][0])), (y4, round_(points[3][1])), (z4,round_(points[3][2]))])\n",
        "print(\"\\n\")\n",
        "display(Eq(Eq(S('P1'), P1, evaluate=False), P1_values, evaluate=False))\n",
        "print(\"\\n\")\n",
        "display(Eq(Eq(S('P2'), P2, evaluate=False), P2_values, evaluate=False))\n",
        "print(\"\\n\")\n",
        "display(Eq(Eq(S('P3'), P3, evaluate=False), P3_values, evaluate=False))\n",
        "print(\"\\n\")\n",
        "display(Eq(Eq(S('P4'), P4, evaluate=False), P4_values, evaluate=False))\n",
        "print(\"\\n\")\n",
        "\n",
        "\n",
        "display(Markdown(\"The corresponding lines are then:\"))\n",
        "print(\"\\n\")\n",
        "result_line1 = P1_values.cross(P2_values).evalf(6)\n",
        "display(Latex(r'${L_1} = \\vec{P_1}\\times\\vec{P_2}$'))\n",
        "display(Eq(P1.cross(P2), result_line1, evaluate=False))\n",
        "print(\"\\n\")\n",
        "\n",
        "result_line2 = P4_values.cross(P3_values).evalf(6)\n",
        "display(Latex(r'${L_2} = \\vec{P_4}\\times\\vec{P_3}$'))\n",
        "display(Eq(P4.cross(P3), result_line2, evaluate=False))\n",
        "print(\"\\n\")\n",
        "\n",
        "result_line3 = P4_values.cross(P1_values).evalf(6)\n",
        "display(Latex(r'${L_3} = \\vec{P_4}\\times\\vec{P_1}$'))\n",
        "display(Eq(P4.cross(P1), result_line3, evaluate=False))\n",
        "print(\"\\n\")\n",
        "\n",
        "result_line4 = P3_values.cross(P2_values).evalf(6)\n",
        "display(Latex(r'${L_4} = \\vec{P_3}\\times\\vec{P_2}$'))\n",
        "display(Eq(P3.cross(P2), result_line4, evaluate=False))\n",
        "print(\"\\n\")\n",
        "\n",
        "line_1 = np.cross(points[0],points[1])\n",
        "line_2 = np.cross(points[3],points[2])\n",
        "line_3 = np.cross(points[3], points[0])\n",
        "line_4 = np.cross(points[2], points[1])\n",
        "\n",
        "display(Markdown(\"The subsequent steps are the computation of the two vanishing points and the corresponding vanishing line.\"))\n",
        "display(Markdown(\"Starting from the vanishing points, we have:\"))\n",
        "\n",
        "print(\"\\n\")\n",
        "vanishing_point1_result = result_line2.cross(result_line1).evalf(6)\n",
        "display(Latex(r'${V_1} = \\vec{L_2}\\times\\vec{L_1}$'))\n",
        "display(Eq(Eq(v1,v1_matrix,evaluate=false),vanishing_point1_result, evaluate=False))\n",
        "print(\"\\n\")\n",
        "vanishing_point2_result = result_line4.cross(result_line3).evalf(6)\n",
        "display(Latex(r'${V_2} = \\vec{L_4}\\times\\vec{L_3}$'))\n",
        "display(Eq(Eq(v2,v2_matrix,evaluate=false),vanishing_point2_result, evaluate=False))\n",
        "print(\"\\n\")\n",
        "\n",
        "display(Markdown(\"We define the vanishing line as the line that lies on V1 and V2.\"))\n",
        "print(\"\\n\")\n",
        "vanishing_line_result = (vanishing_point1_result.cross(vanishing_point2_result)).evalf(6)\n",
        "display(Latex(r'${V_L} = \\vec{V_1}\\times\\vec{V_2}$'))\n",
        "display(Eq(Eq(vl,vl_matrix,evaluate=false),vanishing_line_result.evalf(6), evaluate=False))\n",
        "\n",
        "vanishing_point_1 = np.cross(line_2, line_1)\n",
        "vanishing_point_2 =  np.cross(line_4, line_3)\n",
        "vanishing_line =  np.cross(vanishing_point_1, vanishing_point_2)\n",
        "\n",
        "print(\"\\n\")\n",
        "display(Markdown(\"Having obtained the vanishing line, it's now possible to compute the projectivity transformation Hp.\"))\n",
        "print(\"\\n\")\n",
        "\n",
        "Hp_values = Hp.subs([(h11,1), (h12,0), (h13,0), (h21,0), (h22,1), (h23,0), (h31,round_(vanishing_line[0])), (h32,round_(vanishing_line[1])), (h33,round_(vanishing_line[2]))])\n",
        "display(Eq(Eq(S('H_p'),Hp,evaluate=false),Hp_values, evaluate=False))\n",
        "print(\"\\n\")\n",
        "display(Markdown(\"Then we define:\"))\n",
        "display(Latex(r'$ H = H_{a}  H_{p}$'))\n",
        "display(Markdown(\"With Ha an affine transformation. We want to test that:\"))\n",
        "display(Latex(r'$ H^{-T}  l^{T} = (0,0,1)^{T}$'))\n",
        "display(Markdown(\"Therefore, given the fact that lines transform covariantly, we want to show that H maps the vanishing line to the line at infinity.\"))\n",
        "print(\"\\n\")\n",
        "display(Markdown(\"Ha has been arbitrarily  chosen: (this matrix has been already used in the other exercise)\"))\n",
        "display(Eq(Eq(S('Ha'), Ha, evaluate=False), Ha_values, evaluate=False))\n",
        "print(\"\\n\")\n",
        "display(Markdown(\"H is carried out and then computed this test:\"))\n",
        "print(\"\\n\")\n",
        "display(Eq(S('H'), (Ha_values*Hp_values).evalf(6), evaluate=False))\n",
        "\n",
        "homography_p = np.array([[1,0,0],[0,1,0], vanishing_line.tolist()])\n",
        "homography_a = np.array([[1.732, -0.25, 1.5],[0.25, 1.732, 1.3],[0.0,0.0,1.0]])\n",
        "homography = homography_a.dot(homography_p)\n",
        "\n",
        "h = np.array(homography_p)\n",
        "h = np.linalg.inv(h)\n",
        "h = np.matrix.transpose(h)\n",
        "\n",
        "l = np.matrix.transpose(vanishing_line)\n",
        "test = np.dot(h,l)\n",
        "test = np.round(test)\n",
        "\n",
        "display(Eq(Symbol('{H^{-T}}l^{T}'), Matrix([test[0],test[1],test[2]]), evaluate=False))\n",
        "print(\"\\n\")\n",
        "display(Markdown(\"Hence, the test is passed.\"))\n",
        "print(\"\\n\")\n",
        "display(Markdown(\"As the last step before applying the homography Hp we denormalize and transform it in homogeneous coordinates\"))\n",
        "print(\"\\n\")\n",
        "\n",
        "l = vanishing_line @ T1  # vanishing line normalized\n",
        "\n",
        "l[0] = l[0]/l[2];l[1] = l[1]/l[2];l[2] = l[2]/l[2];\n",
        "\n",
        "homography_p = np.array([[1, 0, 0],\n",
        "               [0, 1, 0],\n",
        "               [l[0], l[1], l[2]]])\n",
        "\n",
        "Hp_values = Hp.subs([(h11,1), (h12,0), (h13,0), (h21,0), (h22,1), (h23,0), (h31,l[0]), (h32,l[1]), (h33,l[2])])\n",
        "display(Eq(Eq(S('H_p'),Hp,evaluate=false),Hp_values.evalf(6), evaluate=False))\n",
        "print(\"\\n\")\n",
        "display(Markdown(\"Analytically what we want to find is the real world image X, but what we actually compute is the affinely rectified image Xa (see next point).\"))\n",
        "display(Latex(r\"$ Hp \\space Xa = X' \\rightarrow Xa = Hp^{-1} \\space X' $\"))\n",
        "display(Markdown(\"With X' the distorted image taken as input.\"))\n",
        "print(\"\\n\")\n",
        "\n",
        "display(Latex(\"$\\\\textbf{Conclusion:}$\"))\n",
        "print(\"\\n\")\n",
        "display(Markdown(\"To conclude we are going to apply the projective transformation, in two different ways.\"))\n",
        "display(Markdown('The first using the DLT algorithm, and the second using the predefined function called: \"warp\" by skimage.'))\n",
        "print(\"\\n\")\n",
        "\n",
        "im = np.array(image, dtype=np.uint8)\n",
        "\n",
        "display(Markdown(\"respectively, the first solution is the following:\"))\n",
        "bounds, nrows, ncols,  trasf, trasf_prec = make_transform(im,homography_p) \n",
        "\n",
        "nn,mm  = im.shape[0],im.shape[0]\n",
        "if max(nn,mm)>1000:\n",
        "    kk =6\n",
        "else: kk =5\n",
        "nsamples = 10**kk         \n",
        "int_im = get_new_image(nrows,ncols,im,bounds,trasf_prec,nsamples)\n",
        "\n",
        "plt.imshow(int_im.astype(np.uint8))\n",
        "plt.show()\n",
        "\n",
        "print(\"\\n\")\n",
        "\n",
        "tform = tf.ProjectiveTransform(matrix= np.array(homography_p))\n",
        "warped = skimage.transform.warp(image, tform.inverse) # Xa Hp = X -> Xa = Hp^-1 X\n",
        "warped = warped[0:117,0:700,:]\n",
        "display(Markdown(\"While the second is this other one:\"))\n",
        "plt.imshow(warped)\n",
        "plt.show()\n",
        "\n",
        "\n"
      ],
      "execution_count": 9,
      "outputs": [
        {
          "output_type": "display_data",
          "data": {
            "text/latex": "$\\bold{Exercise: 2.1-2.2-2.3}$",
            "text/plain": [
              "<IPython.core.display.Latex object>"
            ]
          },
          "metadata": {
            "tags": []
          }
        },
        {
          "output_type": "stream",
          "text": [
            "\n",
            "\n"
          ],
          "name": "stdout"
        },
        {
          "output_type": "display_data",
          "data": {
            "text/markdown": "The objective of this exercise is to recover parallel lines on the image, in a way of having tiles that appear parallel.",
            "text/plain": [
              "<IPython.core.display.Markdown object>"
            ]
          },
          "metadata": {
            "tags": []
          }
        },
        {
          "output_type": "display_data",
          "data": {
            "text/markdown": "The first step of this exercise consists of defining four segments on the parallel sides of an arbitrary tile, that are present in the following image:",
            "text/plain": [
              "<IPython.core.display.Markdown object>"
            ]
          },
          "metadata": {
            "tags": []
          }
        },
        {
          "output_type": "stream",
          "text": [
            "\n",
            "\n"
          ],
          "name": "stdout"
        },
        {
          "output_type": "display_data",
          "data": {
            "image/png": "[encoded data removed]",
            "text/plain": [
              "<Figure size 432x288 with 1 Axes>"
            ]
          },
          "metadata": {
            "tags": [],
            "needs_background": "light"
          }
        },
        {
          "output_type": "stream",
          "text": [
            "\n",
            "\n"
          ],
          "name": "stdout"
        },
        {
          "output_type": "display_data",
          "data": {
            "text/markdown": "Two segments are in one direction (parallel in the not distorted image) and the others 2 are orthogonal to those ones.",
            "text/plain": [
              "<IPython.core.display.Markdown object>"
            ]
          },
          "metadata": {
            "tags": []
          }
        },
        {
          "output_type": "display_data",
          "data": {
            "text/markdown": "In order to define these segments we need to select four points on the image, that are:",
            "text/plain": [
              "<IPython.core.display.Markdown object>"
            ]
          },
          "metadata": {
            "tags": []
          }
        },
        {
          "output_type": "stream",
          "text": [
            "\n",
            "\n"
          ],
          "name": "stdout"
        },
        {
          "output_type": "display_data",
          "data": {
            "text/latex": "$\\displaystyle P_{1} = \\left[\\begin{matrix}x_{1}\\\\y_{1}\\\\z_{1}\\end{matrix}\\right] = \\left[\\begin{matrix}390.5\\\\342.5\\\\1\\end{matrix}\\right]$",
            "text/plain": [
              "Eq(Eq(P1, Matrix([\n",
              "[x1],\n",
              "[y1],\n",
              "[z1]])), Matrix([\n",
              "[390.5],\n",
              "[342.5],\n",
              "[    1]]))"
            ]
          },
          "metadata": {
            "tags": []
          }
        },
        {
          "output_type": "stream",
          "text": [
            "\n",
            "\n"
          ],
          "name": "stdout"
        },
        {
          "output_type": "display_data",
          "data": {
            "text/latex": "$\\displaystyle P_{2} = \\left[\\begin{matrix}x_{2}\\\\y_{2}\\\\z_{2}\\end{matrix}\\right] = \\left[\\begin{matrix}497.5\\\\400.5\\\\1\\end{matrix}\\right]$",
            "text/plain": [
              "Eq(Eq(P2, Matrix([\n",
              "[x2],\n",
              "[y2],\n",
              "[z2]])), Matrix([\n",
              "[497.5],\n",
              "[400.5],\n",
              "[    1]]))"
            ]
          },
          "metadata": {
            "tags": []
          }
        },
        {
          "output_type": "stream",
          "text": [
            "\n",
            "\n"
          ],
          "name": "stdout"
        },
        {
          "output_type": "display_data",
          "data": {
            "text/latex": "$\\displaystyle P_{3} = \\left[\\begin{matrix}x_{3}\\\\y_{3}\\\\z_{3}\\end{matrix}\\right] = \\left[\\begin{matrix}583.0\\\\342.0\\\\1\\end{matrix}\\right]$",
            "text/plain": [
              "Eq(Eq(P3, Matrix([\n",
              "[x3],\n",
              "[y3],\n",
              "[z3]])), Matrix([\n",
              "[583.0],\n",
              "[342.0],\n",
              "[    1]]))"
            ]
          },
          "metadata": {
            "tags": []
          }
        },
        {
          "output_type": "stream",
          "text": [
            "\n",
            "\n"
          ],
          "name": "stdout"
        },
        {
          "output_type": "display_data",
          "data": {
            "text/latex": "$\\displaystyle P_{4} = \\left[\\begin{matrix}x_{4}\\\\y_{4}\\\\z_{4}\\end{matrix}\\right] = \\left[\\begin{matrix}477.5\\\\295.0\\\\1\\end{matrix}\\right]$",
            "text/plain": [
              "Eq(Eq(P4, Matrix([\n",
              "[x4],\n",
              "[y4],\n",
              "[z4]])), Matrix([\n",
              "[477.5],\n",
              "[295.0],\n",
              "[    1]]))"
            ]
          },
          "metadata": {
            "tags": []
          }
        },
        {
          "output_type": "stream",
          "text": [
            "\n",
            "\n"
          ],
          "name": "stdout"
        },
        {
          "output_type": "display_data",
          "data": {
            "text/markdown": "Segments and points are shown below directly on the image",
            "text/plain": [
              "<IPython.core.display.Markdown object>"
            ]
          },
          "metadata": {
            "tags": []
          }
        },
        {
          "output_type": "stream",
          "text": [
            "\n",
            "\n"
          ],
          "name": "stdout"
        },
        {
          "output_type": "display_data",
          "data": {
            "image/png": "[encoded data removed]",
            "text/plain": [
              "<Figure size 432x288 with 1 Axes>"
            ]
          },
          "metadata": {
            "tags": [],
            "needs_background": "light"
          }
        },
        {
          "output_type": "stream",
          "text": [
            "\n",
            "\n"
          ],
          "name": "stdout"
        },
        {
          "output_type": "display_data",
          "data": {
            "text/markdown": "These Segments belongs to a set of lines that we need to compute.",
            "text/plain": [
              "<IPython.core.display.Markdown object>"
            ]
          },
          "metadata": {
            "tags": []
          }
        },
        {
          "output_type": "display_data",
          "data": {
            "text/markdown": "Before compute analytically the calculus of the lines matrices, we normalize the points obtaining the following result:",
            "text/plain": [
              "<IPython.core.display.Markdown object>"
            ]
          },
          "metadata": {
            "tags": []
          }
        },
        {
          "output_type": "stream",
          "text": [
            "\n",
            "\n"
          ],
          "name": "stdout"
        },
        {
          "output_type": "display_data",
          "data": {
            "text/latex": "$\\displaystyle P_{1} = \\left[\\begin{matrix}x_{1}\\\\y_{1}\\\\z_{1}\\end{matrix}\\right] = \\left[\\begin{matrix}-1.82223\\\\-0.047147\\\\1.0\\end{matrix}\\right]$",
            "text/plain": [
              "Eq(Eq(P1, Matrix([\n",
              "[x1],\n",
              "[y1],\n",
              "[z1]])), Matrix([\n",
              "[ -1.82223],\n",
              "[-0.047147],\n",
              "[      1.0]]))"
            ]
          },
          "metadata": {
            "tags": []
          }
        },
        {
          "output_type": "stream",
          "text": [
            "\n",
            "\n"
          ],
          "name": "stdout"
        },
        {
          "output_type": "display_data",
          "data": {
            "text/latex": "$\\displaystyle P_{2} = \\left[\\begin{matrix}x_{2}\\\\y_{2}\\\\z_{2}\\end{matrix}\\right] = \\left[\\begin{matrix}0.19566\\\\1.046662\\\\1.0\\end{matrix}\\right]$",
            "text/plain": [
              "Eq(Eq(P2, Matrix([\n",
              "[x2],\n",
              "[y2],\n",
              "[z2]])), Matrix([\n",
              "[ 0.19566],\n",
              "[1.046662],\n",
              "[     1.0]]))"
            ]
          },
          "metadata": {
            "tags": []
          }
        },
        {
          "output_type": "stream",
          "text": [
            "\n",
            "\n"
          ],
          "name": "stdout"
        },
        {
          "output_type": "display_data",
          "data": {
            "text/latex": "$\\displaystyle P_{3} = \\left[\\begin{matrix}x_{3}\\\\y_{3}\\\\z_{3}\\end{matrix}\\right] = \\left[\\begin{matrix}1.808086\\\\-0.056576\\\\1.0\\end{matrix}\\right]$",
            "text/plain": [
              "Eq(Eq(P3, Matrix([\n",
              "[x3],\n",
              "[y3],\n",
              "[z3]])), Matrix([\n",
              "[ 1.808086],\n",
              "[-0.056576],\n",
              "[      1.0]]))"
            ]
          },
          "metadata": {
            "tags": []
          }
        },
        {
          "output_type": "stream",
          "text": [
            "\n",
            "\n"
          ],
          "name": "stdout"
        },
        {
          "output_type": "display_data",
          "data": {
            "text/latex": "$\\displaystyle P_{4} = \\left[\\begin{matrix}x_{4}\\\\y_{4}\\\\z_{4}\\end{matrix}\\right] = \\left[\\begin{matrix}-0.181516\\\\-0.942939\\\\1.0\\end{matrix}\\right]$",
            "text/plain": [
              "Eq(Eq(P4, Matrix([\n",
              "[x4],\n",
              "[y4],\n",
              "[z4]])), Matrix([\n",
              "[-0.181516],\n",
              "[-0.942939],\n",
              "[      1.0]]))"
            ]
          },
          "metadata": {
            "tags": []
          }
        },
        {
          "output_type": "stream",
          "text": [
            "\n",
            "\n"
          ],
          "name": "stdout"
        },
        {
          "output_type": "display_data",
          "data": {
            "text/markdown": "The corresponding lines are then:",
            "text/plain": [
              "<IPython.core.display.Markdown object>"
            ]
          },
          "metadata": {
            "tags": []
          }
        },
        {
          "output_type": "stream",
          "text": [
            "\n",
            "\n"
          ],
          "name": "stdout"
        },
        {
          "output_type": "display_data",
          "data": {
            "text/latex": "${L_1} = \\vec{P_1}\\times\\vec{P_2}$",
            "text/plain": [
              "<IPython.core.display.Latex object>"
            ]
          },
          "metadata": {
            "tags": []
          }
        },
        {
          "output_type": "display_data",
          "data": {
            "text/latex": "$\\displaystyle \\left[\\begin{matrix}y_{1} z_{2} - y_{2} z_{1}\\\\- x_{1} z_{2} + x_{2} z_{1}\\\\x_{1} y_{2} - x_{2} y_{1}\\end{matrix}\\right] = \\left[\\begin{matrix}-1.09381\\\\2.01789\\\\-1.89803\\end{matrix}\\right]$",
            "text/plain": [
              "Eq(Matrix([\n",
              "[ y1*z2 - y2*z1],\n",
              "[-x1*z2 + x2*z1],\n",
              "[ x1*y2 - x2*y1]]), Matrix([\n",
              "[-1.09381],\n",
              "[ 2.01789],\n",
              "[-1.89803]]))"
            ]
          },
          "metadata": {
            "tags": []
          }
        },
        {
          "output_type": "stream",
          "text": [
            "\n",
            "\n"
          ],
          "name": "stdout"
        },
        {
          "output_type": "display_data",
          "data": {
            "text/latex": "${L_2} = \\vec{P_4}\\times\\vec{P_3}$",
            "text/plain": [
              "<IPython.core.display.Latex object>"
            ]
          },
          "metadata": {
            "tags": []
          }
        },
        {
          "output_type": "display_data",
          "data": {
            "text/latex": "$\\displaystyle \\left[\\begin{matrix}- y_{3} z_{4} + y_{4} z_{3}\\\\x_{3} z_{4} - x_{4} z_{3}\\\\- x_{3} y_{4} + x_{4} y_{3}\\end{matrix}\\right] = \\left[\\begin{matrix}-0.886363\\\\1.9896\\\\1.71518\\end{matrix}\\right]$",
            "text/plain": [
              "Eq(Matrix([\n",
              "[-y3*z4 + y4*z3],\n",
              "[ x3*z4 - x4*z3],\n",
              "[-x3*y4 + x4*y3]]), Matrix([\n",
              "[-0.886363],\n",
              "[   1.9896],\n",
              "[  1.71518]]))"
            ]
          },
          "metadata": {
            "tags": []
          }
        },
        {
          "output_type": "stream",
          "text": [
            "\n",
            "\n"
          ],
          "name": "stdout"
        },
        {
          "output_type": "display_data",
          "data": {
            "text/latex": "${L_3} = \\vec{P_4}\\times\\vec{P_1}$",
            "text/plain": [
              "<IPython.core.display.Latex object>"
            ]
          },
          "metadata": {
            "tags": []
          }
        },
        {
          "output_type": "display_data",
          "data": {
            "text/latex": "$\\displaystyle \\left[\\begin{matrix}- y_{1} z_{4} + y_{4} z_{1}\\\\x_{1} z_{4} - x_{4} z_{1}\\\\- x_{1} y_{4} + x_{4} y_{1}\\end{matrix}\\right] = \\left[\\begin{matrix}-0.895792\\\\-1.64071\\\\-1.70969\\end{matrix}\\right]$",
            "text/plain": [
              "Eq(Matrix([\n",
              "[-y1*z4 + y4*z1],\n",
              "[ x1*z4 - x4*z1],\n",
              "[-x1*y4 + x4*y1]]), Matrix([\n",
              "[-0.895792],\n",
              "[ -1.64071],\n",
              "[ -1.70969]]))"
            ]
          },
          "metadata": {
            "tags": []
          }
        },
        {
          "output_type": "stream",
          "text": [
            "\n",
            "\n"
          ],
          "name": "stdout"
        },
        {
          "output_type": "display_data",
          "data": {
            "text/latex": "${L_4} = \\vec{P_3}\\times\\vec{P_2}$",
            "text/plain": [
              "<IPython.core.display.Latex object>"
            ]
          },
          "metadata": {
            "tags": []
          }
        },
        {
          "output_type": "display_data",
          "data": {
            "text/latex": "$\\displaystyle \\left[\\begin{matrix}- y_{2} z_{3} + y_{3} z_{2}\\\\x_{2} z_{3} - x_{3} z_{2}\\\\- x_{2} y_{3} + x_{3} y_{2}\\end{matrix}\\right] = \\left[\\begin{matrix}-1.10324\\\\-1.61243\\\\1.90352\\end{matrix}\\right]$",
            "text/plain": [
              "Eq(Matrix([\n",
              "[-y2*z3 + y3*z2],\n",
              "[ x2*z3 - x3*z2],\n",
              "[-x2*y3 + x3*y2]]), Matrix([\n",
              "[-1.10324],\n",
              "[-1.61243],\n",
              "[ 1.90352]]))"
            ]
          },
          "metadata": {
            "tags": []
          }
        },
        {
          "output_type": "stream",
          "text": [
            "\n",
            "\n"
          ],
          "name": "stdout"
        },
        {
          "output_type": "display_data",
          "data": {
            "text/markdown": "The subsequent steps are the computation of the two vanishing points and the corresponding vanishing line.",
            "text/plain": [
              "<IPython.core.display.Markdown object>"
            ]
          },
          "metadata": {
            "tags": []
          }
        },
        {
          "output_type": "display_data",
          "data": {
            "text/markdown": "Starting from the vanishing points, we have:",
            "text/plain": [
              "<IPython.core.display.Markdown object>"
            ]
          },
          "metadata": {
            "tags": []
          }
        },
        {
          "output_type": "stream",
          "text": [
            "\n",
            "\n"
          ],
          "name": "stdout"
        },
        {
          "output_type": "display_data",
          "data": {
            "text/latex": "${V_1} = \\vec{L_2}\\times\\vec{L_1}$",
            "text/plain": [
              "<IPython.core.display.Latex object>"
            ]
          },
          "metadata": {
            "tags": []
          }
        },
        {
          "output_type": "display_data",
          "data": {
            "text/latex": "$\\displaystyle V_{1} = \\left[\\begin{matrix}v_{1x}\\\\v_{1y}\\\\v_{1z}\\end{matrix}\\right] = \\left[\\begin{matrix}-7.23738\\\\-3.55843\\\\0.387661\\end{matrix}\\right]$",
            "text/plain": [
              "Eq(Eq(V_{1}, Matrix([\n",
              "[v_{1x}],\n",
              "[v_{1y}],\n",
              "[v_{1z}]])), Matrix([\n",
              "[-7.23738],\n",
              "[-3.55843],\n",
              "[0.387661]]))"
            ]
          },
          "metadata": {
            "tags": []
          }
        },
        {
          "output_type": "stream",
          "text": [
            "\n",
            "\n"
          ],
          "name": "stdout"
        },
        {
          "output_type": "display_data",
          "data": {
            "text/latex": "${V_2} = \\vec{L_4}\\times\\vec{L_3}$",
            "text/plain": [
              "<IPython.core.display.Latex object>"
            ]
          },
          "metadata": {
            "tags": []
          }
        },
        {
          "output_type": "display_data",
          "data": {
            "text/latex": "$\\displaystyle V_{2} = \\left[\\begin{matrix}v_{2x}\\\\v_{2y}\\\\v_{2z}\\end{matrix}\\right] = \\left[\\begin{matrix}5.87989\\\\-3.59136\\\\0.3657\\end{matrix}\\right]$",
            "text/plain": [
              "Eq(Eq(V_{2}, Matrix([\n",
              "[v_{2x}],\n",
              "[v_{2y}],\n",
              "[v_{2z}]])), Matrix([\n",
              "[ 5.87989],\n",
              "[-3.59136],\n",
              "[  0.3657]]))"
            ]
          },
          "metadata": {
            "tags": []
          }
        },
        {
          "output_type": "stream",
          "text": [
            "\n",
            "\n"
          ],
          "name": "stdout"
        },
        {
          "output_type": "display_data",
          "data": {
            "text/markdown": "We define the vanishing line as the line that lies on V1 and V2.",
            "text/plain": [
              "<IPython.core.display.Markdown object>"
            ]
          },
          "metadata": {
            "tags": []
          }
        },
        {
          "output_type": "stream",
          "text": [
            "\n",
            "\n"
          ],
          "name": "stdout"
        },
        {
          "output_type": "display_data",
          "data": {
            "text/latex": "${V_L} = \\vec{V_1}\\times\\vec{V_2}$",
            "text/plain": [
              "<IPython.core.display.Latex object>"
            ]
          },
          "metadata": {
            "tags": []
          }
        },
        {
          "output_type": "display_data",
          "data": {
            "text/latex": "$\\displaystyle VL = \\left[\\begin{matrix}v_{lx}\\\\v_{ly}\\\\v_{lz}\\end{matrix}\\right] = \\left[\\begin{matrix}0.0909142\\\\4.92612\\\\46.9153\\end{matrix}\\right]$",
            "text/plain": [
              "Eq(Eq(VL, Matrix([\n",
              "[v_{lx}],\n",
              "[v_{ly}],\n",
              "[v_{lz}]])), Matrix([\n",
              "[0.0909142],\n",
              "[  4.92612],\n",
              "[  46.9153]]))"
            ]
          },
          "metadata": {
            "tags": []
          }
        },
        {
          "output_type": "stream",
          "text": [
            "\n",
            "\n"
          ],
          "name": "stdout"
        },
        {
          "output_type": "display_data",
          "data": {
            "text/markdown": "Having obtained the vanishing line, it's now possible to compute the projectivity transformation Hp.",
            "text/plain": [
              "<IPython.core.display.Markdown object>"
            ]
          },
          "metadata": {
            "tags": []
          }
        },
        {
          "output_type": "stream",
          "text": [
            "\n",
            "\n"
          ],
          "name": "stdout"
        },
        {
          "output_type": "display_data",
          "data": {
            "text/latex": "$\\displaystyle H_{p} = \\left[\\begin{matrix}h_{11} & h_{12} & h_{13}\\\\h_{21} & h_{22} & h_{23}\\\\h_{31} & h_{32} & h_{33}\\end{matrix}\\right] = \\left[\\begin{matrix}1 & 0 & 0\\\\0 & 1 & 0\\\\0.090915 & 4.926131 & 46.915258\\end{matrix}\\right]$",
            "text/plain": [
              "Eq(Eq(H_p, Matrix([\n",
              "[h11, h12, h13],\n",
              "[h21, h22, h23],\n",
              "[h31, h32, h33]])), Matrix([\n",
              "[       1,        0,         0],\n",
              "[       0,        1,         0],\n",
              "[0.090915, 4.926131, 46.915258]]))"
            ]
          },
          "metadata": {
            "tags": []
          }
        },
        {
          "output_type": "stream",
          "text": [
            "\n",
            "\n"
          ],
          "name": "stdout"
        },
        {
          "output_type": "display_data",
          "data": {
            "text/markdown": "Then we define:",
            "text/plain": [
              "<IPython.core.display.Markdown object>"
            ]
          },
          "metadata": {
            "tags": []
          }
        },
        {
          "output_type": "display_data",
          "data": {
            "text/latex": "$ H = H_{a}  H_{p}$",
            "text/plain": [
              "<IPython.core.display.Latex object>"
            ]
          },
          "metadata": {
            "tags": []
          }
        },
        {
          "output_type": "display_data",
          "data": {
            "text/markdown": "With Ha an affine transformation. We want to test that:",
            "text/plain": [
              "<IPython.core.display.Markdown object>"
            ]
          },
          "metadata": {
            "tags": []
          }
        },
        {
          "output_type": "display_data",
          "data": {
            "text/latex": "$ H^{-T}  l^{T} = (0,0,1)^{T}$",
            "text/plain": [
              "<IPython.core.display.Latex object>"
            ]
          },
          "metadata": {
            "tags": []
          }
        },
        {
          "output_type": "display_data",
          "data": {
            "text/markdown": "Therefore, given the fact that lines transform covariantly, we want to show that H maps the vanishing line to the line at infinity.",
            "text/plain": [
              "<IPython.core.display.Markdown object>"
            ]
          },
          "metadata": {
            "tags": []
          }
        },
        {
          "output_type": "stream",
          "text": [
            "\n",
            "\n"
          ],
          "name": "stdout"
        },
        {
          "output_type": "display_data",
          "data": {
            "text/markdown": "Ha has been arbitrarily  chosen: (this matrix has been already used in the other exercise)",
            "text/plain": [
              "<IPython.core.display.Markdown object>"
            ]
          },
          "metadata": {
            "tags": []
          }
        },
        {
          "output_type": "display_data",
          "data": {
            "text/latex": "$\\displaystyle Ha = \\left[\\begin{matrix}h_{11} & h_{12} & h_{13}\\\\h_{21} & h_{22} & h_{23}\\\\h_{31} & h_{32} & h_{33}\\end{matrix}\\right] = \\left[\\begin{matrix}1.732 & -0.25 & 1.5\\\\0.25 & 1.732 & 1.3\\\\0.0 & 0.0 & 1\\end{matrix}\\right]$",
            "text/plain": [
              "Eq(Eq(Ha, Matrix([\n",
              "[h11, h12, h13],\n",
              "[h21, h22, h23],\n",
              "[h31, h32, h33]])), Matrix([\n",
              "[1.732, -0.25, 1.5],\n",
              "[ 0.25, 1.732, 1.3],\n",
              "[  0.0,   0.0,   1]]))"
            ]
          },
          "metadata": {
            "tags": []
          }
        },
        {
          "output_type": "stream",
          "text": [
            "\n",
            "\n"
          ],
          "name": "stdout"
        },
        {
          "output_type": "display_data",
          "data": {
            "text/markdown": "H is carried out and then computed this test:",
            "text/plain": [
              "<IPython.core.display.Markdown object>"
            ]
          },
          "metadata": {
            "tags": []
          }
        },
        {
          "output_type": "stream",
          "text": [
            "\n",
            "\n"
          ],
          "name": "stdout"
        },
        {
          "output_type": "display_data",
          "data": {
            "text/latex": "$\\displaystyle H = \\left[\\begin{matrix}1.86837 & 7.1392 & 70.3729\\\\0.36819 & 8.13597 & 60.9898\\\\0.090915 & 4.92613 & 46.9153\\end{matrix}\\right]$",
            "text/plain": [
              "Eq(H, Matrix([\n",
              "[ 1.86837,  7.1392, 70.3729],\n",
              "[ 0.36819, 8.13597, 60.9898],\n",
              "[0.090915, 4.92613, 46.9153]]))"
            ]
          },
          "metadata": {
            "tags": []
          }
        },
        {
          "output_type": "display_data",
          "data": {
            "text/latex": "$\\displaystyle {H^{-T}}l^{T} = \\left[\\begin{matrix}0.0\\\\0.0\\\\1.0\\end{matrix}\\right]$",
            "text/plain": [
              "Eq({H^{-T}}l^{T}, Matrix([\n",
              "[0.0],\n",
              "[0.0],\n",
              "[1.0]]))"
            ]
          },
          "metadata": {
            "tags": []
          }
        },
        {
          "output_type": "stream",
          "text": [
            "\n",
            "\n"
          ],
          "name": "stdout"
        },
        {
          "output_type": "display_data",
          "data": {
            "text/markdown": "Hence, the test is passed.",
            "text/plain": [
              "<IPython.core.display.Markdown object>"
            ]
          },
          "metadata": {
            "tags": []
          }
        },
        {
          "output_type": "stream",
          "text": [
            "\n",
            "\n"
          ],
          "name": "stdout"
        },
        {
          "output_type": "display_data",
          "data": {
            "text/markdown": "As the last step before applying the homography Hp we denormalize and transform it in homogeneous coordinates",
            "text/plain": [
              "<IPython.core.display.Markdown object>"
            ]
          },
          "metadata": {
            "tags": []
          }
        },
        {
          "output_type": "stream",
          "text": [
            "\n",
            "\n"
          ],
          "name": "stdout"
        },
        {
          "output_type": "display_data",
          "data": {
            "text/latex": "$\\displaystyle H_{p} = \\left[\\begin{matrix}h_{11} & h_{12} & h_{13}\\\\h_{21} & h_{22} & h_{23}\\\\h_{31} & h_{32} & h_{33}\\end{matrix}\\right] = \\left[\\begin{matrix}1.0 & 0 & 0\\\\0 & 1.0 & 0\\\\0.000122212 & 0.00662192 & 1.0\\end{matrix}\\right]$",
            "text/plain": [
              "Eq(Eq(H_p, Matrix([\n",
              "[h11, h12, h13],\n",
              "[h21, h22, h23],\n",
              "[h31, h32, h33]])), Matrix([\n",
              "[        1.0,          0,   0],\n",
              "[          0,        1.0,   0],\n",
              "[0.000122212, 0.00662192, 1.0]]))"
            ]
          },
          "metadata": {
            "tags": []
          }
        },
        {
          "output_type": "stream",
          "text": [
            "\n",
            "\n"
          ],
          "name": "stdout"
        },
        {
          "output_type": "display_data",
          "data": {
            "text/markdown": "Analytically what we want to find is the real world image X, but what we actually compute is the affinely rectified image Xa (see next point).",
            "text/plain": [
              "<IPython.core.display.Markdown object>"
            ]
          },
          "metadata": {
            "tags": []
          }
        },
        {
          "output_type": "display_data",
          "data": {
            "text/latex": "$ Hp \\space Xa = X' \\rightarrow Xa = Hp^{-1} \\space X' $",
            "text/plain": [
              "<IPython.core.display.Latex object>"
            ]
          },
          "metadata": {
            "tags": []
          }
        },
        {
          "output_type": "display_data",
          "data": {
            "text/markdown": "With X' the distorted image taken as input.",
            "text/plain": [
              "<IPython.core.display.Markdown object>"
            ]
          },
          "metadata": {
            "tags": []
          }
        },
        {
          "output_type": "stream",
          "text": [
            "\n",
            "\n"
          ],
          "name": "stdout"
        },
        {
          "output_type": "display_data",
          "data": {
            "text/latex": "$\\textbf{Conclusion:}$",
            "text/plain": [
              "<IPython.core.display.Latex object>"
            ]
          },
          "metadata": {
            "tags": []
          }
        },
        {
          "output_type": "stream",
          "text": [
            "\n",
            "\n"
          ],
          "name": "stdout"
        },
        {
          "output_type": "display_data",
          "data": {
            "text/markdown": "To conclude we are going to apply the projective transformation, in two different ways.",
            "text/plain": [
              "<IPython.core.display.Markdown object>"
            ]
          },
          "metadata": {
            "tags": []
          }
        },
        {
          "output_type": "display_data",
          "data": {
            "text/markdown": "The first using the DLT algorithm, and the second using the predefined function called: \"warp\" by skimage.",
            "text/plain": [
              "<IPython.core.display.Markdown object>"
            ]
          },
          "metadata": {
            "tags": []
          }
        },
        {
          "output_type": "stream",
          "text": [
            "\n",
            "\n"
          ],
          "name": "stdout"
        },
        {
          "output_type": "display_data",
          "data": {
            "text/markdown": "respectively, the first solution is the following:",
            "text/plain": [
              "<IPython.core.display.Markdown object>"
            ]
          },
          "metadata": {
            "tags": []
          }
        },
        {
          "output_type": "display_data",
          "data": {
            "image/png": "[encoded data removed]",
            "text/plain": [
              "<Figure size 432x288 with 1 Axes>"
            ]
          },
          "metadata": {
            "tags": [],
            "needs_background": "light"
          }
        },
        {
          "output_type": "stream",
          "text": [
            "\n",
            "\n"
          ],
          "name": "stdout"
        },
        {
          "output_type": "display_data",
          "data": {
            "text/markdown": "While the second is this other one:",
            "text/plain": [
              "<IPython.core.display.Markdown object>"
            ]
          },
          "metadata": {
            "tags": []
          }
        },
        {
          "output_type": "display_data",
          "data": {
            "image/png": "[encoded data removed]",
            "text/plain": [
              "<Figure size 432x288 with 1 Axes>"
            ]
          },
          "metadata": {
            "tags": [],
            "needs_background": "light"
          }
        }
      ]
    },
    {
      "cell_type": "markdown",
      "metadata": {
        "id": "blxEqBVYFXoD"
      },
      "source": [
        "# Exercise 2.4"
      ]
    },
    {
      "cell_type": "markdown",
      "metadata": {
        "id": "3zyD_F9cUxiy"
      },
      "source": [
        "Using this procedure hasn't been gotten a metric rectification. In fact, applying the Hp we have only removed the projective distortion and not the affine one which is still present. This process is called affine rectification.\n",
        "\n",
        "Parallel lines remain parallel under the affine distortion and can see this in the previous part of the exercise, thanks to the rectification of the projective distortion.\n",
        "As said the affinely rectified image shows parallel lines, however, angles are not the actual one because are affinely distorted.\n",
        "\n",
        "Therefore In order to have a metric rectification, we have to find the affine transformation Ha, such that $Xp = Ha \\space X$, with Xp the image that comes as the result of this exercise and X the real-world image.\n",
        "\n",
        "Therefore, we have to compute: \n",
        "\n",
        "$X = Ha^{-1} \\space Xp$\n",
        "\n",
        "\n",
        "\n",
        "The metric rectification can be exploited using two non-parallel line pairs identified on the affinely rectified image that corresponds to orthogonal lines on the world plane.\n",
        "\n",
        "In the below cell, has been implemented a metric rectification of the image used in the exercise, to highlight the difference. The result has been zoomed and sliced.\n"
      ]
    },
    {
      "cell_type": "code",
      "metadata": {
        "colab": {
          "base_uri": "https://localhost:8080/",
          "height": 289
        },
        "id": "PGtZnRRD9aC2",
        "outputId": "5471391c-a9be-4215-ec93-7477346713c1"
      },
      "source": [
        "display(Latex('$\\\\bold{Exercise: 2.4}$'))\n",
        "\n",
        "def add_margin(pil_img, top, right, bottom, left, color):\n",
        "    width, height = pil_img.size\n",
        "    new_width = width + right + left\n",
        "    new_height = height + top + bottom\n",
        "    result = Image.new(pil_img.mode, (new_width, new_height))\n",
        "    result.paste(pil_img, (left, top))\n",
        "    return result\n",
        "\n",
        "int_im =int_im.astype(np.uint8)\n",
        "data = Image.fromarray(int_im)\n",
        "\n",
        "im_new = add_margin(data, 50, 50, 50, 50, (255, 255, 255))\n",
        "resized = np.array(im_new)\n",
        "\n",
        "tile_length = 20\n",
        "\n",
        "points_Xp = [(296.75873655913983, 85.6723689516129), (314.546370967742, 91.14548723118278), (351.8319892473119, 83.61994959677418), (337.46505376344095, 79.51511088709674)]\n",
        "points_X = [(296.75873655913983, 85.6723689516129), (296.75873655913983, 85.6723689516129 +tile_length), (296.75873655913983 +tile_length, 85.6723689516129+ tile_length), (296.75873655913983+ tile_length, 85.6723689516129)]\n",
        "\n",
        "points_Xp = np.array(points_Xp)\n",
        "points_X  = np.array(points_X)\n",
        "tform_a =  skimage.transform.estimate_transform('affine', points_Xp, points_X)\n",
        "tform_a = tform_a.inverse\n",
        "\n",
        "warped = skimage.transform.warp(resized, tform_a)\n",
        "warped = skimage.transform.rotate(warped, 52.5)\n",
        "\n",
        "shape = int_im.shape\n",
        "new_shape = (int(shape[0]),int(shape[1]*0.2),shape[2])\n",
        "sliced = warped[20:,230:360,:]\n",
        "plt.imshow(sliced)\n",
        "plt.show()\n"
      ],
      "execution_count": 10,
      "outputs": [
        {
          "output_type": "display_data",
          "data": {
            "text/latex": "$\\bold{Exercise: 2.4}$",
            "text/plain": [
              "<IPython.core.display.Latex object>"
            ]
          },
          "metadata": {
            "tags": []
          }
        },
        {
          "output_type": "display_data",
          "data": {
            "image/png": "[encoded data removed]",
            "text/plain": [
              "<Figure size 432x288 with 1 Axes>"
            ]
          },
          "metadata": {
            "tags": [],
            "needs_background": "light"
          }
        }
      ]
    },
    {
      "cell_type": "markdown",
      "metadata": {
        "id": "TuL9xq0VVjkC"
      },
      "source": [
        "# Exercise 3.1"
      ]
    },
    {
      "cell_type": "code",
      "metadata": {
        "id": "uyqyaPd8Vldb",
        "colab": {
          "base_uri": "https://localhost:8080/",
          "height": 1000
        },
        "outputId": "fb20dd70-6ab7-4cbc-c56b-2c1a591cc5c1"
      },
      "source": [
        "\"\"\" \n",
        "****************************************************************************************************\n",
        "**************************************** Simpy symbols *********************************************\n",
        "****************************************************************************************************\n",
        "\"\"\"\n",
        "\n",
        "L1,L2, l1x,l1y,l1z, l2x,l2y,l2z = sp.symbols('L1,L2,lx_{1} ,ly_{1} ,lz_{1} ,lx_{2} ,ly_{2} ,lz_{2} ', real = True)\n",
        "\n",
        "P11,P12,P21,P22,x11,y11,z11,x12,y12,z12,x21,y21,z21,x22,y22,z22 = sp.symbols(\"P11,P12,P21,P22,x11,y11,z11,x12,y12,z12,x21,y21,z21,x22,y22,z22\", real = True)\n",
        "\n",
        "L1p,L2p,l1xp,l1yp,l1zp,l2xp,l2yp,l2zp = sp.symbols(\"L1',L2',lx_{1}',ly_{1}',lz_{1}',lx_{2}',ly_{2}',lz_{2}'\", real = True)\n",
        "\n",
        "P11p,P12p,P21p,P22p,x11p,y11p,z11p,x12p,y12p,z12p,x21p,y21p,z21p,x22p,y22p,z22p = sp.symbols(\"P_{11}',P_{12}',P_{21}',P_{22}',x_{11}',y_{11}',z_{11}',x_{12}',y_{12}',z_{12}'\\\n",
        ",x_{21}',y_{21}',z_{21}',x_{22}',y_{22}',z_{22}'\", real = True)\n",
        "\n",
        "alpha,s1,s2,t,v,V,t1,t2,v1,v2 = sp.symbols('alpha,s1,s2,t,v,V,t1,t2,v1,v2', real = True)\n",
        "\n",
        "D1,D2,D1p,D2p = sp.symbols(\"D1,D2,D1',D2'\", real = True)\n",
        "\n",
        "h11,h12,h13,h21,h22,h23,h31,h32,h33 = sp.symbols('h11,h12,h13,h21,h22,h23,h31,h32,h33', real = True)\n",
        "\n",
        "\"\"\" \n",
        "****************************************************************************************************\n",
        "************************************ Simpy implementation ******************************************\n",
        "****************************************************************************************************\n",
        "\"\"\"\n",
        "\n",
        "display(Latex('$\\\\bold{Exercise: 3.1}$'))\n",
        "print(\"\\n\")\n",
        "display(Markdown(\"In this exercise, our aim is to demonstrate, that the ratio of length of parallel line segments is preserved under an affine transformation.\"))\n",
        "display(Markdown(\"We define arbitrary two parallel lines (same angular coefficient) with the following equations:\"))\n",
        "print(\"\\n\")\n",
        "display(Latex(r'$y_{1} = 2x + 1$'))\n",
        "display(Latex(r'$y_{2} = 2x + 6$'))\n",
        "print(\"\\n\")\n",
        "\n",
        "display(Markdown(\"That are represented with these matrices:\"))\n",
        "L1 = Matrix([l1x,l1y,l1z])\n",
        "\n",
        "L1_values = L1.subs([(l1x, -2), (l1y, 1), (l1z,-1)])\n",
        "\n",
        "display(Eq(Eq(S('L1'), L1, evaluate=False), L1_values, evaluate=False))\n",
        "print(\"\\n\");\n",
        "\n",
        "L2 = Matrix([l2x,l2y,l2z])\n",
        "\n",
        "L2_values = L2.subs([(l2x, -2), (l2y, 1), (l2z,-6)])\n",
        "\n",
        "display(Eq(Eq(S('L2'), L2, evaluate=False), L2_values, evaluate=False))\n",
        "print(\"\\n\");\n",
        "\n",
        "display(Markdown(\"We verify that the cross product between L1 and L2 gives an ideal point\"))\n",
        "print(\"\\n\")\n",
        "display(Latex(r'${P} = \\vec{L_1}\\times\\vec{L_2}$'))\n",
        "P = L1.cross(L2)\n",
        "P_values = L1_values.cross(L2_values)\n",
        "display(Eq(S('P'), P_values, evaluate=False))\n",
        "print(\"\\n\")\n",
        "display(Markdown(\"Cause x3 is equal to zero we have an ideal point (point at infinity)\"))\n",
        "print(\"\\n\");\n",
        "display(Markdown(\"Now we define the points on the line L1 using as x value 1 and 2\"))\n",
        "\n",
        "x = 1\n",
        "y = lambda x : 2*x +1\n",
        "\n",
        "P1 = Matrix([x11,y11,z11])\n",
        "P1_values = P1.subs([(x11, x), (y11, y(x)), (z11,1)])\n",
        "\n",
        "display(Eq(S('P1'), P1_values, evaluate=False))\n",
        "print(\"\\n\")\n",
        "\n",
        "x = 2\n",
        "\n",
        "P2 = Matrix([x12,y12,z12])\n",
        "P2_values = P2.subs([(x12, x), (y12, y(x)), (z12,1)])\n",
        "\n",
        "display(Eq(S('P2'), P2_values, evaluate=False))\n",
        "print(\"\\n\");\n",
        "\n",
        "display(Markdown(\"We do the same procedure to the points on the line L2 using as x value 1 and 3.\"))\n",
        "\n",
        "y = lambda x : 2*x +6\n",
        "x = 1\n",
        "\n",
        "P3 = Matrix([x21,y21,z21])\n",
        "P3_values = P3.subs([(x21, x), (y21, y(x)), (z21,1)])\n",
        "\n",
        "display(Eq(S('P3'), P3_values, evaluate=False))\n",
        "print(\"\\n\")\n",
        "\n",
        "x = 3\n",
        "\n",
        "P4 = Matrix([x22,y22,z22])\n",
        "P4_values = P4.subs([(x22, x), (y22, y(x)), (z22,1)])\n",
        "\n",
        "display(Eq(S('P4'), P4_values, evaluate=False))\n",
        "print(\"\\n\");\n",
        "\n",
        "display(Markdown(\"We compute now the verification for the points on the lines using the cross product.\"))\n",
        "print(\"\\n\")\n",
        "\n",
        "check1 = transpose(L1).dot(P1)\n",
        "check1_values = int(round((transpose(L1_values).dot(P1_values)),0))\n",
        "display(Eq(Eq(Symbol(\"{L1^T}P1\"), check1, evaluate=False), check1_values, evaluate=False))\n",
        "\n",
        "check2 = transpose(L1).dot(P2)\n",
        "check2_values = int(round((transpose(L1_values).dot(P2_values)),0))\n",
        "display(Eq(Eq(Symbol(\"{L1^T}P2\"), check2, evaluate=False), check2_values, evaluate=False))\n",
        "\n",
        "\n",
        "check3 = transpose(L2).dot(P3)\n",
        "check3_values = int(round((transpose(L2_values).dot(P3_values)),0))\n",
        "display(Eq(Eq(Symbol(\"{L2^T}P3\"), check3, evaluate=False), check3_values, evaluate=False))\n",
        "\n",
        "check4 = transpose(L2).dot(P4)\n",
        "check4_values = int(round((transpose(L2_values).dot(P4_values)),0))\n",
        "display(Eq(Eq(Symbol(\"{L2^T}P4\"), check4, evaluate=False), check4_values, evaluate=False))\n",
        "\n",
        "print(\"\\n\")\n",
        "display(Markdown(\"We compute the distance of the segments between 2 points on a line. Since we want to evaluate the ratio of length for parallel lines\\\n",
        " it's possible to simplify the distance computation avoiding the usage of the square root.\"))\n",
        "\n",
        "D1_values = round(transpose((P1_values-P2_values)).dot(P1_values-P2_values),2)\n",
        "print(\"\\n\")\n",
        "display(Eq(Eq(Symbol('D1'), Symbol('(P1-P2)^{T} (P1-P2)'), evaluate=False), D1_values, evaluate=False))\n",
        "print(\"\\n\")\n",
        "D2_values = round(transpose((P3_values-P4_values)).dot(P3_values-P4_values),2)\n",
        "display(Eq(Eq(Symbol('D2'), Symbol('(P3-P4)^{T} (P3-P4)'), evaluate=False), D2_values, evaluate=False))\n",
        "print(\"\\n\")\n",
        "\n",
        "display(Markdown(\"Then we define an affine transformation to perform the new points and lines, using the following parameters:\"))\n",
        "print(\"\\n\")\n",
        "\n",
        "t = Matrix([t1,t2])\n",
        "v = Matrix([v1,v2])\n",
        "\n",
        "t_values = t.subs([(t1, 1.5), (t2, 1.3)])\n",
        "alpha_value = alpha.subs([(alpha, 30)])\n",
        "s1_value = s1.subs([(s1, 2.0)])\n",
        "s2_value = s2.subs([(s2, 0.5)])\n",
        "v_values = v.subs([(v1, 0.0), (v2, 0.0)])\n",
        "\n",
        "\n",
        "display(Eq(Eq(S('α'), alpha, evaluate=False), alpha_value, evaluate=False))\n",
        "print(\"\\n\");\n",
        "display(Eq(Eq(S('s1'), s1, evaluate=False), s1_value, evaluate=False))\n",
        "print(\"\\n\");\n",
        "display(Eq(Eq(S('s2'), s2, evaluate=False), s2_value, evaluate=False))\n",
        "print(\"\\n\");\n",
        "display(Eq(Eq(S('t'), t, evaluate=False), t_values, evaluate=False))\n",
        "print(\"\\n\");\n",
        "display(Eq(Eq(S('v'), v, evaluate=False), v_values, evaluate=False))\n",
        "print(\"\\n\");\n",
        "\n",
        "cos_alpha = round(math.cos(math.radians(alpha_value)), 3)\n",
        "sin_alpha = round(math.sin(math.radians(alpha_value)), 3)\n",
        "\n",
        "Ha = sp.Matrix([[h11, h12, h13],[h21, h22, h23],[h31, h32, h33]])\n",
        "Ha_values = Ha.subs([(h11,cos_alpha*s1_value), (h12,-(sin_alpha*s2_value)), (h13,t_values[0]), (h21,sin_alpha*s2_value), (h22,cos_alpha*s1_value), (h23,t_values[1]), (h31,v_values[0]), (h32,v_values[1]), (h33,1)])\n",
        "display(Eq(Eq(S('Ha'), Ha, evaluate=False), Ha_values, evaluate=False))\n",
        "Ha_det = Ha_values.det()\n",
        "\n",
        "print(\"\\n\")\n",
        "display(Markdown(\"Now we use the affine transformation to compute the new points. (points trasforms contravariantly)\"))\n",
        "print(\"\\n\")\n",
        "\n",
        "P11p = Matrix([x11p, y11p, z11p])\n",
        "P12p = Matrix([x12p, y12p, z12p])\n",
        "P21p = Matrix([x21p, y21p, z21p])\n",
        "P22p = Matrix([x22p, y22p, z22p])\n",
        "\n",
        "P11p_values = Ha_values*(P1_values)\n",
        "P12p_values = Ha_values*(P2_values)\n",
        "P21p_values = Ha_values*(P3_values)\n",
        "P22p_values = Ha_values*(P4_values)\n",
        "\n",
        "display(Eq(Eq(Eq(Symbol(\"P1'\"), P11p, evaluate=False), Ha*(P1), evaluate=False), P11p_values, evaluate=False))\n",
        "print(\"\\n\")\n",
        "display(Eq(Eq(Eq(Symbol(\"P2'\"), P12p, evaluate=False), Ha*(P2), evaluate=False), P12p_values, evaluate=False))\n",
        "print(\"\\n\")\n",
        "display(Eq(Eq(Eq(Symbol(\"P3'\"), P21p, evaluate=False), Ha*(P3), evaluate=False), P21p_values, evaluate=False))\n",
        "print(\"\\n\")\n",
        "display(Eq(Eq(Eq(Symbol(\"P4'\"), P22p, evaluate=False), Ha*(P4), evaluate=False), P22p_values, evaluate=False))\n",
        "print(\"\\n\")\n",
        "\n",
        "display(Markdown(\"Now we do the same for the lines (points transforms  covariantly).\"))\n",
        "print(\"\\n\")\n",
        "Ha_inv_values = Ha_values.inv().evalf(3)\n",
        "display(Eq(Symbol('Ha^{-1}'), Ha.inv(), evaluate=False))\n",
        "print(\"\\n\")\n",
        "display(Eq(Symbol('Ha^{-1}'), Ha_inv_values, evaluate=False))\n",
        "print(\"\\n\")\n",
        "display(Markdown(\"Since has been possible to invert Ha, we can establish that is a non-singular matrix, which is a key property.\"))\n",
        "print(\"\\n\")\n",
        "\n",
        "Ha_inv_trans_values = transpose(Ha_values.inv().evalf(3))\n",
        "\n",
        "display(Eq(Symbol('Ha^{-T}'), Ha_inv_trans_values, evaluate=False))\n",
        "print(\"\\n\")\n",
        "\n",
        "L1p = Matrix([l1xp, l1yp, l1zp])\n",
        "L1p_values = Ha_inv_trans_values * L1_values\n",
        "\n",
        "display(Eq(Eq(Eq(Symbol(\"L1'\"),L1p, evaluate=False), Symbol('H^{-T} L1'), evaluate=False), L1p_values, evaluate=False))\n",
        "print(\"\\n\")\n",
        "L2p = Matrix([l2xp, l2yp, l2zp])\n",
        "L2p_values = Ha_inv_trans_values * L2_values\n",
        "\n",
        "display(Eq(Eq(Eq(Symbol(\"L2'\"),L2p, evaluate=False), Symbol('H^{-T} L2'), evaluate=False), L2p_values, evaluate=False))\n",
        "print(\"\\n\")\n",
        "display(Markdown(\"It's important to do the verification about points on the lines one more time with the new values.\"))\n",
        "print(\"\\n\")\n",
        "\n",
        "check1 = transpose(L1p).dot(P11p)\n",
        "check1_values = int(round((transpose(L1p_values).dot(P11p_values)),0))\n",
        "display(Eq(Eq(Symbol(\"L1'^{T}P1'\"), check1, evaluate=False), check1_values, evaluate=False))\n",
        "\n",
        "check2 = transpose(L1p).dot(P12p)\n",
        "check2_values = int(round((transpose(L1p_values).dot(P12p_values)),0))\n",
        "display(Eq(Eq(Symbol(\"L1'^{T}P2'\"), check2, evaluate=False), check2_values, evaluate=False))\n",
        "\n",
        "check3 = transpose(L2p).dot(P21p)\n",
        "check3_values = int(round((transpose(L2p_values).dot(P21p_values)),0))\n",
        "display(Eq(Eq(Symbol(\"L2'^{T}P3'\"), check3, evaluate=False), check3_values, evaluate=False))\n",
        "check4 = transpose(L2p).dot(P22p)\n",
        "check4_values = int(round((transpose(L2p_values).dot(P22p_values)),0))\n",
        "\n",
        "display(Eq(Eq(Symbol(\"L2'^{T}P4'\"), check4, evaluate=False), check4_values, evaluate=False))\n",
        "print(\"\\n\")\n",
        "display(Markdown(\"Finally we evaluate the new pair of distances between the new points.\"))\n",
        "print(\"\\n\")\n",
        "D1p_values = round(transpose((P11p_values-P12p_values)).dot((P11p_values-P12p_values)),3)\n",
        "\n",
        "display(Eq(Eq(Symbol(\"D1'\"), Symbol(\"(P1'-P2')^{T} (P2'-P2')\"), evaluate=False), D1p_values, evaluate=False))\n",
        "print(\"\\n\")\n",
        "D2p_values = round(transpose((P21p_values-P22p_values)).dot((P21p_values-P22p_values)),3)\n",
        "\n",
        "display(Eq(Eq(Symbol(\"D2'\"), Symbol(\"(P3'-P4')^{T} (P3'-P4')\"), evaluate=False), D2p_values, evaluate=False))\n",
        "print(\"\\n\")\n",
        "\n",
        "display(Markdown(\"The distance between 2 points must be scaled by a factor equal to the determinant of Ha.\"))\n",
        "D1p_values = round(D1p_values/Ha_det,3)\n",
        "D2p_values = round(D2p_values/Ha_det,3)\n",
        "print(\"\\n\")\n",
        "display(Eq(Eq(Symbol(\"D1'\"),Symbol(\"D1'/det(H_{a})\"), evaluate=False), D1p_values, evaluate=False))\n",
        "display(Eq(Eq(Symbol(\"D2'\"),Symbol(\"D2'/det(H_{a})\"), evaluate=False), D2p_values, evaluate=False))\n",
        "print(\"\\n\")\n",
        "\n",
        "\n",
        "\n",
        "display(Latex(\"$\\\\textbf{Conclusion:}$\"))\n",
        "print(\"\\n\")\n",
        "display(Markdown(\"It's now possible to compute the ratio of the length of the segments\"))\n",
        "print(\"\\n\")\n",
        "\n",
        "ratio_values = round(D1_values/D2_values,2)\n",
        "\n",
        "ratio_valuesp = round(D1p_values/D2p_values,2)\n",
        "\n",
        "display(Eq(Symbol(\"D1/D2\"),  ratio_values, evaluate=False))\n",
        "print(\"\\n\")\n",
        "display(Eq(Symbol(\"D1'/D2'\"),  ratio_valuesp, evaluate=False))\n",
        "print(\"\\n\")\n",
        "display(Eq(Symbol(\"D1/D2\"),  Symbol(\"D1'/D2'\"), evaluate=False))\n",
        "print(\"\\n\")\n",
        "\n",
        "display(Markdown(\"From this equality, we can conclude that the ratio of length of parallel lines is preserved\"))"
      ],
      "execution_count": 11,
      "outputs": [
        {
          "output_type": "display_data",
          "data": {
            "text/latex": "$\\bold{Exercise: 3.1}$",
            "text/plain": [
              "<IPython.core.display.Latex object>"
            ]
          },
          "metadata": {
            "tags": []
          }
        },
        {
          "output_type": "stream",
          "text": [
            "\n",
            "\n"
          ],
          "name": "stdout"
        },
        {
          "output_type": "display_data",
          "data": {
            "text/markdown": "In this exercise, our aim is to demonstrate, that the ratio of length of parallel line segments is preserved under an affine transformation.",
            "text/plain": [
              "<IPython.core.display.Markdown object>"
            ]
          },
          "metadata": {
            "tags": []
          }
        },
        {
          "output_type": "display_data",
          "data": {
            "text/markdown": "We define arbitrary two parallel lines (same angular coefficient) with the following equations:",
            "text/plain": [
              "<IPython.core.display.Markdown object>"
            ]
          },
          "metadata": {
            "tags": []
          }
        },
        {
          "output_type": "stream",
          "text": [
            "\n",
            "\n"
          ],
          "name": "stdout"
        },
        {
          "output_type": "display_data",
          "data": {
            "text/latex": "$y_{1} = 2x + 1$",
            "text/plain": [
              "<IPython.core.display.Latex object>"
            ]
          },
          "metadata": {
            "tags": []
          }
        },
        {
          "output_type": "display_data",
          "data": {
            "text/latex": "$y_{2} = 2x + 6$",
            "text/plain": [
              "<IPython.core.display.Latex object>"
            ]
          },
          "metadata": {
            "tags": []
          }
        },
        {
          "output_type": "stream",
          "text": [
            "\n",
            "\n"
          ],
          "name": "stdout"
        },
        {
          "output_type": "display_data",
          "data": {
            "text/markdown": "That are represented with these matrices:",
            "text/plain": [
              "<IPython.core.display.Markdown object>"
            ]
          },
          "metadata": {
            "tags": []
          }
        },
        {
          "output_type": "display_data",
          "data": {
            "text/latex": "$\\displaystyle L_{1} = \\left[\\begin{matrix}lx_{1}\\\\ly_{1}\\\\lz_{1}\\end{matrix}\\right] = \\left[\\begin{matrix}-2\\\\1\\\\-1\\end{matrix}\\right]$",
            "text/plain": [
              "Eq(Eq(L1, Matrix([\n",
              "[lx_{1}],\n",
              "[ly_{1}],\n",
              "[lz_{1}]])), Matrix([\n",
              "[-2],\n",
              "[ 1],\n",
              "[-1]]))"
            ]
          },
          "metadata": {
            "tags": []
          }
        },
        {
          "output_type": "stream",
          "text": [
            "\n",
            "\n"
          ],
          "name": "stdout"
        },
        {
          "output_type": "display_data",
          "data": {
            "text/latex": "$\\displaystyle L_{2} = \\left[\\begin{matrix}lx_{2}\\\\ly_{2}\\\\lz_{2}\\end{matrix}\\right] = \\left[\\begin{matrix}-2\\\\1\\\\-6\\end{matrix}\\right]$",
            "text/plain": [
              "Eq(Eq(L2, Matrix([\n",
              "[lx_{2}],\n",
              "[ly_{2}],\n",
              "[lz_{2}]])), Matrix([\n",
              "[-2],\n",
              "[ 1],\n",
              "[-6]]))"
            ]
          },
          "metadata": {
            "tags": []
          }
        },
        {
          "output_type": "stream",
          "text": [
            "\n",
            "\n"
          ],
          "name": "stdout"
        },
        {
          "output_type": "display_data",
          "data": {
            "text/markdown": "We verify that the cross product between L1 and L2 gives an ideal point",
            "text/plain": [
              "<IPython.core.display.Markdown object>"
            ]
          },
          "metadata": {
            "tags": []
          }
        },
        {
          "output_type": "stream",
          "text": [
            "\n",
            "\n"
          ],
          "name": "stdout"
        },
        {
          "output_type": "display_data",
          "data": {
            "text/latex": "${P} = \\vec{L_1}\\times\\vec{L_2}$",
            "text/plain": [
              "<IPython.core.display.Latex object>"
            ]
          },
          "metadata": {
            "tags": []
          }
        },
        {
          "output_type": "display_data",
          "data": {
            "text/latex": "$\\displaystyle P = \\left[\\begin{matrix}-5\\\\-10\\\\0\\end{matrix}\\right]$",
            "text/plain": [
              "Eq(P, Matrix([\n",
              "[ -5],\n",
              "[-10],\n",
              "[  0]]))"
            ]
          },
          "metadata": {
            "tags": []
          }
        },
        {
          "output_type": "stream",
          "text": [
            "\n",
            "\n"
          ],
          "name": "stdout"
        },
        {
          "output_type": "display_data",
          "data": {
            "text/markdown": "Cause x3 is equal to zero we have an ideal point (point at infinity)",
            "text/plain": [
              "<IPython.core.display.Markdown object>"
            ]
          },
          "metadata": {
            "tags": []
          }
        },
        {
          "output_type": "stream",
          "text": [
            "\n",
            "\n"
          ],
          "name": "stdout"
        },
        {
          "output_type": "display_data",
          "data": {
            "text/markdown": "Now we define the points on the line L1 using as x value 1 and 2",
            "text/plain": [
              "<IPython.core.display.Markdown object>"
            ]
          },
          "metadata": {
            "tags": []
          }
        },
        {
          "output_type": "display_data",
          "data": {
            "text/latex": "$\\displaystyle P_{1} = \\left[\\begin{matrix}1\\\\3\\\\1\\end{matrix}\\right]$",
            "text/plain": [
              "Eq(P1, Matrix([\n",
              "[1],\n",
              "[3],\n",
              "[1]]))"
            ]
          },
          "metadata": {
            "tags": []
          }
        },
        {
          "output_type": "stream",
          "text": [
            "\n",
            "\n"
          ],
          "name": "stdout"
        },
        {
          "output_type": "display_data",
          "data": {
            "text/latex": "$\\displaystyle P_{2} = \\left[\\begin{matrix}2\\\\5\\\\1\\end{matrix}\\right]$",
            "text/plain": [
              "Eq(P2, Matrix([\n",
              "[2],\n",
              "[5],\n",
              "[1]]))"
            ]
          },
          "metadata": {
            "tags": []
          }
        },
        {
          "output_type": "stream",
          "text": [
            "\n",
            "\n"
          ],
          "name": "stdout"
        },
        {
          "output_type": "display_data",
          "data": {
            "text/markdown": "We do the same procedure to the points on the line L2 using as x value 1 and 3.",
            "text/plain": [
              "<IPython.core.display.Markdown object>"
            ]
          },
          "metadata": {
            "tags": []
          }
        },
        {
          "output_type": "display_data",
          "data": {
            "text/latex": "$\\displaystyle P_{3} = \\left[\\begin{matrix}1\\\\8\\\\1\\end{matrix}\\right]$",
            "text/plain": [
              "Eq(P3, Matrix([\n",
              "[1],\n",
              "[8],\n",
              "[1]]))"
            ]
          },
          "metadata": {
            "tags": []
          }
        },
        {
          "output_type": "stream",
          "text": [
            "\n",
            "\n"
          ],
          "name": "stdout"
        },
        {
          "output_type": "display_data",
          "data": {
            "text/latex": "$\\displaystyle P_{4} = \\left[\\begin{matrix}3\\\\12\\\\1\\end{matrix}\\right]$",
            "text/plain": [
              "Eq(P4, Matrix([\n",
              "[ 3],\n",
              "[12],\n",
              "[ 1]]))"
            ]
          },
          "metadata": {
            "tags": []
          }
        },
        {
          "output_type": "stream",
          "text": [
            "\n",
            "\n"
          ],
          "name": "stdout"
        },
        {
          "output_type": "display_data",
          "data": {
            "text/markdown": "We compute now the verification for the points on the lines using the cross product.",
            "text/plain": [
              "<IPython.core.display.Markdown object>"
            ]
          },
          "metadata": {
            "tags": []
          }
        },
        {
          "output_type": "stream",
          "text": [
            "\n",
            "\n"
          ],
          "name": "stdout"
        },
        {
          "output_type": "display_data",
          "data": {
            "text/latex": "$\\displaystyle {L1^T}P1 = lx_{1} x_{11} + ly_{1} y_{11} + lz_{1} z_{11} = 0$",
            "text/plain": [
              "Eq(Eq({L1^T}P1, lx_{1}*x11 + ly_{1}*y11 + lz_{1}*z11), 0)"
            ]
          },
          "metadata": {
            "tags": []
          }
        },
        {
          "output_type": "display_data",
          "data": {
            "text/latex": "$\\displaystyle {L1^T}P2 = lx_{1} x_{12} + ly_{1} y_{12} + lz_{1} z_{12} = 0$",
            "text/plain": [
              "Eq(Eq({L1^T}P2, lx_{1}*x12 + ly_{1}*y12 + lz_{1}*z12), 0)"
            ]
          },
          "metadata": {
            "tags": []
          }
        },
        {
          "output_type": "display_data",
          "data": {
            "text/latex": "$\\displaystyle {L2^T}P3 = lx_{2} x_{21} + ly_{2} y_{21} + lz_{2} z_{21} = 0$",
            "text/plain": [
              "Eq(Eq({L2^T}P3, lx_{2}*x21 + ly_{2}*y21 + lz_{2}*z21), 0)"
            ]
          },
          "metadata": {
            "tags": []
          }
        },
        {
          "output_type": "display_data",
          "data": {
            "text/latex": "$\\displaystyle {L2^T}P4 = lx_{2} x_{22} + ly_{2} y_{22} + lz_{2} z_{22} = 0$",
            "text/plain": [
              "Eq(Eq({L2^T}P4, lx_{2}*x22 + ly_{2}*y22 + lz_{2}*z22), 0)"
            ]
          },
          "metadata": {
            "tags": []
          }
        },
        {
          "output_type": "stream",
          "text": [
            "\n",
            "\n"
          ],
          "name": "stdout"
        },
        {
          "output_type": "display_data",
          "data": {
            "text/markdown": "We compute the distance of the segments between 2 points on a line. Since we want to evaluate the ratio of length for parallel lines it's possible to simplify the distance computation avoiding the usage of the square root.",
            "text/plain": [
              "<IPython.core.display.Markdown object>"
            ]
          },
          "metadata": {
            "tags": []
          }
        },
        {
          "output_type": "stream",
          "text": [
            "\n",
            "\n"
          ],
          "name": "stdout"
        },
        {
          "output_type": "display_data",
          "data": {
            "text/latex": "$\\displaystyle D_{1} = (P1-P2)^{T} (P1-P2) = 5$",
            "text/plain": [
              "Eq(Eq(D1, (P1-P2)^{T} (P1-P2)), 5)"
            ]
          },
          "metadata": {
            "tags": []
          }
        },
        {
          "output_type": "stream",
          "text": [
            "\n",
            "\n"
          ],
          "name": "stdout"
        },
        {
          "output_type": "display_data",
          "data": {
            "text/latex": "$\\displaystyle D_{2} = (P3-P4)^{T} (P3-P4) = 20$",
            "text/plain": [
              "Eq(Eq(D2, (P3-P4)^{T} (P3-P4)), 20)"
            ]
          },
          "metadata": {
            "tags": []
          }
        },
        {
          "output_type": "stream",
          "text": [
            "\n",
            "\n"
          ],
          "name": "stdout"
        },
        {
          "output_type": "display_data",
          "data": {
            "text/markdown": "Then we define an affine transformation to perform the new points and lines, using the following parameters:",
            "text/plain": [
              "<IPython.core.display.Markdown object>"
            ]
          },
          "metadata": {
            "tags": []
          }
        },
        {
          "output_type": "stream",
          "text": [
            "\n",
            "\n"
          ],
          "name": "stdout"
        },
        {
          "output_type": "display_data",
          "data": {
            "text/latex": "$\\displaystyle α = \\alpha = 30$",
            "text/plain": [
              "Eq(Eq(α, alpha), 30)"
            ]
          },
          "metadata": {
            "tags": []
          }
        },
        {
          "output_type": "stream",
          "text": [
            "\n",
            "\n"
          ],
          "name": "stdout"
        },
        {
          "output_type": "display_data",
          "data": {
            "text/latex": "$\\displaystyle s_{1} = s_{1} = 2.0$",
            "text/plain": [
              "Eq(Eq(s1, s1), 2.0)"
            ]
          },
          "metadata": {
            "tags": []
          }
        },
        {
          "output_type": "stream",
          "text": [
            "\n",
            "\n"
          ],
          "name": "stdout"
        },
        {
          "output_type": "display_data",
          "data": {
            "text/latex": "$\\displaystyle s_{2} = s_{2} = 0.5$",
            "text/plain": [
              "Eq(Eq(s2, s2), 0.5)"
            ]
          },
          "metadata": {
            "tags": []
          }
        },
        {
          "output_type": "stream",
          "text": [
            "\n",
            "\n"
          ],
          "name": "stdout"
        },
        {
          "output_type": "display_data",
          "data": {
            "text/latex": "$\\displaystyle t = \\left[\\begin{matrix}t_{1}\\\\t_{2}\\end{matrix}\\right] = \\left[\\begin{matrix}1.5\\\\1.3\\end{matrix}\\right]$",
            "text/plain": [
              "Eq(Eq(t, Matrix([\n",
              "[t1],\n",
              "[t2]])), Matrix([\n",
              "[1.5],\n",
              "[1.3]]))"
            ]
          },
          "metadata": {
            "tags": []
          }
        },
        {
          "output_type": "stream",
          "text": [
            "\n",
            "\n"
          ],
          "name": "stdout"
        },
        {
          "output_type": "display_data",
          "data": {
            "text/latex": "$\\displaystyle v = \\left[\\begin{matrix}v_{1}\\\\v_{2}\\end{matrix}\\right] = \\left[\\begin{matrix}0.0\\\\0.0\\end{matrix}\\right]$",
            "text/plain": [
              "Eq(Eq(v, Matrix([\n",
              "[v1],\n",
              "[v2]])), Matrix([\n",
              "[0.0],\n",
              "[0.0]]))"
            ]
          },
          "metadata": {
            "tags": []
          }
        },
        {
          "output_type": "stream",
          "text": [
            "\n",
            "\n"
          ],
          "name": "stdout"
        },
        {
          "output_type": "display_data",
          "data": {
            "text/latex": "$\\displaystyle Ha = \\left[\\begin{matrix}h_{11} & h_{12} & h_{13}\\\\h_{21} & h_{22} & h_{23}\\\\h_{31} & h_{32} & h_{33}\\end{matrix}\\right] = \\left[\\begin{matrix}1.732 & -0.25 & 1.5\\\\0.25 & 1.732 & 1.3\\\\0.0 & 0.0 & 1\\end{matrix}\\right]$",
            "text/plain": [
              "Eq(Eq(Ha, Matrix([\n",
              "[h11, h12, h13],\n",
              "[h21, h22, h23],\n",
              "[h31, h32, h33]])), Matrix([\n",
              "[1.732, -0.25, 1.5],\n",
              "[ 0.25, 1.732, 1.3],\n",
              "[  0.0,   0.0,   1]]))"
            ]
          },
          "metadata": {
            "tags": []
          }
        },
        {
          "output_type": "stream",
          "text": [
            "\n",
            "\n"
          ],
          "name": "stdout"
        },
        {
          "output_type": "display_data",
          "data": {
            "text/markdown": "Now we use the affine transformation to compute the new points. (points trasforms contravariantly)",
            "text/plain": [
              "<IPython.core.display.Markdown object>"
            ]
          },
          "metadata": {
            "tags": []
          }
        },
        {
          "output_type": "stream",
          "text": [
            "\n",
            "\n"
          ],
          "name": "stdout"
        },
        {
          "output_type": "display_data",
          "data": {
            "text/latex": "$\\displaystyle P1' = \\left[\\begin{matrix}x_{11}'\\\\y_{11}'\\\\z_{11}'\\end{matrix}\\right] = \\left[\\begin{matrix}h_{11} x_{11} + h_{12} y_{11} + h_{13} z_{11}\\\\h_{21} x_{11} + h_{22} y_{11} + h_{23} z_{11}\\\\h_{31} x_{11} + h_{32} y_{11} + h_{33} z_{11}\\end{matrix}\\right] = \\left[\\begin{matrix}2.482\\\\6.746\\\\1\\end{matrix}\\right]$",
            "text/plain": [
              "Eq(Eq(Eq(P1', Matrix([\n",
              "[x_{11}'],\n",
              "[y_{11}'],\n",
              "[z_{11}']])), Matrix([\n",
              "[h11*x11 + h12*y11 + h13*z11],\n",
              "[h21*x11 + h22*y11 + h23*z11],\n",
              "[h31*x11 + h32*y11 + h33*z11]])), Matrix([\n",
              "[2.482],\n",
              "[6.746],\n",
              "[    1]]))"
            ]
          },
          "metadata": {
            "tags": []
          }
        },
        {
          "output_type": "stream",
          "text": [
            "\n",
            "\n"
          ],
          "name": "stdout"
        },
        {
          "output_type": "display_data",
          "data": {
            "text/latex": "$\\displaystyle P2' = \\left[\\begin{matrix}x_{12}'\\\\y_{12}'\\\\z_{12}'\\end{matrix}\\right] = \\left[\\begin{matrix}h_{11} x_{12} + h_{12} y_{12} + h_{13} z_{12}\\\\h_{21} x_{12} + h_{22} y_{12} + h_{23} z_{12}\\\\h_{31} x_{12} + h_{32} y_{12} + h_{33} z_{12}\\end{matrix}\\right] = \\left[\\begin{matrix}3.714\\\\10.46\\\\1\\end{matrix}\\right]$",
            "text/plain": [
              "Eq(Eq(Eq(P2', Matrix([\n",
              "[x_{12}'],\n",
              "[y_{12}'],\n",
              "[z_{12}']])), Matrix([\n",
              "[h11*x12 + h12*y12 + h13*z12],\n",
              "[h21*x12 + h22*y12 + h23*z12],\n",
              "[h31*x12 + h32*y12 + h33*z12]])), Matrix([\n",
              "[3.714],\n",
              "[10.46],\n",
              "[    1]]))"
            ]
          },
          "metadata": {
            "tags": []
          }
        },
        {
          "output_type": "stream",
          "text": [
            "\n",
            "\n"
          ],
          "name": "stdout"
        },
        {
          "output_type": "display_data",
          "data": {
            "text/latex": "$\\displaystyle P3' = \\left[\\begin{matrix}x_{21}'\\\\y_{21}'\\\\z_{21}'\\end{matrix}\\right] = \\left[\\begin{matrix}h_{11} x_{21} + h_{12} y_{21} + h_{13} z_{21}\\\\h_{21} x_{21} + h_{22} y_{21} + h_{23} z_{21}\\\\h_{31} x_{21} + h_{32} y_{21} + h_{33} z_{21}\\end{matrix}\\right] = \\left[\\begin{matrix}1.232\\\\15.406\\\\1\\end{matrix}\\right]$",
            "text/plain": [
              "Eq(Eq(Eq(P3', Matrix([\n",
              "[x_{21}'],\n",
              "[y_{21}'],\n",
              "[z_{21}']])), Matrix([\n",
              "[h11*x21 + h12*y21 + h13*z21],\n",
              "[h21*x21 + h22*y21 + h23*z21],\n",
              "[h31*x21 + h32*y21 + h33*z21]])), Matrix([\n",
              "[ 1.232],\n",
              "[15.406],\n",
              "[     1]]))"
            ]
          },
          "metadata": {
            "tags": []
          }
        },
        {
          "output_type": "stream",
          "text": [
            "\n",
            "\n"
          ],
          "name": "stdout"
        },
        {
          "output_type": "display_data",
          "data": {
            "text/latex": "$\\displaystyle P4' = \\left[\\begin{matrix}x_{22}'\\\\y_{22}'\\\\z_{22}'\\end{matrix}\\right] = \\left[\\begin{matrix}h_{11} x_{22} + h_{12} y_{22} + h_{13} z_{22}\\\\h_{21} x_{22} + h_{22} y_{22} + h_{23} z_{22}\\\\h_{31} x_{22} + h_{32} y_{22} + h_{33} z_{22}\\end{matrix}\\right] = \\left[\\begin{matrix}3.696\\\\22.834\\\\1\\end{matrix}\\right]$",
            "text/plain": [
              "Eq(Eq(Eq(P4', Matrix([\n",
              "[x_{22}'],\n",
              "[y_{22}'],\n",
              "[z_{22}']])), Matrix([\n",
              "[h11*x22 + h12*y22 + h13*z22],\n",
              "[h21*x22 + h22*y22 + h23*z22],\n",
              "[h31*x22 + h32*y22 + h33*z22]])), Matrix([\n",
              "[ 3.696],\n",
              "[22.834],\n",
              "[     1]]))"
            ]
          },
          "metadata": {
            "tags": []
          }
        },
        {
          "output_type": "stream",
          "text": [
            "\n",
            "\n"
          ],
          "name": "stdout"
        },
        {
          "output_type": "display_data",
          "data": {
            "text/markdown": "Now we do the same for the lines (points transforms  covariantly).",
            "text/plain": [
              "<IPython.core.display.Markdown object>"
            ]
          },
          "metadata": {
            "tags": []
          }
        },
        {
          "output_type": "stream",
          "text": [
            "\n",
            "\n"
          ],
          "name": "stdout"
        },
        {
          "output_type": "display_data",
          "data": {
            "text/latex": "$\\displaystyle Ha^{-1} = \\left[\\begin{matrix}\\frac{h_{22} h_{33} - h_{23} h_{32}}{h_{11} h_{22} h_{33} - h_{11} h_{23} h_{32} - h_{12} h_{21} h_{33} + h_{12} h_{23} h_{31} + h_{13} h_{21} h_{32} - h_{13} h_{22} h_{31}} & \\frac{- h_{12} h_{33} + h_{13} h_{32}}{h_{11} h_{22} h_{33} - h_{11} h_{23} h_{32} - h_{12} h_{21} h_{33} + h_{12} h_{23} h_{31} + h_{13} h_{21} h_{32} - h_{13} h_{22} h_{31}} & \\frac{h_{12} h_{23} - h_{13} h_{22}}{h_{11} h_{22} h_{33} - h_{11} h_{23} h_{32} - h_{12} h_{21} h_{33} + h_{12} h_{23} h_{31} + h_{13} h_{21} h_{32} - h_{13} h_{22} h_{31}}\\\\\\frac{- h_{21} h_{33} + h_{23} h_{31}}{h_{11} h_{22} h_{33} - h_{11} h_{23} h_{32} - h_{12} h_{21} h_{33} + h_{12} h_{23} h_{31} + h_{13} h_{21} h_{32} - h_{13} h_{22} h_{31}} & \\frac{h_{11} h_{33} - h_{13} h_{31}}{h_{11} h_{22} h_{33} - h_{11} h_{23} h_{32} - h_{12} h_{21} h_{33} + h_{12} h_{23} h_{31} + h_{13} h_{21} h_{32} - h_{13} h_{22} h_{31}} & \\frac{- h_{11} h_{23} + h_{13} h_{21}}{h_{11} h_{22} h_{33} - h_{11} h_{23} h_{32} - h_{12} h_{21} h_{33} + h_{12} h_{23} h_{31} + h_{13} h_{21} h_{32} - h_{13} h_{22} h_{31}}\\\\\\frac{h_{21} h_{32} - h_{22} h_{31}}{h_{11} h_{22} h_{33} - h_{11} h_{23} h_{32} - h_{12} h_{21} h_{33} + h_{12} h_{23} h_{31} + h_{13} h_{21} h_{32} - h_{13} h_{22} h_{31}} & \\frac{- h_{11} h_{32} + h_{12} h_{31}}{h_{11} h_{22} h_{33} - h_{11} h_{23} h_{32} - h_{12} h_{21} h_{33} + h_{12} h_{23} h_{31} + h_{13} h_{21} h_{32} - h_{13} h_{22} h_{31}} & \\frac{h_{11} h_{22} - h_{12} h_{21}}{h_{11} h_{22} h_{33} - h_{11} h_{23} h_{32} - h_{12} h_{21} h_{33} + h_{12} h_{23} h_{31} + h_{13} h_{21} h_{32} - h_{13} h_{22} h_{31}}\\end{matrix}\\right]$",
            "text/plain": [
              "Eq(Ha^{-1}, Matrix([\n",
              "[ (h22*h33 - h23*h32)/(h11*h22*h33 - h11*h23*h32 - h12*h21*h33 + h12*h23*h31 + h13*h21*h32 - h13*h22*h31), (-h12*h33 + h13*h32)/(h11*h22*h33 - h11*h23*h32 - h12*h21*h33 + h12*h23*h31 + h13*h21*h32 - h13*h22*h31),  (h12*h23 - h13*h22)/(h11*h22*h33 - h11*h23*h32 - h12*h21*h33 + h12*h23*h31 + h13*h21*h32 - h13*h22*h31)],\n",
              "[(-h21*h33 + h23*h31)/(h11*h22*h33 - h11*h23*h32 - h12*h21*h33 + h12*h23*h31 + h13*h21*h32 - h13*h22*h31),  (h11*h33 - h13*h31)/(h11*h22*h33 - h11*h23*h32 - h12*h21*h33 + h12*h23*h31 + h13*h21*h32 - h13*h22*h31), (-h11*h23 + h13*h21)/(h11*h22*h33 - h11*h23*h32 - h12*h21*h33 + h12*h23*h31 + h13*h21*h32 - h13*h22*h31)],\n",
              "[ (h21*h32 - h22*h31)/(h11*h22*h33 - h11*h23*h32 - h12*h21*h33 + h12*h23*h31 + h13*h21*h32 - h13*h22*h31), (-h11*h32 + h12*h31)/(h11*h22*h33 - h11*h23*h32 - h12*h21*h33 + h12*h23*h31 + h13*h21*h32 - h13*h22*h31),  (h11*h22 - h12*h21)/(h11*h22*h33 - h11*h23*h32 - h12*h21*h33 + h12*h23*h31 + h13*h21*h32 - h13*h22*h31)]]))"
            ]
          },
          "metadata": {
            "tags": []
          }
        },
        {
          "output_type": "stream",
          "text": [
            "\n",
            "\n"
          ],
          "name": "stdout"
        },
        {
          "output_type": "display_data",
          "data": {
            "text/latex": "$\\displaystyle Ha^{-1} = \\left[\\begin{matrix}0.566 & 0.0816 & -0.954\\\\-0.0816 & 0.566 & -0.613\\\\0 & 0 & 1.0\\end{matrix}\\right]$",
            "text/plain": [
              "Eq(Ha^{-1}, Matrix([\n",
              "[  0.566, 0.0816, -0.954],\n",
              "[-0.0816,  0.566, -0.613],\n",
              "[      0,      0,    1.0]]))"
            ]
          },
          "metadata": {
            "tags": []
          }
        },
        {
          "output_type": "stream",
          "text": [
            "\n",
            "\n"
          ],
          "name": "stdout"
        },
        {
          "output_type": "display_data",
          "data": {
            "text/markdown": "Since has been possible to invert Ha, we can establish that is a non-singular matrix, which is a key property.",
            "text/plain": [
              "<IPython.core.display.Markdown object>"
            ]
          },
          "metadata": {
            "tags": []
          }
        },
        {
          "output_type": "stream",
          "text": [
            "\n",
            "\n"
          ],
          "name": "stdout"
        },
        {
          "output_type": "display_data",
          "data": {
            "text/latex": "$\\displaystyle Ha^{-T} = \\left[\\begin{matrix}0.566 & -0.0816 & 0\\\\0.0816 & 0.566 & 0\\\\-0.954 & -0.613 & 1.0\\end{matrix}\\right]$",
            "text/plain": [
              "Eq(Ha^{-T}, Matrix([\n",
              "[ 0.566, -0.0816,   0],\n",
              "[0.0816,   0.566,   0],\n",
              "[-0.954,  -0.613, 1.0]]))"
            ]
          },
          "metadata": {
            "tags": []
          }
        },
        {
          "output_type": "stream",
          "text": [
            "\n",
            "\n"
          ],
          "name": "stdout"
        },
        {
          "output_type": "display_data",
          "data": {
            "text/latex": "$\\displaystyle L1' = \\left[\\begin{matrix}lx_{1}'\\\\ly_{1}'\\\\lz_{1}'\\end{matrix}\\right] = H^{-T} L1 = \\left[\\begin{matrix}-1.21\\\\0.402\\\\0.296\\end{matrix}\\right]$",
            "text/plain": [
              "Eq(Eq(Eq(L1', Matrix([\n",
              "[lx_{1}'],\n",
              "[ly_{1}'],\n",
              "[lz_{1}']])), H^{-T} L1), Matrix([\n",
              "[-1.21],\n",
              "[0.402],\n",
              "[0.296]]))"
            ]
          },
          "metadata": {
            "tags": []
          }
        },
        {
          "output_type": "stream",
          "text": [
            "\n",
            "\n"
          ],
          "name": "stdout"
        },
        {
          "output_type": "display_data",
          "data": {
            "text/latex": "$\\displaystyle L2' = \\left[\\begin{matrix}lx_{2}'\\\\ly_{2}'\\\\lz_{2}'\\end{matrix}\\right] = H^{-T} L2 = \\left[\\begin{matrix}-1.21\\\\0.402\\\\-4.7\\end{matrix}\\right]$",
            "text/plain": [
              "Eq(Eq(Eq(L2', Matrix([\n",
              "[lx_{2}'],\n",
              "[ly_{2}'],\n",
              "[lz_{2}']])), H^{-T} L2), Matrix([\n",
              "[-1.21],\n",
              "[0.402],\n",
              "[ -4.7]]))"
            ]
          },
          "metadata": {
            "tags": []
          }
        },
        {
          "output_type": "stream",
          "text": [
            "\n",
            "\n"
          ],
          "name": "stdout"
        },
        {
          "output_type": "display_data",
          "data": {
            "text/markdown": "It's important to do the verification about points on the lines one more time with the new values.",
            "text/plain": [
              "<IPython.core.display.Markdown object>"
            ]
          },
          "metadata": {
            "tags": []
          }
        },
        {
          "output_type": "stream",
          "text": [
            "\n",
            "\n"
          ],
          "name": "stdout"
        },
        {
          "output_type": "display_data",
          "data": {
            "text/latex": "$\\displaystyle L1'^{T}P1' = lx_{1}' x_{11}' + ly_{1}' y_{11}' + lz_{1}' z_{11}' = 0$",
            "text/plain": [
              "Eq(Eq(L1'^{T}P1', lx_{1}'*x_{11}' + ly_{1}'*y_{11}' + lz_{1}'*z_{11}'), 0)"
            ]
          },
          "metadata": {
            "tags": []
          }
        },
        {
          "output_type": "display_data",
          "data": {
            "text/latex": "$\\displaystyle L1'^{T}P2' = lx_{1}' x_{12}' + ly_{1}' y_{12}' + lz_{1}' z_{12}' = 0$",
            "text/plain": [
              "Eq(Eq(L1'^{T}P2', lx_{1}'*x_{12}' + ly_{1}'*y_{12}' + lz_{1}'*z_{12}'), 0)"
            ]
          },
          "metadata": {
            "tags": []
          }
        },
        {
          "output_type": "display_data",
          "data": {
            "text/latex": "$\\displaystyle L2'^{T}P3' = lx_{2}' x_{21}' + ly_{2}' y_{21}' + lz_{2}' z_{21}' = 0$",
            "text/plain": [
              "Eq(Eq(L2'^{T}P3', lx_{2}'*x_{21}' + ly_{2}'*y_{21}' + lz_{2}'*z_{21}'), 0)"
            ]
          },
          "metadata": {
            "tags": []
          }
        },
        {
          "output_type": "display_data",
          "data": {
            "text/latex": "$\\displaystyle L2'^{T}P4' = lx_{2}' x_{22}' + ly_{2}' y_{22}' + lz_{2}' z_{22}' = 0$",
            "text/plain": [
              "Eq(Eq(L2'^{T}P4', lx_{2}'*x_{22}' + ly_{2}'*y_{22}' + lz_{2}'*z_{22}'), 0)"
            ]
          },
          "metadata": {
            "tags": []
          }
        },
        {
          "output_type": "stream",
          "text": [
            "\n",
            "\n"
          ],
          "name": "stdout"
        },
        {
          "output_type": "display_data",
          "data": {
            "text/markdown": "Finally we evaluate the new pair of distances between the new points.",
            "text/plain": [
              "<IPython.core.display.Markdown object>"
            ]
          },
          "metadata": {
            "tags": []
          }
        },
        {
          "output_type": "stream",
          "text": [
            "\n",
            "\n"
          ],
          "name": "stdout"
        },
        {
          "output_type": "display_data",
          "data": {
            "text/latex": "$\\displaystyle D1' = (P1'-P2')^{T} (P2'-P2') = 15.312$",
            "text/plain": [
              "Eq(Eq(D1', (P1'-P2')^{T} (P2'-P2')), 15.312)"
            ]
          },
          "metadata": {
            "tags": []
          }
        },
        {
          "output_type": "stream",
          "text": [
            "\n",
            "\n"
          ],
          "name": "stdout"
        },
        {
          "output_type": "display_data",
          "data": {
            "text/latex": "$\\displaystyle D2' = (P3'-P4')^{T} (P3'-P4') = 61.246$",
            "text/plain": [
              "Eq(Eq(D2', (P3'-P4')^{T} (P3'-P4')), 61.246)"
            ]
          },
          "metadata": {
            "tags": []
          }
        },
        {
          "output_type": "stream",
          "text": [
            "\n",
            "\n"
          ],
          "name": "stdout"
        },
        {
          "output_type": "display_data",
          "data": {
            "text/markdown": "The distance between 2 points must be scaled by a factor equal to the determinant of Ha.",
            "text/plain": [
              "<IPython.core.display.Markdown object>"
            ]
          },
          "metadata": {
            "tags": []
          }
        },
        {
          "output_type": "stream",
          "text": [
            "\n",
            "\n"
          ],
          "name": "stdout"
        },
        {
          "output_type": "display_data",
          "data": {
            "text/latex": "$\\displaystyle D1' = D1'/det(H_{a}) = 5.0$",
            "text/plain": [
              "Eq(Eq(D1', D1'/det(H_{a})), 5.0)"
            ]
          },
          "metadata": {
            "tags": []
          }
        },
        {
          "output_type": "display_data",
          "data": {
            "text/latex": "$\\displaystyle D2' = D2'/det(H_{a}) = 20.0$",
            "text/plain": [
              "Eq(Eq(D2', D2'/det(H_{a})), 20.0)"
            ]
          },
          "metadata": {
            "tags": []
          }
        },
        {
          "output_type": "stream",
          "text": [
            "\n",
            "\n"
          ],
          "name": "stdout"
        },
        {
          "output_type": "display_data",
          "data": {
            "text/latex": "$\\textbf{Conclusion:}$",
            "text/plain": [
              "<IPython.core.display.Latex object>"
            ]
          },
          "metadata": {
            "tags": []
          }
        },
        {
          "output_type": "stream",
          "text": [
            "\n",
            "\n"
          ],
          "name": "stdout"
        },
        {
          "output_type": "display_data",
          "data": {
            "text/markdown": "It's now possible to compute the ratio of the length of the segments",
            "text/plain": [
              "<IPython.core.display.Markdown object>"
            ]
          },
          "metadata": {
            "tags": []
          }
        },
        {
          "output_type": "stream",
          "text": [
            "\n",
            "\n"
          ],
          "name": "stdout"
        },
        {
          "output_type": "display_data",
          "data": {
            "text/latex": "$\\displaystyle D1/D2 = 0.25$",
            "text/plain": [
              "Eq(D1/D2, 0.25)"
            ]
          },
          "metadata": {
            "tags": []
          }
        },
        {
          "output_type": "stream",
          "text": [
            "\n",
            "\n"
          ],
          "name": "stdout"
        },
        {
          "output_type": "display_data",
          "data": {
            "text/latex": "$\\displaystyle D1'/D2' = 0.25$",
            "text/plain": [
              "Eq(D1'/D2', 0.25)"
            ]
          },
          "metadata": {
            "tags": []
          }
        },
        {
          "output_type": "stream",
          "text": [
            "\n",
            "\n"
          ],
          "name": "stdout"
        },
        {
          "output_type": "display_data",
          "data": {
            "text/latex": "$\\displaystyle D1/D2 = D1'/D2'$",
            "text/plain": [
              "Eq(D1/D2, D1'/D2')"
            ]
          },
          "metadata": {
            "tags": []
          }
        },
        {
          "output_type": "stream",
          "text": [
            "\n",
            "\n"
          ],
          "name": "stdout"
        },
        {
          "output_type": "display_data",
          "data": {
            "text/markdown": "From this equality, we can conclude that the ratio of length of parallel lines is preserved",
            "text/plain": [
              "<IPython.core.display.Markdown object>"
            ]
          },
          "metadata": {
            "tags": []
          }
        }
      ]
    },
    {
      "cell_type": "markdown",
      "metadata": {
        "id": "G30H-x9rdhM6"
      },
      "source": [
        "# Exerise 3.2"
      ]
    },
    {
      "cell_type": "code",
      "metadata": {
        "colab": {
          "base_uri": "https://localhost:8080/",
          "height": 1000
        },
        "id": "8nS0LbRbdjW2",
        "outputId": "cfe88d77-7aab-4fa4-e961-67c7eac68b40"
      },
      "source": [
        "\"\"\" \n",
        "****************************************************************************************************\n",
        "**************************************** Simpy symbols *********************************************\n",
        "****************************************************************************************************\n",
        "\"\"\"\n",
        "\n",
        "P1,P2,P3,I,J = sp.symbols('P_{1},P_{2},P_{3},I,J', real = True) #points\n",
        "# Values of the points\n",
        "P1x,P1y,P1z,P2x,P2y,P2z,P3x,P3y,P3z,Ix,Iy,Iz,Jx,Jy,Jz = sp.symbols('p_{1x},p_{1y},p_{1z},p_{2x},p_{2y},p_{2z},\\\n",
        "p_{3x},p_{3y},p_{3z},i_{x},i_{y},i_{z},j_{x},j_{y},j_{z},', real = True)\n",
        "\n",
        "# Conic equation \n",
        "x1,x2,x3,a,b,c,d,e,f = sp.symbols('x_{1},x_{2},x_{3},a,b,c,d,e,f', real = True) #points\n",
        "conic_coeff = Matrix([a,b,c,d,e,f])\n",
        "conic_coeff_values = Matrix([a,0,a,1,e,f])\n",
        "# imaginary value \n",
        "i = sp.symbols('i', real = True) #points\n",
        "P1xs,P1ys,P2xs,P2ys,P3xs,P3ys, P1xsP1ys, P2xsP2ys, P3xsP3ys= sp.symbols('p_{1x}^{2},p_{1y}^{2},p_{2x}^{2},p_{2y}^{2},p_{3x}^{2},\\\n",
        "p_{3y}^{2}, p_{1x}p_{1y}, p_{2x}p_{2y}, p_{3x}p_{3y}', real = True) #points\n",
        "\n",
        "# conic system\n",
        "conic_eqs = Matrix([[P1xs,P1xsP1ys,P1ys,P1x,P1y,1],[P2xs,P2xsP2ys,P2ys,P2x,P2y,1],[P3xs,P3xsP3ys,P3ys,P3x,P3y,1]\\\n",
        ",[1,i,-1,0,0,0],[1,-i,-1,0,0,0]])\n",
        "conic_eqs_values = Matrix([[36,30,25,6,5,1],[81,18,4,9,2,1],[81,72,64,9,8,1],[1,i,-1,0,0,0],[1,-i,-1,0,0,0]])\n",
        "# make the matrices \n",
        "\n",
        "P1 = Matrix([P1x,P1y,P1z])\n",
        "P2 = Matrix([P2x,P2y,P2z])\n",
        "P3 = Matrix([P3x,P3y,P3z])\n",
        "I = Matrix([Ix,Iy,Iz])\n",
        "J = Matrix([Jx,Jy,Jz])\n",
        "\n",
        "P1_values = P1.subs([(P1x, 6), (P1y, 5), (P1z,1)])\n",
        "P2_values = P2.subs([(P2x, 9), (P2y, 2), (P2z,1)])\n",
        "P3_values = P3.subs([(P3x, 9), (P3y, 8), (P3z,1)])\n",
        "I_values =  I.subs([(Ix, 1), (Iy, i), (Iz,0)])\n",
        "J_values =  J.subs([(Jx, 1), (Jy, -i), (Jz,0)])\n",
        "\n",
        "\"\"\" \n",
        "****************************************************************************************************\n",
        "************************************ Simpy implementation ******************************************\n",
        "****************************************************************************************************\n",
        "\"\"\"\n",
        "\n",
        "display(Latex('$\\\\bold{Exercise: 3.2}$'))\n",
        "print(\"\\n\")\n",
        "display(Markdown(\"In this exercise we want to demonstrate that a circle can be computed using 3 points and 2 circular points.\"))\n",
        "display(Markdown(\"To make the proof, we define 3 points: P1, P2, P3 and 2 circular points: I and J.\"))\n",
        "print(\"\\n\")\n",
        "display(Eq(Eq(S('P1'), P1, evaluate=False), P1_values, evaluate=False))\n",
        "print(\"\\n\")\n",
        "display(Eq(Eq(S('P2'), P2, evaluate=False), P2_values, evaluate=False))\n",
        "print(\"\\n\")\n",
        "display(Eq(Eq(S('P3'), P3, evaluate=False), P3_values, evaluate=False))\n",
        "print(\"\\n\")\n",
        "display(Eq(Eq(S('I'), I, evaluate=False), I_values, evaluate=False))\n",
        "print(\"\\n\")\n",
        "display(Eq(Eq(S('J'), J, evaluate=False), J_values, evaluate=False))\n",
        "print(\"\\n\")\n",
        "\n",
        "display(Markdown(\"We take in account the classical equation of a conic which is:\"))\n",
        "display(Latex(r'${ax_{1}}^{2} + bx_{1}x_{2} + {cx_{2}}^{2} + dx_{1}x_{3} + e x_{2}x_{3} + {fx_{3}}^{2} = 0 $'))\n",
        "print(\"\\n\")\n",
        "display(Markdown(\"We construct the system with 5 equations that are carried out substituting  the points inside the conic equation.\"))\n",
        "\n",
        "\n",
        "display(Latex(r'$ap_{1x}^{2} + bp_{1x}p_{1y} + cp_{1y}^{2} + dp_{1x} + ep_{1y} + f = 0 $'))\n",
        "display(Latex(r'$ap_{2x}^{2} + bp_{2x}p_{2y} + cp_{2y}^{2} + dp_{2x} + ep_{2y} + f = 0 $'))\n",
        "display(Latex(r'$ap_{3x}^{2} + bp_{3x}p_{3y} + cp_{3y}^{2} + dp_{3x} + ep_{3y} + f = 0 $'))\n",
        "display(Latex(r'$a + b(i) -c = 0$'))\n",
        "display(Latex(r'$a - b(i) -c = 0$'))\n",
        "print(\"\\n\")\n",
        "display(Markdown(\"Solving the last 2 equations from the circular points the result are:\"))\n",
        "display(Latex(r'$a = c$'))\n",
        "display(Latex(r'$b = 0$'))\n",
        "\n",
        "display(Markdown(\"The system written in the matrix form is the following:\"))\n",
        "\n",
        "display(Eq(Eq(MatMul(conic_eqs,conic_coeff), (conic_eqs_values*conic_coeff_values), evaluate=False), Matrix([0,0,0,0,0,0]), evaluate=False)) #check it conic_eqs * conic_coeff\n",
        "\n",
        "display(Markdown(\"Having five independent  equations we have five Degrees of freedom, so with 5 points it's possible to define the circle. The sixth is determined from the other five.\"))\n",
        "display(Markdown(\"Solving the equation we obtain:\"))\n",
        "solution = solve((conic_eqs_values*conic_coeff_values), (a, e, f))\n",
        "display(solution)\n",
        "print(\"\\n\")\n",
        "\n",
        "display(Latex(\"$\\\\textbf{Conclusion:}$\"))\n",
        "print(\"\\n\")\n",
        "display(Markdown(\"Therefore, the final vector of conic's coefficients is\"))\n",
        "display(Latex(r'$C = \\{a=-0.05, b=0, c=-0.05, d=1, e=0.5, f=-5.38\\}$'))\n",
        "display(Markdown(\"Which has been found fixing the d coefficient  equal to 1.\"))\n",
        "\n"
      ],
      "execution_count": 12,
      "outputs": [
        {
          "output_type": "display_data",
          "data": {
            "text/latex": "$\\bold{Exercise: 3.2}$",
            "text/plain": [
              "<IPython.core.display.Latex object>"
            ]
          },
          "metadata": {
            "tags": []
          }
        },
        {
          "output_type": "stream",
          "text": [
            "\n",
            "\n"
          ],
          "name": "stdout"
        },
        {
          "output_type": "display_data",
          "data": {
            "text/markdown": "In this exercise we want to demonstrate that a circle can be computed using 3 points and 2 circular points.",
            "text/plain": [
              "<IPython.core.display.Markdown object>"
            ]
          },
          "metadata": {
            "tags": []
          }
        },
        {
          "output_type": "display_data",
          "data": {
            "text/markdown": "To make the proof, we define 3 points: P1, P2, P3 and 2 circular points: I and J.",
            "text/plain": [
              "<IPython.core.display.Markdown object>"
            ]
          },
          "metadata": {
            "tags": []
          }
        },
        {
          "output_type": "stream",
          "text": [
            "\n",
            "\n"
          ],
          "name": "stdout"
        },
        {
          "output_type": "display_data",
          "data": {
            "text/latex": "$\\displaystyle P_{1} = \\left[\\begin{matrix}p_{1x}\\\\p_{1y}\\\\p_{1z}\\end{matrix}\\right] = \\left[\\begin{matrix}6\\\\5\\\\1\\end{matrix}\\right]$",
            "text/plain": [
              "Eq(Eq(P1, Matrix([\n",
              "[p_{1x}],\n",
              "[p_{1y}],\n",
              "[p_{1z}]])), Matrix([\n",
              "[6],\n",
              "[5],\n",
              "[1]]))"
            ]
          },
          "metadata": {
            "tags": []
          }
        },
        {
          "output_type": "stream",
          "text": [
            "\n",
            "\n"
          ],
          "name": "stdout"
        },
        {
          "output_type": "display_data",
          "data": {
            "text/latex": "$\\displaystyle P_{2} = \\left[\\begin{matrix}p_{2x}\\\\p_{2y}\\\\p_{2z}\\end{matrix}\\right] = \\left[\\begin{matrix}9\\\\2\\\\1\\end{matrix}\\right]$",
            "text/plain": [
              "Eq(Eq(P2, Matrix([\n",
              "[p_{2x}],\n",
              "[p_{2y}],\n",
              "[p_{2z}]])), Matrix([\n",
              "[9],\n",
              "[2],\n",
              "[1]]))"
            ]
          },
          "metadata": {
            "tags": []
          }
        },
        {
          "output_type": "stream",
          "text": [
            "\n",
            "\n"
          ],
          "name": "stdout"
        },
        {
          "output_type": "display_data",
          "data": {
            "text/latex": "$\\displaystyle P_{3} = \\left[\\begin{matrix}p_{3x}\\\\p_{3y}\\\\p_{3z}\\end{matrix}\\right] = \\left[\\begin{matrix}9\\\\8\\\\1\\end{matrix}\\right]$",
            "text/plain": [
              "Eq(Eq(P3, Matrix([\n",
              "[p_{3x}],\n",
              "[p_{3y}],\n",
              "[p_{3z}]])), Matrix([\n",
              "[9],\n",
              "[8],\n",
              "[1]]))"
            ]
          },
          "metadata": {
            "tags": []
          }
        },
        {
          "output_type": "stream",
          "text": [
            "\n",
            "\n"
          ],
          "name": "stdout"
        },
        {
          "output_type": "display_data",
          "data": {
            "text/latex": "$\\displaystyle i = \\left[\\begin{matrix}i_{x}\\\\i_{y}\\\\i_{z}\\end{matrix}\\right] = \\left[\\begin{matrix}1\\\\i\\\\0\\end{matrix}\\right]$",
            "text/plain": [
              "Eq(Eq(I, Matrix([\n",
              "[i_{x}],\n",
              "[i_{y}],\n",
              "[i_{z}]])), Matrix([\n",
              "[1],\n",
              "[i],\n",
              "[0]]))"
            ]
          },
          "metadata": {
            "tags": []
          }
        },
        {
          "output_type": "stream",
          "text": [
            "\n",
            "\n"
          ],
          "name": "stdout"
        },
        {
          "output_type": "display_data",
          "data": {
            "text/latex": "$\\displaystyle J = \\left[\\begin{matrix}j_{x}\\\\j_{y}\\\\j_{z}\\end{matrix}\\right] = \\left[\\begin{matrix}1\\\\- i\\\\0\\end{matrix}\\right]$",
            "text/plain": [
              "Eq(Eq(J, Matrix([\n",
              "[j_{x}],\n",
              "[j_{y}],\n",
              "[j_{z}]])), Matrix([\n",
              "[ 1],\n",
              "[-i],\n",
              "[ 0]]))"
            ]
          },
          "metadata": {
            "tags": []
          }
        },
        {
          "output_type": "stream",
          "text": [
            "\n",
            "\n"
          ],
          "name": "stdout"
        },
        {
          "output_type": "display_data",
          "data": {
            "text/markdown": "We take in account the classical equation of a conic which is:",
            "text/plain": [
              "<IPython.core.display.Markdown object>"
            ]
          },
          "metadata": {
            "tags": []
          }
        },
        {
          "output_type": "display_data",
          "data": {
            "text/latex": "${ax_{1}}^{2} + bx_{1}x_{2} + {cx_{2}}^{2} + dx_{1}x_{3} + e x_{2}x_{3} + {fx_{3}}^{2} = 0 $",
            "text/plain": [
              "<IPython.core.display.Latex object>"
            ]
          },
          "metadata": {
            "tags": []
          }
        },
        {
          "output_type": "stream",
          "text": [
            "\n",
            "\n"
          ],
          "name": "stdout"
        },
        {
          "output_type": "display_data",
          "data": {
            "text/markdown": "We construct the system with 5 equations that are carried out substituting  the points inside the conic equation.",
            "text/plain": [
              "<IPython.core.display.Markdown object>"
            ]
          },
          "metadata": {
            "tags": []
          }
        },
        {
          "output_type": "display_data",
          "data": {
            "text/latex": "$ap_{1x}^{2} + bp_{1x}p_{1y} + cp_{1y}^{2} + dp_{1x} + ep_{1y} + f = 0 $",
            "text/plain": [
              "<IPython.core.display.Latex object>"
            ]
          },
          "metadata": {
            "tags": []
          }
        },
        {
          "output_type": "display_data",
          "data": {
            "text/latex": "$ap_{2x}^{2} + bp_{2x}p_{2y} + cp_{2y}^{2} + dp_{2x} + ep_{2y} + f = 0 $",
            "text/plain": [
              "<IPython.core.display.Latex object>"
            ]
          },
          "metadata": {
            "tags": []
          }
        },
        {
          "output_type": "display_data",
          "data": {
            "text/latex": "$ap_{3x}^{2} + bp_{3x}p_{3y} + cp_{3y}^{2} + dp_{3x} + ep_{3y} + f = 0 $",
            "text/plain": [
              "<IPython.core.display.Latex object>"
            ]
          },
          "metadata": {
            "tags": []
          }
        },
        {
          "output_type": "display_data",
          "data": {
            "text/latex": "$a + b(i) -c = 0$",
            "text/plain": [
              "<IPython.core.display.Latex object>"
            ]
          },
          "metadata": {
            "tags": []
          }
        },
        {
          "output_type": "display_data",
          "data": {
            "text/latex": "$a - b(i) -c = 0$",
            "text/plain": [
              "<IPython.core.display.Latex object>"
            ]
          },
          "metadata": {
            "tags": []
          }
        },
        {
          "output_type": "stream",
          "text": [
            "\n",
            "\n"
          ],
          "name": "stdout"
        },
        {
          "output_type": "display_data",
          "data": {
            "text/markdown": "Solving the last 2 equations from the circular points the result are:",
            "text/plain": [
              "<IPython.core.display.Markdown object>"
            ]
          },
          "metadata": {
            "tags": []
          }
        },
        {
          "output_type": "display_data",
          "data": {
            "text/latex": "$a = c$",
            "text/plain": [
              "<IPython.core.display.Latex object>"
            ]
          },
          "metadata": {
            "tags": []
          }
        },
        {
          "output_type": "display_data",
          "data": {
            "text/latex": "$b = 0$",
            "text/plain": [
              "<IPython.core.display.Latex object>"
            ]
          },
          "metadata": {
            "tags": []
          }
        },
        {
          "output_type": "display_data",
          "data": {
            "text/markdown": "The system written in the matrix form is the following:",
            "text/plain": [
              "<IPython.core.display.Markdown object>"
            ]
          },
          "metadata": {
            "tags": []
          }
        },
        {
          "output_type": "display_data",
          "data": {
            "text/latex": "$\\displaystyle \\left[\\begin{matrix}p_{1x}^{2} & p_{1x}p_{1y} & p_{1y}^{2} & p_{1x} & p_{1y} & 1\\\\p_{2x}^{2} & p_{2x}p_{2y} & p_{2y}^{2} & p_{2x} & p_{2y} & 1\\\\p_{3x}^{2} & p_{3x}p_{3y} & p_{3y}^{2} & p_{3x} & p_{3y} & 1\\\\1 & i & -1 & 0 & 0 & 0\\\\1 & - i & -1 & 0 & 0 & 0\\end{matrix}\\right] \\left[\\begin{matrix}a\\\\b\\\\c\\\\d\\\\e\\\\f\\end{matrix}\\right] = \\left[\\begin{matrix}61 a + 5 e + f + 6\\\\85 a + 2 e + f + 9\\\\145 a + 8 e + f + 9\\\\0\\\\0\\end{matrix}\\right] = \\left[\\begin{matrix}0\\\\0\\\\0\\\\0\\\\0\\\\0\\end{matrix}\\right]$",
            "text/plain": [
              "Eq(Eq(Matrix([\n",
              "[p_{1x}^{2}, p_{1x}p_{1y}, p_{1y}^{2}, p_{1x}, p_{1y}, 1],\n",
              "[p_{2x}^{2}, p_{2x}p_{2y}, p_{2y}^{2}, p_{2x}, p_{2y}, 1],\n",
              "[p_{3x}^{2}, p_{3x}p_{3y}, p_{3y}^{2}, p_{3x}, p_{3y}, 1],\n",
              "[         1,            i,         -1,      0,      0, 0],\n",
              "[         1,           -i,         -1,      0,      0, 0]])*Matrix([\n",
              "[a],\n",
              "[b],\n",
              "[c],\n",
              "[d],\n",
              "[e],\n",
              "[f]]), Matrix([\n",
              "[ 61*a + 5*e + f + 6],\n",
              "[ 85*a + 2*e + f + 9],\n",
              "[145*a + 8*e + f + 9],\n",
              "[                  0],\n",
              "[                  0]])), Matrix([\n",
              "[0],\n",
              "[0],\n",
              "[0],\n",
              "[0],\n",
              "[0],\n",
              "[0]]))"
            ]
          },
          "metadata": {
            "tags": []
          }
        },
        {
          "output_type": "display_data",
          "data": {
            "text/markdown": "Having five independent  equations we have five Degrees of freedom, so with 5 points it's possible to define the circle. The sixth is determined from the other five.",
            "text/plain": [
              "<IPython.core.display.Markdown object>"
            ]
          },
          "metadata": {
            "tags": []
          }
        },
        {
          "output_type": "display_data",
          "data": {
            "text/markdown": "Solving the equation we obtain:",
            "text/plain": [
              "<IPython.core.display.Markdown object>"
            ]
          },
          "metadata": {
            "tags": []
          }
        },
        {
          "output_type": "display_data",
          "data": {
            "text/plain": [
              "{a: -1/18, e: 5/9, f: -97/18}"
            ]
          },
          "metadata": {
            "tags": []
          }
        },
        {
          "output_type": "stream",
          "text": [
            "\n",
            "\n"
          ],
          "name": "stdout"
        },
        {
          "output_type": "display_data",
          "data": {
            "text/latex": "$\\textbf{Conclusion:}$",
            "text/plain": [
              "<IPython.core.display.Latex object>"
            ]
          },
          "metadata": {
            "tags": []
          }
        },
        {
          "output_type": "stream",
          "text": [
            "\n",
            "\n"
          ],
          "name": "stdout"
        },
        {
          "output_type": "display_data",
          "data": {
            "text/markdown": "Therefore, the final vector of conic's coefficients is",
            "text/plain": [
              "<IPython.core.display.Markdown object>"
            ]
          },
          "metadata": {
            "tags": []
          }
        },
        {
          "output_type": "display_data",
          "data": {
            "text/latex": "$C = \\{a=-0.05, b=0, c=-0.05, d=1, e=0.5, f=-5.38\\}$",
            "text/plain": [
              "<IPython.core.display.Latex object>"
            ]
          },
          "metadata": {
            "tags": []
          }
        },
        {
          "output_type": "display_data",
          "data": {
            "text/markdown": "Which has been found fixing the d coefficient  equal to 1.",
            "text/plain": [
              "<IPython.core.display.Markdown object>"
            ]
          },
          "metadata": {
            "tags": []
          }
        }
      ]
    },
    {
      "cell_type": "markdown",
      "metadata": {
        "id": "_lyPmU6otyX4"
      },
      "source": [
        "# Exercise 4.0"
      ]
    },
    {
      "cell_type": "code",
      "metadata": {
        "colab": {
          "base_uri": "https://localhost:8080/",
          "height": 1000
        },
        "id": "clWTe1kat2cC",
        "outputId": "bc32a9ba-eecd-4722-9844-e4551d012a0a"
      },
      "source": [
        "def draw_points(points, color):\n",
        "  x_points =[];y_points=[]\n",
        "  for p in points:\n",
        "    x_points.append(p[0])\n",
        "    y_points.append(p[1])\n",
        "  plt.scatter(x_points, y_points,label=\"points\",marker = \"o\", color = color)\n",
        "\n",
        "\n",
        "x_1,y_1,z_1,x_2,y_2,z_2,x_3,y_3,z_3,x_4,y_4,z_4 = sp.symbols('x1,y1,z1,x2,y2,z2,x3,y3,z3,x4,y4,z4', real = True)\n",
        "P1,P2,P3,P4 = sp.symbols(\"P1,P2,P3,P4\", real = True)\n",
        "u1,u2,u3,v1,v2,v3 = symbols('u1,u2,u3,v1,v2,v3', real = True)\n",
        "a,b,c,d,e,f = symbols('a,b,c,d,e,f', real = True)\n",
        "coefficients_conic = Matrix([a,b,c,d,e,f])\n",
        "\n",
        "\"\"\" \n",
        "****************************************************************************************************\n",
        "****************************** step by step solution and calculus **********************************\n",
        "****************************************************************************************************\n",
        "\"\"\"\n",
        "\n",
        "image = Image.open('./square_frames.png')\n",
        "im = np.array(image, dtype=np.uint8)\n",
        "\n",
        "# i define the corner points and the 12 points on the square frames\n",
        " \n",
        "left_up    = [(596.07809, 84.03683),(491.90264, 388.31167),(153.59028, 147.98612)]\n",
        "right_up   = [(895.19573, 194.40093),(778.64299, 463.60680),(480.55680, 77.84819)]\n",
        "left_down  = [(596.07809, 330.55102),(344.40670, 598.72545),(218.57106, 409.97191)]\n",
        "right_down = [(837.43508, 454.32384),(685.813380, 716.30963),(487.77688, 329.51958)]\n",
        "\n",
        "\n",
        "corner_points = [(0,0),(1,0),(0,1),(1,1)] \n",
        "points_1 = [right_down[0], left_down[0], right_up[0], left_up[0]] # right square\n",
        "points_2 = [right_down[1], left_down[1], right_up[1], left_up[1]] # bottom square\n",
        "points_3 = [right_down[2], left_down[2], right_up[2], left_up[2]] # left square\n",
        "\n",
        "# compute homographies using Cv2\n",
        "H_right, status  = cv2.findHomography(np.array(corner_points), np.array(points_1))\n",
        "H_bottom, status = cv2.findHomography(np.array(corner_points), np.array(points_2))\n",
        "H_left, status   = cv2.findHomography(np.array(corner_points), np.array(points_3))\n",
        "\n",
        "# Definition of the circular points\n",
        "\n",
        "circular_point_1 = np.array([[1], [1j], [0]]);\n",
        "circular_point_2 = np.array([[1], [-1j], [0]]);\n",
        "\n",
        "# Compute imaged circular points\n",
        "\n",
        "I_right         = np.matmul(H_right, circular_point_1)\n",
        "I_right_rounded = np.round(I_right, 4)\n",
        "J_right         = np.matmul(H_right, circular_point_2);\n",
        "J_right_rounded = np.round(J_right, 4)\n",
        "\n",
        "I_bottom         = np.matmul(H_bottom, circular_point_1)\n",
        "I_bottom_rounded = np.round(I_bottom, 4)\n",
        "J_bottom         = np.matmul(H_bottom, circular_point_2);\n",
        "J_bottom_rounded = np.round(J_bottom, 4)\n",
        "\n",
        "I_left         = np.matmul(H_left, circular_point_1)\n",
        "I_left_rounded = np.round(I_left, 4)\n",
        "J_left         = np.matmul(H_left, circular_point_2);\n",
        "J_left_rounded = np.round(J_left, 4)\n",
        "\n",
        "\n",
        "# takes columns from the imaged circular points\n",
        "H_11 = H_right[:,0]\n",
        "H_12 = H_right[:,1]\n",
        "H_21 = H_bottom[:,0]\n",
        "H_22 = H_bottom[:,1]\n",
        "H_31 = H_left[:,0]\n",
        "H_32 = H_left[:,1]\n",
        "\n",
        "# we define 5 equations to retrieve the coefficients of the conic\n",
        "\n",
        "# 5 degrees of freedom for 6 coefficients, therefore, f is chosen as 1.\n",
        "f = 1\n",
        "\n",
        "# the conic matrix composition\n",
        "W = np.array([[a,b/2,d/2],[b/2,c,e/2],[d/2,e/2,f]])\n",
        "\n",
        "eq1 = sp.Eq( np.dot ( np.dot( np.transpose(H_11), W ), H_12), 0)   \n",
        "eq2 = sp.Eq( np.dot ( np.dot( np.transpose(H_11), W ), H_11), np.dot ( np.dot( np.transpose(H_12), W ), H_12))   \n",
        "eq3 = sp.Eq( np.dot ( np.dot( np.transpose(H_21), W ), H_22), 0)   \n",
        "eq4 = sp.Eq( np.dot ( np.dot( np.transpose(H_21), W ), H_21), np.dot ( np.dot( np.transpose(H_22), W ), H_22))   \n",
        "eq5 = sp.Eq( np.dot ( np.dot( np.transpose(H_31), W ), H_32), 0)   \n",
        "eq6 = sp.Eq( np.dot ( np.dot( np.transpose(H_31), W ), H_31), np.dot ( np.dot( np.transpose(H_32), W ), H_32))   \n",
        "\n",
        "\n",
        "res = sp.solve((eq2, eq3, eq4, eq5, eq6), (a,b,c,d,e,f))\n",
        "\n",
        "a = res[a]\n",
        "b = res[b]\n",
        "c = res[c]\n",
        "d = res[d]\n",
        "e = res[e]\n",
        "# f = 1 \n",
        "\n",
        "\n",
        "# Built the conic matrix using the coefficients\n",
        "W = np.zeros((3, 3))\n",
        "\n",
        "W[0,0] = a\n",
        "W[0,1] = b/2\n",
        "W[0,2] = d/2\n",
        "W[1,0] = b/2\n",
        "W[1,1] = c\n",
        "W[1,2] = e/2\n",
        "W[2,0] = d/2\n",
        "W[2,1] = e/2\n",
        "W[2,2] = f\n",
        "\n",
        "# Compute calibration matrix from W \n",
        "W_inv = inv(np.transpose(W))\n",
        "\n",
        "# K lower triangular matrix\n",
        "K_lower = lin.cholesky(W_inv)\n",
        "\n",
        "# K upper triangular matrix\n",
        "K_upper = np.transpose(K_lower)\n",
        "\n",
        "\"\"\" \n",
        "****************************************************************************************************\n",
        "************************************* simpy implementation *****************************************\n",
        "****************************************************************************************************\n",
        "\"\"\"\n",
        "\n",
        "display(Latex('$\\\\bold{Exercise: 4}$'))\n",
        "print(\"\\n\")\n",
        "\n",
        "# start of the exercise\n",
        "\n",
        "display(Markdown(\"The aim of this exercise is to provide a simple calibration device.\"))\n",
        "display(Markdown('This exercise has been taken from the example 8.18 of the book \"Multiple View Geometry R. Hartley & A. Zisserman\"'))\n",
        "\n",
        "display(Markdown(\"As a first step, we have loaded the image suggested from the book which represents three squared frames.\"))\n",
        "display(Markdown(\"The image is the following:\"))\n",
        "\n",
        "plt.imshow(im)\n",
        "plt.show()\n",
        "\n",
        "draw_points(points_1,\"lime\")\n",
        "draw_points(points_2,\"red\")\n",
        "draw_points(points_3,\"blue\")\n",
        "\n",
        "display(Markdown(\"For each frame has been selected 4 points that represent the corners:\"))\n",
        "\n",
        "plt.imshow(im)\n",
        "plt.show()\n",
        "\n",
        "display(Markdown(\"Analytically  the vectors of the points:\"))\n",
        "\n",
        "print(\"\\n\")\n",
        "display(Markdown(\"1) The right square:\"))\n",
        "print(\"\\n\")\n",
        "PR1 = np.array([x_1, y_1, z_1])\n",
        "PR2 = np.array([x_2, y_2, z_2])\n",
        "PR3 = np.array([x_3, y_3, z_3])\n",
        "PR4 = np.array([x_4, y_4, z_4])\n",
        "\n",
        "pr1_value = Matrix(PR1).subs([(x_1, points_1[0][0]), (y_1, points_1[0][1]),  (z_1, 1)])\n",
        "pr2_value = Matrix(PR2).subs([(x_2, points_1[1][0]), (y_2, points_1[1][1]),  (z_2, 1)])\n",
        "pr3_value = Matrix(PR3).subs([(x_3, points_1[2][0]), (y_3, points_1[2][1]),  (z_3, 1)])\n",
        "pr4_value = Matrix(PR4).subs([(x_4, points_1[3][0]), (y_4, points_1[3][1]),  (z_4, 1)])\n",
        "\n",
        "display(Eq(Eq(S('PR1'), Matrix(PR1), evaluate=False), Matrix(pr1_value), evaluate=False));\n",
        "print(\"\\n\")\n",
        "display(Eq(Eq(S('PR2'), Matrix(PR2), evaluate=False), Matrix(pr2_value), evaluate=False));\n",
        "print(\"\\n\")\n",
        "display(Eq(Eq(S('PR3'), Matrix(PR3), evaluate=False), Matrix(pr3_value), evaluate=False));\n",
        "print(\"\\n\")\n",
        "display(Eq(Eq(S('PR4'), Matrix(PR4), evaluate=False), Matrix(pr4_value), evaluate=False));\n",
        "print(\"\\n\")\n",
        "\n",
        "display(Markdown(\"2) The bottom square:\"))\n",
        "print(\"\\n\")\n",
        "PB1 = np.array([x_1, y_1, z_1])\n",
        "PB2 = np.array([x_2, y_2, z_2])\n",
        "PB3 = np.array([x_3, y_3, z_3])\n",
        "PB4 = np.array([x_4, y_4, z_4])\n",
        "\n",
        "pb1_value = Matrix(PB1).subs([(x_1, points_2[0][0]), (y_1, points_2[0][1]),  (z_1, 1)])\n",
        "pb2_value = Matrix(PB2).subs([(x_2, points_2[1][0]), (y_2, points_2[1][1]),  (z_2, 1)])\n",
        "pb3_value = Matrix(PB3).subs([(x_3, points_2[2][0]), (y_3, points_2[2][1]),  (z_3, 1)])\n",
        "pb4_value = Matrix(PB4).subs([(x_4, points_2[3][0]), (y_4, points_2[3][1]),  (z_4, 1)])\n",
        "\n",
        "display(Eq(Eq(S('PB1'), Matrix(PB1), evaluate=False), Matrix(pb1_value), evaluate=False));\n",
        "print(\"\\n\")\n",
        "display(Eq(Eq(S('PB2'), Matrix(PB2), evaluate=False), Matrix(pb2_value), evaluate=False));\n",
        "print(\"\\n\")\n",
        "display(Eq(Eq(S('PB3'), Matrix(PB3), evaluate=False), Matrix(pb3_value), evaluate=False));\n",
        "print(\"\\n\")\n",
        "display(Eq(Eq(S('PB4'), Matrix(PB4), evaluate=False), Matrix(pb4_value), evaluate=False));\n",
        "print(\"\\n\")\n",
        "\n",
        "display(Markdown(\"3) The left square:\"))\n",
        "print(\"\\n\")\n",
        "PL1 = np.array([x_1, y_1, z_1])\n",
        "PL2 = np.array([x_2, y_2, z_2])\n",
        "PL3 = np.array([x_3, y_3, z_3])\n",
        "PL4 = np.array([x_4, y_4, z_4])\n",
        "\n",
        "pl1_value = Matrix(PL1).subs([(x_1, points_3[0][0]), (y_1, points_3[0][1]),  (z_1, 1)])\n",
        "pl2_value = Matrix(PL2).subs([(x_2, points_3[1][0]), (y_2, points_3[1][1]),  (z_2, 1)])\n",
        "pl3_value = Matrix(PL3).subs([(x_3, points_3[2][0]), (y_3, points_3[2][1]),  (z_3, 1)])\n",
        "pl4_value = Matrix(PL4).subs([(x_4, points_3[3][0]), (y_4, points_3[3][1]),  (z_4, 1)])\n",
        "\n",
        "display(Eq(Eq(S('PL1'), Matrix(PL1), evaluate=False), Matrix(pl1_value), evaluate=False));\n",
        "print(\"\\n\")\n",
        "display(Eq(Eq(S('PL2'), Matrix(PL2), evaluate=False), Matrix(pl2_value), evaluate=False));\n",
        "print(\"\\n\")\n",
        "display(Eq(Eq(S('PL3'), Matrix(PL3), evaluate=False), Matrix(pl3_value), evaluate=False));\n",
        "print(\"\\n\")\n",
        "display(Eq(Eq(S('PL4'), Matrix(PL4), evaluate=False), Matrix(pl4_value), evaluate=False));\n",
        "print(\"\\n\")\n",
        "\n",
        "display(Markdown(\"Then, in the same order as in the book, we define the corner points:\"))\n",
        "print(\"\\n\")\n",
        "\n",
        "PC1 = np.array([x_1, y_1, z_1])\n",
        "PC2 = np.array([x_2, y_2, z_2])\n",
        "PC3 = np.array([x_3, y_3, z_3])\n",
        "PC4 = np.array([x_4, y_4, z_4])\n",
        "\n",
        "pc1_value = Matrix(PC1).subs([(x_1, corner_points[0][0]), (y_1, corner_points[0][1]), (z_1, 1)])\n",
        "pc2_value = Matrix(PC2).subs([(x_2, corner_points[1][0]), (y_2, corner_points[1][1]), (z_2, 1)])\n",
        "pc3_value = Matrix(PC3).subs([(x_3, corner_points[2][0]), (y_3, corner_points[2][1]), (z_3, 1)])\n",
        "pc4_value = Matrix(PC4).subs([(x_4, corner_points[3][0]), (y_4, corner_points[3][1]), (z_4, 1)])\n",
        "\n",
        "\n",
        "display(Eq(Eq(S('PC1'), Matrix(PC1), evaluate=False), Matrix(pc1_value), evaluate=False));\n",
        "print(\"\\n\")\n",
        "display(Eq(Eq(S('PC2'), Matrix(PC2), evaluate=False), Matrix(pc2_value), evaluate=False));\n",
        "print(\"\\n\")\n",
        "display(Eq(Eq(S('PC3'), Matrix(PC3), evaluate=False), Matrix(pc3_value), evaluate=False));\n",
        "print(\"\\n\")\n",
        "display(Eq(Eq(S('PC4'), Matrix(PC4), evaluate=False), Matrix(pc4_value), evaluate=False));\n",
        "print(\"\\n\")\n"
      ],
      "execution_count": 13,
      "outputs": [
        {
          "output_type": "display_data",
          "data": {
            "text/latex": "$\\bold{Exercise: 4}$",
            "text/plain": [
              "<IPython.core.display.Latex object>"
            ]
          },
          "metadata": {
            "tags": []
          }
        },
        {
          "output_type": "stream",
          "text": [
            "\n",
            "\n"
          ],
          "name": "stdout"
        },
        {
          "output_type": "display_data",
          "data": {
            "text/markdown": "The aim of this exercise is to provide a simple calibration device.",
            "text/plain": [
              "<IPython.core.display.Markdown object>"
            ]
          },
          "metadata": {
            "tags": []
          }
        },
        {
          "output_type": "display_data",
          "data": {
            "text/markdown": "This exercise has been taken from the example 8.18 of the book \"Multiple View Geometry R. Hartley & A. Zisserman\"",
            "text/plain": [
              "<IPython.core.display.Markdown object>"
            ]
          },
          "metadata": {
            "tags": []
          }
        },
        {
          "output_type": "display_data",
          "data": {
            "text/markdown": "As a first step, we have loaded the image suggested from the book which represents three squared frames.",
            "text/plain": [
              "<IPython.core.display.Markdown object>"
            ]
          },
          "metadata": {
            "tags": []
          }
        },
        {
          "output_type": "display_data",
          "data": {
            "text/markdown": "The image is the following:",
            "text/plain": [
              "<IPython.core.display.Markdown object>"
            ]
          },
          "metadata": {
            "tags": []
          }
        },
        {
          "output_type": "display_data",
          "data": {
            "image/png": "[encoded data removed]",
            "text/plain": [
              "<Figure size 432x288 with 1 Axes>"
            ]
          },
          "metadata": {
            "tags": [],
            "needs_background": "light"
          }
        },
        {
          "output_type": "display_data",
          "data": {
            "text/markdown": "For each frame has been selected 4 points that represent the corners:",
            "text/plain": [
              "<IPython.core.display.Markdown object>"
            ]
          },
          "metadata": {
            "tags": []
          }
        },
        {
          "output_type": "display_data",
          "data": {
            "image/png": "[encoded data removed]",
            "text/plain": [
              "<Figure size 432x288 with 1 Axes>"
            ]
          },
          "metadata": {
            "tags": [],
            "needs_background": "light"
          }
        },
        {
          "output_type": "display_data",
          "data": {
            "text/markdown": "Analytically  the vectors of the points:",
            "text/plain": [
              "<IPython.core.display.Markdown object>"
            ]
          },
          "metadata": {
            "tags": []
          }
        },
        {
          "output_type": "stream",
          "text": [
            "\n",
            "\n"
          ],
          "name": "stdout"
        },
        {
          "output_type": "display_data",
          "data": {
            "text/markdown": "1) The right square:",
            "text/plain": [
              "<IPython.core.display.Markdown object>"
            ]
          },
          "metadata": {
            "tags": []
          }
        },
        {
          "output_type": "stream",
          "text": [
            "\n",
            "\n"
          ],
          "name": "stdout"
        },
        {
          "output_type": "display_data",
          "data": {
            "text/latex": "$\\displaystyle PR_{1} = \\left[\\begin{matrix}x_{1}\\\\y_{1}\\\\z_{1}\\end{matrix}\\right] = \\left[\\begin{matrix}837.43508\\\\454.32384\\\\1\\end{matrix}\\right]$",
            "text/plain": [
              "Eq(Eq(PR1, Matrix([\n",
              "[x1],\n",
              "[y1],\n",
              "[z1]])), Matrix([\n",
              "[837.43508],\n",
              "[454.32384],\n",
              "[        1]]))"
            ]
          },
          "metadata": {
            "tags": []
          }
        },
        {
          "output_type": "stream",
          "text": [
            "\n",
            "\n"
          ],
          "name": "stdout"
        },
        {
          "output_type": "display_data",
          "data": {
            "text/latex": "$\\displaystyle PR_{2} = \\left[\\begin{matrix}x_{2}\\\\y_{2}\\\\z_{2}\\end{matrix}\\right] = \\left[\\begin{matrix}596.07809\\\\330.55102\\\\1\\end{matrix}\\right]$",
            "text/plain": [
              "Eq(Eq(PR2, Matrix([\n",
              "[x2],\n",
              "[y2],\n",
              "[z2]])), Matrix([\n",
              "[596.07809],\n",
              "[330.55102],\n",
              "[        1]]))"
            ]
          },
          "metadata": {
            "tags": []
          }
        },
        {
          "output_type": "stream",
          "text": [
            "\n",
            "\n"
          ],
          "name": "stdout"
        },
        {
          "output_type": "display_data",
          "data": {
            "text/latex": "$\\displaystyle PR_{3} = \\left[\\begin{matrix}x_{3}\\\\y_{3}\\\\z_{3}\\end{matrix}\\right] = \\left[\\begin{matrix}895.19573\\\\194.40093\\\\1\\end{matrix}\\right]$",
            "text/plain": [
              "Eq(Eq(PR3, Matrix([\n",
              "[x3],\n",
              "[y3],\n",
              "[z3]])), Matrix([\n",
              "[895.19573],\n",
              "[194.40093],\n",
              "[        1]]))"
            ]
          },
          "metadata": {
            "tags": []
          }
        },
        {
          "output_type": "stream",
          "text": [
            "\n",
            "\n"
          ],
          "name": "stdout"
        },
        {
          "output_type": "display_data",
          "data": {
            "text/latex": "$\\displaystyle PR_{4} = \\left[\\begin{matrix}x_{4}\\\\y_{4}\\\\z_{4}\\end{matrix}\\right] = \\left[\\begin{matrix}596.07809\\\\84.03683\\\\1\\end{matrix}\\right]$",
            "text/plain": [
              "Eq(Eq(PR4, Matrix([\n",
              "[x4],\n",
              "[y4],\n",
              "[z4]])), Matrix([\n",
              "[596.07809],\n",
              "[ 84.03683],\n",
              "[        1]]))"
            ]
          },
          "metadata": {
            "tags": []
          }
        },
        {
          "output_type": "stream",
          "text": [
            "\n",
            "\n"
          ],
          "name": "stdout"
        },
        {
          "output_type": "display_data",
          "data": {
            "text/markdown": "2) The bottom square:",
            "text/plain": [
              "<IPython.core.display.Markdown object>"
            ]
          },
          "metadata": {
            "tags": []
          }
        },
        {
          "output_type": "stream",
          "text": [
            "\n",
            "\n"
          ],
          "name": "stdout"
        },
        {
          "output_type": "display_data",
          "data": {
            "text/latex": "$\\displaystyle PB_{1} = \\left[\\begin{matrix}x_{1}\\\\y_{1}\\\\z_{1}\\end{matrix}\\right] = \\left[\\begin{matrix}685.81338\\\\716.30963\\\\1\\end{matrix}\\right]$",
            "text/plain": [
              "Eq(Eq(PB1, Matrix([\n",
              "[x1],\n",
              "[y1],\n",
              "[z1]])), Matrix([\n",
              "[685.81338],\n",
              "[716.30963],\n",
              "[        1]]))"
            ]
          },
          "metadata": {
            "tags": []
          }
        },
        {
          "output_type": "stream",
          "text": [
            "\n",
            "\n"
          ],
          "name": "stdout"
        },
        {
          "output_type": "display_data",
          "data": {
            "text/latex": "$\\displaystyle PB_{2} = \\left[\\begin{matrix}x_{2}\\\\y_{2}\\\\z_{2}\\end{matrix}\\right] = \\left[\\begin{matrix}344.4067\\\\598.72545\\\\1\\end{matrix}\\right]$",
            "text/plain": [
              "Eq(Eq(PB2, Matrix([\n",
              "[x2],\n",
              "[y2],\n",
              "[z2]])), Matrix([\n",
              "[ 344.4067],\n",
              "[598.72545],\n",
              "[        1]]))"
            ]
          },
          "metadata": {
            "tags": []
          }
        },
        {
          "output_type": "stream",
          "text": [
            "\n",
            "\n"
          ],
          "name": "stdout"
        },
        {
          "output_type": "display_data",
          "data": {
            "text/latex": "$\\displaystyle PB_{3} = \\left[\\begin{matrix}x_{3}\\\\y_{3}\\\\z_{3}\\end{matrix}\\right] = \\left[\\begin{matrix}778.64299\\\\463.6068\\\\1\\end{matrix}\\right]$",
            "text/plain": [
              "Eq(Eq(PB3, Matrix([\n",
              "[x3],\n",
              "[y3],\n",
              "[z3]])), Matrix([\n",
              "[778.64299],\n",
              "[ 463.6068],\n",
              "[        1]]))"
            ]
          },
          "metadata": {
            "tags": []
          }
        },
        {
          "output_type": "stream",
          "text": [
            "\n",
            "\n"
          ],
          "name": "stdout"
        },
        {
          "output_type": "display_data",
          "data": {
            "text/latex": "$\\displaystyle PB_{4} = \\left[\\begin{matrix}x_{4}\\\\y_{4}\\\\z_{4}\\end{matrix}\\right] = \\left[\\begin{matrix}491.90264\\\\388.31167\\\\1\\end{matrix}\\right]$",
            "text/plain": [
              "Eq(Eq(PB4, Matrix([\n",
              "[x4],\n",
              "[y4],\n",
              "[z4]])), Matrix([\n",
              "[491.90264],\n",
              "[388.31167],\n",
              "[        1]]))"
            ]
          },
          "metadata": {
            "tags": []
          }
        },
        {
          "output_type": "stream",
          "text": [
            "\n",
            "\n"
          ],
          "name": "stdout"
        },
        {
          "output_type": "display_data",
          "data": {
            "text/markdown": "3) The left square:",
            "text/plain": [
              "<IPython.core.display.Markdown object>"
            ]
          },
          "metadata": {
            "tags": []
          }
        },
        {
          "output_type": "stream",
          "text": [
            "\n",
            "\n"
          ],
          "name": "stdout"
        },
        {
          "output_type": "display_data",
          "data": {
            "text/latex": "$\\displaystyle PL_{1} = \\left[\\begin{matrix}x_{1}\\\\y_{1}\\\\z_{1}\\end{matrix}\\right] = \\left[\\begin{matrix}487.77688\\\\329.51958\\\\1\\end{matrix}\\right]$",
            "text/plain": [
              "Eq(Eq(PL1, Matrix([\n",
              "[x1],\n",
              "[y1],\n",
              "[z1]])), Matrix([\n",
              "[487.77688],\n",
              "[329.51958],\n",
              "[        1]]))"
            ]
          },
          "metadata": {
            "tags": []
          }
        },
        {
          "output_type": "stream",
          "text": [
            "\n",
            "\n"
          ],
          "name": "stdout"
        },
        {
          "output_type": "display_data",
          "data": {
            "text/latex": "$\\displaystyle PL_{2} = \\left[\\begin{matrix}x_{2}\\\\y_{2}\\\\z_{2}\\end{matrix}\\right] = \\left[\\begin{matrix}218.57106\\\\409.97191\\\\1\\end{matrix}\\right]$",
            "text/plain": [
              "Eq(Eq(PL2, Matrix([\n",
              "[x2],\n",
              "[y2],\n",
              "[z2]])), Matrix([\n",
              "[218.57106],\n",
              "[409.97191],\n",
              "[        1]]))"
            ]
          },
          "metadata": {
            "tags": []
          }
        },
        {
          "output_type": "stream",
          "text": [
            "\n",
            "\n"
          ],
          "name": "stdout"
        },
        {
          "output_type": "display_data",
          "data": {
            "text/latex": "$\\displaystyle PL_{3} = \\left[\\begin{matrix}x_{3}\\\\y_{3}\\\\z_{3}\\end{matrix}\\right] = \\left[\\begin{matrix}480.5568\\\\77.84819\\\\1\\end{matrix}\\right]$",
            "text/plain": [
              "Eq(Eq(PL3, Matrix([\n",
              "[x3],\n",
              "[y3],\n",
              "[z3]])), Matrix([\n",
              "[480.5568],\n",
              "[77.84819],\n",
              "[       1]]))"
            ]
          },
          "metadata": {
            "tags": []
          }
        },
        {
          "output_type": "stream",
          "text": [
            "\n",
            "\n"
          ],
          "name": "stdout"
        },
        {
          "output_type": "display_data",
          "data": {
            "text/latex": "$\\displaystyle PL_{4} = \\left[\\begin{matrix}x_{4}\\\\y_{4}\\\\z_{4}\\end{matrix}\\right] = \\left[\\begin{matrix}153.59028\\\\147.98612\\\\1\\end{matrix}\\right]$",
            "text/plain": [
              "Eq(Eq(PL4, Matrix([\n",
              "[x4],\n",
              "[y4],\n",
              "[z4]])), Matrix([\n",
              "[153.59028],\n",
              "[147.98612],\n",
              "[        1]]))"
            ]
          },
          "metadata": {
            "tags": []
          }
        },
        {
          "output_type": "stream",
          "text": [
            "\n",
            "\n"
          ],
          "name": "stdout"
        },
        {
          "output_type": "display_data",
          "data": {
            "text/markdown": "Then, in the same order as in the book, we define the corner points:",
            "text/plain": [
              "<IPython.core.display.Markdown object>"
            ]
          },
          "metadata": {
            "tags": []
          }
        },
        {
          "output_type": "stream",
          "text": [
            "\n",
            "\n"
          ],
          "name": "stdout"
        },
        {
          "output_type": "display_data",
          "data": {
            "text/latex": "$\\displaystyle PC_{1} = \\left[\\begin{matrix}x_{1}\\\\y_{1}\\\\z_{1}\\end{matrix}\\right] = \\left[\\begin{matrix}0\\\\0\\\\1\\end{matrix}\\right]$",
            "text/plain": [
              "Eq(Eq(PC1, Matrix([\n",
              "[x1],\n",
              "[y1],\n",
              "[z1]])), Matrix([\n",
              "[0],\n",
              "[0],\n",
              "[1]]))"
            ]
          },
          "metadata": {
            "tags": []
          }
        },
        {
          "output_type": "stream",
          "text": [
            "\n",
            "\n"
          ],
          "name": "stdout"
        },
        {
          "output_type": "display_data",
          "data": {
            "text/latex": "$\\displaystyle PC_{2} = \\left[\\begin{matrix}x_{2}\\\\y_{2}\\\\z_{2}\\end{matrix}\\right] = \\left[\\begin{matrix}1\\\\0\\\\1\\end{matrix}\\right]$",
            "text/plain": [
              "Eq(Eq(PC2, Matrix([\n",
              "[x2],\n",
              "[y2],\n",
              "[z2]])), Matrix([\n",
              "[1],\n",
              "[0],\n",
              "[1]]))"
            ]
          },
          "metadata": {
            "tags": []
          }
        },
        {
          "output_type": "stream",
          "text": [
            "\n",
            "\n"
          ],
          "name": "stdout"
        },
        {
          "output_type": "display_data",
          "data": {
            "text/latex": "$\\displaystyle PC_{3} = \\left[\\begin{matrix}x_{3}\\\\y_{3}\\\\z_{3}\\end{matrix}\\right] = \\left[\\begin{matrix}0\\\\1\\\\1\\end{matrix}\\right]$",
            "text/plain": [
              "Eq(Eq(PC3, Matrix([\n",
              "[x3],\n",
              "[y3],\n",
              "[z3]])), Matrix([\n",
              "[0],\n",
              "[1],\n",
              "[1]]))"
            ]
          },
          "metadata": {
            "tags": []
          }
        },
        {
          "output_type": "stream",
          "text": [
            "\n",
            "\n"
          ],
          "name": "stdout"
        },
        {
          "output_type": "display_data",
          "data": {
            "text/latex": "$\\displaystyle PC_{4} = \\left[\\begin{matrix}x_{4}\\\\y_{4}\\\\z_{4}\\end{matrix}\\right] = \\left[\\begin{matrix}1\\\\1\\\\1\\end{matrix}\\right]$",
            "text/plain": [
              "Eq(Eq(PC4, Matrix([\n",
              "[x4],\n",
              "[y4],\n",
              "[z4]])), Matrix([\n",
              "[1],\n",
              "[1],\n",
              "[1]]))"
            ]
          },
          "metadata": {
            "tags": []
          }
        },
        {
          "output_type": "stream",
          "text": [
            "\n",
            "\n"
          ],
          "name": "stdout"
        }
      ]
    },
    {
      "cell_type": "code",
      "metadata": {
        "colab": {
          "base_uri": "https://localhost:8080/",
          "height": 1000
        },
        "id": "WGN6QNV0xH7M",
        "outputId": "f4eef917-ca17-45fd-f3bf-39486866c370"
      },
      "source": [
        "display(Latex('$\\\\bold{Step\\space n°1:}$'))\n",
        "print(\"\\n\")\n",
        "display(Markdown(\"The first step is the computation of a homography for each square.\"))\n",
        "display(Markdown('To reach this goal we have used the apposite function from Cv2 called: \"findHomography\".'))\n",
        "\n",
        "display(Markdown('Hence, we carry out the 3 homographies as:'));\n",
        "print(\"\\n\")\n",
        "display(Eq(S('H_R'), Matrix(H_right).evalf(5), evaluate=False)); \n",
        "print(\"\\n\")\n",
        "display(Eq(S('H_B'), Matrix(H_bottom).evalf(5), evaluate=False)); \n",
        "print(\"\\n\")\n",
        "display(Eq(S('H_L'), Matrix(H_left).evalf(5), evaluate=False))\n",
        "print(\"\\n\")\n",
        "\n",
        "CSquare_value = np.array([pc1_value, pc2_value, pc3_value, pc4_value]);\n",
        "\n",
        "display(Markdown(\"Before going forward has been checked the correctness of the homographies, using this formula:\"))\n",
        "display(Latex('${P_{ji} = H_j PC_i} $'))\n",
        "print(\"\\n\")\n",
        "display(Markdown('1) Right square:')); \n",
        "print(\"\\n\")\n",
        "\n",
        "display(Eq(Eq(S('PR1'), S('H_R*PC_1'), evaluate=False), Matrix(np.matmul(H_right,CSquare_value[0])).evalf(5) , evaluate=False)); \n",
        "print(\"\\n\")\n",
        "display(Eq(Eq(S('PR2'), S('H_R*PC_2'), evaluate=False), Matrix(np.matmul(H_right,CSquare_value[1])).evalf(5) , evaluate=False)); \n",
        "print(\"\\n\")\n",
        "display(Eq(Eq(S('PR3'), S('H_R*PC_3'), evaluate=False), Matrix(np.matmul(H_right,CSquare_value[2])).evalf(5) , evaluate=False)); \n",
        "print(\"\\n\")\n",
        "display(Eq(Eq(S('PR4'), S('H_R*PC_4'), evaluate=False), Matrix(np.matmul(H_right,CSquare_value[3])).evalf(5) , evaluate=False)); \n",
        "print(\"\\n\")\n",
        "display(Markdown('2) Bottom square:')); \n",
        "print(\"\\n\")\n",
        "display(Eq(Eq(S('PB1'), S('H_B*PC_1'), evaluate=False), Matrix(np.matmul(H_bottom,CSquare_value[0])).evalf(5) , evaluate=False)); \n",
        "print(\"\\n\")\n",
        "display(Eq(Eq(S('PB2'), S('H_B*PC_2'), evaluate=False), Matrix(np.matmul(H_bottom,CSquare_value[1])).evalf(5) , evaluate=False)); \n",
        "print(\"\\n\")\n",
        "display(Eq(Eq(S('PB3'), S('H_B*PC_3'), evaluate=False), Matrix(np.matmul(H_bottom,CSquare_value[2])).evalf(5) , evaluate=False)); \n",
        "print(\"\\n\")\n",
        "display(Eq(Eq(S('PB4'), S('H_B*PC_4'), evaluate=False), Matrix(np.matmul(H_bottom,CSquare_value[3])).evalf(5) , evaluate=False)); \n",
        "print(\"\\n\")\n",
        "display(Markdown('3) Left square:')); \n",
        "print(\"\\n\")\n",
        "display(Eq(Eq(S('PL1'), S('H_L*PC_1'), evaluate=False), Matrix(np.matmul(H_left,CSquare_value[0])).evalf(5) , evaluate=False)); \n",
        "print(\"\\n\")\n",
        "display(Eq(Eq(S('PL2'), S('H_L*PC_2'), evaluate=False), Matrix(np.matmul(H_left,CSquare_value[1])).evalf(5) , evaluate=False)); \n",
        "print(\"\\n\")\n",
        "display(Eq(Eq(S('PL3'), S('H_L*PC_3'), evaluate=False), Matrix(np.matmul(H_left,CSquare_value[2])).evalf(5) , evaluate=False)); \n",
        "print(\"\\n\")\n",
        "display(Eq(Eq(S('PL4'), S('H_L*PC_4'), evaluate=False), Matrix(np.matmul(H_left,CSquare_value[3])).evalf(5) , evaluate=False)); \n",
        "print(\"\\n\")\n",
        "\n",
        "# normalize and show the actual values"
      ],
      "execution_count": 14,
      "outputs": [
        {
          "output_type": "display_data",
          "data": {
            "text/latex": "$\\bold{Step\\space n°1:}$",
            "text/plain": [
              "<IPython.core.display.Latex object>"
            ]
          },
          "metadata": {
            "tags": []
          }
        },
        {
          "output_type": "stream",
          "text": [
            "\n",
            "\n"
          ],
          "name": "stdout"
        },
        {
          "output_type": "display_data",
          "data": {
            "text/markdown": "The first step is the computation of a homography for each square.",
            "text/plain": [
              "<IPython.core.display.Markdown object>"
            ]
          },
          "metadata": {
            "tags": []
          }
        },
        {
          "output_type": "display_data",
          "data": {
            "text/markdown": "To reach this goal we have used the apposite function from Cv2 called: \"findHomography\".",
            "text/plain": [
              "<IPython.core.display.Markdown object>"
            ]
          },
          "metadata": {
            "tags": []
          }
        },
        {
          "output_type": "display_data",
          "data": {
            "text/markdown": "Hence, we carry out the 3 homographies as:",
            "text/plain": [
              "<IPython.core.display.Markdown object>"
            ]
          },
          "metadata": {
            "tags": []
          }
        },
        {
          "output_type": "stream",
          "text": [
            "\n",
            "\n"
          ],
          "name": "stdout"
        },
        {
          "output_type": "display_data",
          "data": {
            "text/latex": "$\\displaystyle H_{R} = \\left[\\begin{matrix}-157.4 & -115.1 & 837.44\\\\-77.216 & -297.46 & 454.32\\\\0.14085 & -0.1931 & 1.0\\end{matrix}\\right]$",
            "text/plain": [
              "Eq(H_R, Matrix([\n",
              "[ -157.4,  -115.1, 837.44],\n",
              "[-77.216, -297.46, 454.32],\n",
              "[0.14085, -0.1931,    1.0]]))"
            ]
          },
          "metadata": {
            "tags": []
          }
        },
        {
          "output_type": "stream",
          "text": [
            "\n",
            "\n"
          ],
          "name": "stdout"
        },
        {
          "output_type": "display_data",
          "data": {
            "text/latex": "$\\displaystyle H_{B} = \\left[\\begin{matrix}-302.79 & 286.18 & 685.81\\\\-50.455 & -137.58 & 716.31\\\\0.11212 & 0.24832 & 1.0\\end{matrix}\\right]$",
            "text/plain": [
              "Eq(H_B, Matrix([\n",
              "[-302.79,  286.18, 685.81],\n",
              "[-50.455, -137.58, 716.31],\n",
              "[0.11212, 0.24832,    1.0]]))"
            ]
          },
          "metadata": {
            "tags": []
          }
        },
        {
          "output_type": "stream",
          "text": [
            "\n",
            "\n"
          ],
          "name": "stdout"
        },
        {
          "output_type": "display_data",
          "data": {
            "text/latex": "$\\displaystyle H_{L} = \\left[\\begin{matrix}-287.19 & -84.255 & 487.78\\\\46.717 & -264.15 & 329.52\\\\-0.082286 & -0.1603 & 1.0\\end{matrix}\\right]$",
            "text/plain": [
              "Eq(H_L, Matrix([\n",
              "[  -287.19, -84.255, 487.78],\n",
              "[   46.717, -264.15, 329.52],\n",
              "[-0.082286, -0.1603,    1.0]]))"
            ]
          },
          "metadata": {
            "tags": []
          }
        },
        {
          "output_type": "stream",
          "text": [
            "\n",
            "\n"
          ],
          "name": "stdout"
        },
        {
          "output_type": "display_data",
          "data": {
            "text/markdown": "Before going forward has been checked the correctness of the homographies, using this formula:",
            "text/plain": [
              "<IPython.core.display.Markdown object>"
            ]
          },
          "metadata": {
            "tags": []
          }
        },
        {
          "output_type": "display_data",
          "data": {
            "text/latex": "${P_{ji} = H_j PC_i} $",
            "text/plain": [
              "<IPython.core.display.Latex object>"
            ]
          },
          "metadata": {
            "tags": []
          }
        },
        {
          "output_type": "stream",
          "text": [
            "\n",
            "\n"
          ],
          "name": "stdout"
        },
        {
          "output_type": "display_data",
          "data": {
            "text/markdown": "1) Right square:",
            "text/plain": [
              "<IPython.core.display.Markdown object>"
            ]
          },
          "metadata": {
            "tags": []
          }
        },
        {
          "output_type": "stream",
          "text": [
            "\n",
            "\n"
          ],
          "name": "stdout"
        },
        {
          "output_type": "display_data",
          "data": {
            "text/latex": "$\\displaystyle PR_{1} = H_{R} PC_{1} = \\left[\\begin{matrix}837.44\\\\454.32\\\\1.0\\end{matrix}\\right]$",
            "text/plain": [
              "Eq(Eq(PR1, H_R*PC_1), Matrix([\n",
              "[837.44],\n",
              "[454.32],\n",
              "[   1.0]]))"
            ]
          },
          "metadata": {
            "tags": []
          }
        },
        {
          "output_type": "stream",
          "text": [
            "\n",
            "\n"
          ],
          "name": "stdout"
        },
        {
          "output_type": "display_data",
          "data": {
            "text/latex": "$\\displaystyle PR_{2} = H_{R} PC_{2} = \\left[\\begin{matrix}680.03\\\\377.11\\\\1.1408\\end{matrix}\\right]$",
            "text/plain": [
              "Eq(Eq(PR2, H_R*PC_2), Matrix([\n",
              "[680.03],\n",
              "[377.11],\n",
              "[1.1408]]))"
            ]
          },
          "metadata": {
            "tags": []
          }
        },
        {
          "output_type": "stream",
          "text": [
            "\n",
            "\n"
          ],
          "name": "stdout"
        },
        {
          "output_type": "display_data",
          "data": {
            "text/latex": "$\\displaystyle PR_{3} = H_{R} PC_{3} = \\left[\\begin{matrix}722.33\\\\156.86\\\\0.8069\\end{matrix}\\right]$",
            "text/plain": [
              "Eq(Eq(PR3, H_R*PC_3), Matrix([\n",
              "[722.33],\n",
              "[156.86],\n",
              "[0.8069]]))"
            ]
          },
          "metadata": {
            "tags": []
          }
        },
        {
          "output_type": "stream",
          "text": [
            "\n",
            "\n"
          ],
          "name": "stdout"
        },
        {
          "output_type": "display_data",
          "data": {
            "text/latex": "$\\displaystyle PR_{4} = H_{R} PC_{4} = \\left[\\begin{matrix}564.93\\\\79.645\\\\0.94774\\end{matrix}\\right]$",
            "text/plain": [
              "Eq(Eq(PR4, H_R*PC_4), Matrix([\n",
              "[ 564.93],\n",
              "[ 79.645],\n",
              "[0.94774]]))"
            ]
          },
          "metadata": {
            "tags": []
          }
        },
        {
          "output_type": "stream",
          "text": [
            "\n",
            "\n"
          ],
          "name": "stdout"
        },
        {
          "output_type": "display_data",
          "data": {
            "text/markdown": "2) Bottom square:",
            "text/plain": [
              "<IPython.core.display.Markdown object>"
            ]
          },
          "metadata": {
            "tags": []
          }
        },
        {
          "output_type": "stream",
          "text": [
            "\n",
            "\n"
          ],
          "name": "stdout"
        },
        {
          "output_type": "display_data",
          "data": {
            "text/latex": "$\\displaystyle PB_{1} = H_{B} PC_{1} = \\left[\\begin{matrix}685.81\\\\716.31\\\\1.0\\end{matrix}\\right]$",
            "text/plain": [
              "Eq(Eq(PB1, H_B*PC_1), Matrix([\n",
              "[685.81],\n",
              "[716.31],\n",
              "[   1.0]]))"
            ]
          },
          "metadata": {
            "tags": []
          }
        },
        {
          "output_type": "stream",
          "text": [
            "\n",
            "\n"
          ],
          "name": "stdout"
        },
        {
          "output_type": "display_data",
          "data": {
            "text/latex": "$\\displaystyle PB_{2} = H_{B} PC_{2} = \\left[\\begin{matrix}383.02\\\\665.85\\\\1.1121\\end{matrix}\\right]$",
            "text/plain": [
              "Eq(Eq(PB2, H_B*PC_2), Matrix([\n",
              "[383.02],\n",
              "[665.85],\n",
              "[1.1121]]))"
            ]
          },
          "metadata": {
            "tags": []
          }
        },
        {
          "output_type": "stream",
          "text": [
            "\n",
            "\n"
          ],
          "name": "stdout"
        },
        {
          "output_type": "display_data",
          "data": {
            "text/latex": "$\\displaystyle PB_{3} = H_{B} PC_{3} = \\left[\\begin{matrix}972.0\\\\578.73\\\\1.2483\\end{matrix}\\right]$",
            "text/plain": [
              "Eq(Eq(PB3, H_B*PC_3), Matrix([\n",
              "[ 972.0],\n",
              "[578.73],\n",
              "[1.2483]]))"
            ]
          },
          "metadata": {
            "tags": []
          }
        },
        {
          "output_type": "stream",
          "text": [
            "\n",
            "\n"
          ],
          "name": "stdout"
        },
        {
          "output_type": "display_data",
          "data": {
            "text/latex": "$\\displaystyle PB_{4} = H_{B} PC_{4} = \\left[\\begin{matrix}669.21\\\\528.28\\\\1.3604\\end{matrix}\\right]$",
            "text/plain": [
              "Eq(Eq(PB4, H_B*PC_4), Matrix([\n",
              "[669.21],\n",
              "[528.28],\n",
              "[1.3604]]))"
            ]
          },
          "metadata": {
            "tags": []
          }
        },
        {
          "output_type": "stream",
          "text": [
            "\n",
            "\n"
          ],
          "name": "stdout"
        },
        {
          "output_type": "display_data",
          "data": {
            "text/markdown": "3) Left square:",
            "text/plain": [
              "<IPython.core.display.Markdown object>"
            ]
          },
          "metadata": {
            "tags": []
          }
        },
        {
          "output_type": "stream",
          "text": [
            "\n",
            "\n"
          ],
          "name": "stdout"
        },
        {
          "output_type": "display_data",
          "data": {
            "text/latex": "$\\displaystyle PL_{1} = H_{L} PC_{1} = \\left[\\begin{matrix}487.78\\\\329.52\\\\1.0\\end{matrix}\\right]$",
            "text/plain": [
              "Eq(Eq(PL1, H_L*PC_1), Matrix([\n",
              "[487.78],\n",
              "[329.52],\n",
              "[   1.0]]))"
            ]
          },
          "metadata": {
            "tags": []
          }
        },
        {
          "output_type": "stream",
          "text": [
            "\n",
            "\n"
          ],
          "name": "stdout"
        },
        {
          "output_type": "display_data",
          "data": {
            "text/latex": "$\\displaystyle PL_{2} = H_{L} PC_{2} = \\left[\\begin{matrix}200.59\\\\376.24\\\\0.91771\\end{matrix}\\right]$",
            "text/plain": [
              "Eq(Eq(PL2, H_L*PC_2), Matrix([\n",
              "[ 200.59],\n",
              "[ 376.24],\n",
              "[0.91771]]))"
            ]
          },
          "metadata": {
            "tags": []
          }
        },
        {
          "output_type": "stream",
          "text": [
            "\n",
            "\n"
          ],
          "name": "stdout"
        },
        {
          "output_type": "display_data",
          "data": {
            "text/latex": "$\\displaystyle PL_{3} = H_{L} PC_{3} = \\left[\\begin{matrix}403.52\\\\65.369\\\\0.8397\\end{matrix}\\right]$",
            "text/plain": [
              "Eq(Eq(PL3, H_L*PC_3), Matrix([\n",
              "[403.52],\n",
              "[65.369],\n",
              "[0.8397]]))"
            ]
          },
          "metadata": {
            "tags": []
          }
        },
        {
          "output_type": "stream",
          "text": [
            "\n",
            "\n"
          ],
          "name": "stdout"
        },
        {
          "output_type": "display_data",
          "data": {
            "text/latex": "$\\displaystyle PL_{4} = H_{L} PC_{4} = \\left[\\begin{matrix}116.33\\\\112.09\\\\0.75741\\end{matrix}\\right]$",
            "text/plain": [
              "Eq(Eq(PL4, H_L*PC_4), Matrix([\n",
              "[ 116.33],\n",
              "[ 112.09],\n",
              "[0.75741]]))"
            ]
          },
          "metadata": {
            "tags": []
          }
        },
        {
          "output_type": "stream",
          "text": [
            "\n",
            "\n"
          ],
          "name": "stdout"
        }
      ]
    },
    {
      "cell_type": "code",
      "metadata": {
        "colab": {
          "base_uri": "https://localhost:8080/",
          "height": 1000
        },
        "id": "8NrZytI9z7QJ",
        "outputId": "8707bda6-d84c-4cf4-86a2-a43414ac7d91"
      },
      "source": [
        "display(Latex('$\\\\bold{Step \\space n°2 \\space \\& \\space n°3 :}$'))\n",
        "print(\"\\n\")\n",
        "display(Markdown(\"The second step concerns the evaluation of the imaged circular points for the plane of each square\"))\n",
        "print(\"\\n\")\n",
        "\n",
        "display(Markdown(\"We formally expose the 2 circuilar points:\"))\n",
        "display(Eq(S('I_'), Matrix(circular_point_1), evaluate=False));\n",
        "print(\"\\n\")\n",
        "display(Eq(S('J'), Matrix(circular_point_2), evaluate=False));\n",
        "print(\"\\n\")\n",
        "\n",
        "display(Markdown(\"Now is possible to apply 3 homography to circular points and determine:\"))\n",
        "display(Latex(\"${H(1, +i, 0)}\\\\space{H(1, -i, 0)}$\"))\n",
        "print(\"\\n\")\n",
        "display(Markdown(\"Follows the computations:\"))\n",
        "\n",
        "display(Markdown('1) Right Square')); \n",
        "print(\"\\n\")\n",
        "display(Eq(S('I_L'), Matrix(I_right_rounded).evalf(5), evaluate=False)); \n",
        "print(\"\\n\")\n",
        "display(Eq(S('J_L'), Matrix(J_right_rounded).evalf(5), evaluate=False)); \n",
        "print(\"\\n\")\n",
        "\n",
        "display(Markdown('2) Bottom Square')); \n",
        "print(\"\\n\")\n",
        "display(Eq(S('I_B'), Matrix(I_bottom_rounded).evalf(5), evaluate=False)); \n",
        "print(\"\\n\")\n",
        "display(Eq(S('J_B'), Matrix(J_bottom_rounded).evalf(5), evaluate=False)); \n",
        "print(\"\\n\")\n",
        "\n",
        "display(Markdown('3) Left Square')); \n",
        "print(\"\\n\")\n",
        "display(Eq(S('I_L'), Matrix(I_left_rounded).evalf(5), evaluate=False)); \n",
        "print(\"\\n\")\n",
        "display(Eq(S('J_L'), Matrix(J_left_rounded).evalf(5), evaluate=False)); \n",
        "print(\"\\n\") \n",
        "\n",
        "display(Latex(\"$\\\\text{Doing this process we've obtained the six circular points.\\n Now, as a third step, we fit the conic }\\omega \\\\text{ using the imaged circular points.}$\"))\n",
        "print(\"\\n\")\n",
        "display(Latex(\"$\\\\text{For doing this we explicit a set of 5 equations that come respectively as real and imaginary part from the following equation:}$\"))\n",
        "display(Latex('${(h_{1} \\pm jh_{2})^T \\omega (h_{1} \\pm jh_{2}) = 0}$'))\n",
        "print(\"\\n\")\n",
        "display(Latex(\"$\\\\text{With real part:}$\"))\n",
        "display(Latex(\"${h_1^T ωh_2 = 0}$\"))\n",
        "display(Latex(\"$\\\\text{And imaginary part:}$\"))\n",
        "display(Latex(\"${h_1^T ωh_1 = h_2^T ωh_2}$\"))\n",
        "print(\"\\n\")\n",
        "print(\"\\n\")\n",
        "\n",
        "display(Latex(\"$\\\\text{Therefore, has been decided to solve the following system of equation:}$\"))\n",
        "# display(Latex(\"${{hr_{1}}^T ωhr_{2} = 0}$\"))\n",
        "display(Latex(\"${{hr_{1}}^T ωhr_{1} = {hr_{2}}^T ωhr_{2}}$\"))\n",
        "display(Latex(\"${{hb_{1}}^T ωhb_{2} = 0}$\"))\n",
        "display(Latex(\"${{hb_{1}}^T ωhb_{1} = {hb_{2}}^T ωhb_{2}}$\"))\n",
        "display(Latex(\"${{hl_{1}}^T ωhl_{2} = 0}$\"))\n",
        "display(Latex(\"${{hl_{1}}^T ωhl_{1} = {hl_{2}}^T ωhl_{2}}$\"))\n",
        "print(\"\\n\")\n",
        "\n",
        "display(Latex(\"$\\\\text{Since we have five degrees of freedom and six coefficients, has been selected f equal to 1.}$\"))\n",
        "display(Latex(\"$\\\\text{The coefficients that we have carried out are the following:}$\"))\n",
        "print(\"\\n\")\n",
        "\n",
        "display(Eq(coefficients_conic, Matrix([a,b,c,d,e,1]).evalf(3), evaluate=False))\n",
        "\n",
        "print(\"\\n\")\n",
        "display(Latex(\"$\\\\text{They define this conic } \\omega \\\\text{:}$\"))\n",
        "print(\"\\n\")\n",
        "display(Eq(Symbol(\"\\omega\"), Matrix(W).evalf(3), evaluate=False))\n",
        "\n",
        "print(\"\\n\")\n",
        "display(Latex(\"$\\\\text{Before going forward to the next step, has been checked that: }{I_i^T} \\omega  {I_i}\\\\text{ = 0 and }{J_i^T} \\omega {J_i}\\\\text{ = 0}$\"))\n",
        "print(\"\\n\")\n",
        "\n",
        "display(Latex('$\\\\text{1) For the right square I want to check: }$'))\n",
        "print(\"\\n\")\n",
        "display(Latex('${Check_I = I_R^T \\omega I_R = 0}$'))\n",
        "display(Latex('${Check_J = J_R^T \\omega J_R = 0}$'))\n",
        "print(\"\\n\")\n",
        "display(Latex('$\\\\text{Results:}$'));\n",
        "\n",
        "display(Eq(S('Check_I'), Matrix(np.round(I_right.transpose() @ W @ I_right)), evaluate=False))\n",
        "display(Eq(S('Check_J'), Matrix(np.round(J_right.transpose() @ W @ J_right)), evaluate=False));\n",
        "print(\"\\n\")\n",
        "\n",
        "\n",
        "display(Latex('$\\\\text{2) For the bottom square I want to check: }$'))\n",
        "print(\"\\n\")\n",
        "display(Latex('${Check_I = I_B^T \\omega I_B = 0}$'))\n",
        "display(Latex('${Check_J = J_B^T \\omega J_B = 0}$'))\n",
        "print(\"\\n\")\n",
        "display(Latex('$\\\\text{Results:}$'));\n",
        "display(Eq(S('Check_I'), Matrix(np.round(I_bottom.transpose() @ W @ I_bottom)), evaluate=False))\n",
        "display(Eq(S('Check_J'), Matrix(np.round(J_bottom.transpose() @ W @ J_bottom)), evaluate=False)); \n",
        "print(\"\\n\")\n",
        "\n",
        "\n",
        "display(Latex('$\\\\text{3) For the left square I want to check: }$'))\n",
        "print(\"\\n\")\n",
        "display(Latex('${Check_I = I_L^T \\omega I_L = 0}$'))\n",
        "display(Latex('${Check_J = J_L^T \\omega J_L = 0}$'))\n",
        "print(\"\\n\")\n",
        "display(Latex('$\\\\text{Results:}$'));\n",
        "display(Eq(S('Check_I'), Matrix(np.round(I_left.transpose() @ W @ I_left)), evaluate=False))\n",
        "display(Eq(S('Check_J'), Matrix(np.round(J_left.transpose() @ W @ J_left)), evaluate=False));\n",
        "print(\"\\n\")"
      ],
      "execution_count": 15,
      "outputs": [
        {
          "output_type": "display_data",
          "data": {
            "text/latex": "$\\bold{Step \\space n°2 \\space \\& \\space n°3 :}$",
            "text/plain": [
              "<IPython.core.display.Latex object>"
            ]
          },
          "metadata": {
            "tags": []
          }
        },
        {
          "output_type": "stream",
          "text": [
            "\n",
            "\n"
          ],
          "name": "stdout"
        },
        {
          "output_type": "display_data",
          "data": {
            "text/markdown": "The second step concerns the evaluation of the imaged circular points for the plane of each square",
            "text/plain": [
              "<IPython.core.display.Markdown object>"
            ]
          },
          "metadata": {
            "tags": []
          }
        },
        {
          "output_type": "stream",
          "text": [
            "\n",
            "\n"
          ],
          "name": "stdout"
        },
        {
          "output_type": "display_data",
          "data": {
            "text/markdown": "We formally expose the 2 circuilar points:",
            "text/plain": [
              "<IPython.core.display.Markdown object>"
            ]
          },
          "metadata": {
            "tags": []
          }
        },
        {
          "output_type": "display_data",
          "data": {
            "text/latex": "$\\displaystyle I_{} = \\left[\\begin{matrix}1.0\\\\1.0 i\\\\0\\end{matrix}\\right]$",
            "text/plain": [
              "Eq(I_, Matrix([\n",
              "[  1.0],\n",
              "[1.0*I],\n",
              "[    0]]))"
            ]
          },
          "metadata": {
            "tags": []
          }
        },
        {
          "output_type": "stream",
          "text": [
            "\n",
            "\n"
          ],
          "name": "stdout"
        },
        {
          "output_type": "display_data",
          "data": {
            "text/latex": "$\\displaystyle J = \\left[\\begin{matrix}1.0\\\\- 1.0 i\\\\0\\end{matrix}\\right]$",
            "text/plain": [
              "Eq(J, Matrix([\n",
              "[   1.0],\n",
              "[-1.0*I],\n",
              "[     0]]))"
            ]
          },
          "metadata": {
            "tags": []
          }
        },
        {
          "output_type": "stream",
          "text": [
            "\n",
            "\n"
          ],
          "name": "stdout"
        },
        {
          "output_type": "display_data",
          "data": {
            "text/markdown": "Now is possible to apply 3 homography to circular points and determine:",
            "text/plain": [
              "<IPython.core.display.Markdown object>"
            ]
          },
          "metadata": {
            "tags": []
          }
        },
        {
          "output_type": "display_data",
          "data": {
            "text/latex": "${H(1, +i, 0)}\\space{H(1, -i, 0)}$",
            "text/plain": [
              "<IPython.core.display.Latex object>"
            ]
          },
          "metadata": {
            "tags": []
          }
        },
        {
          "output_type": "stream",
          "text": [
            "\n",
            "\n"
          ],
          "name": "stdout"
        },
        {
          "output_type": "display_data",
          "data": {
            "text/markdown": "Follows the computations:",
            "text/plain": [
              "<IPython.core.display.Markdown object>"
            ]
          },
          "metadata": {
            "tags": []
          }
        },
        {
          "output_type": "display_data",
          "data": {
            "text/markdown": "1) Right Square",
            "text/plain": [
              "<IPython.core.display.Markdown object>"
            ]
          },
          "metadata": {
            "tags": []
          }
        },
        {
          "output_type": "stream",
          "text": [
            "\n",
            "\n"
          ],
          "name": "stdout"
        },
        {
          "output_type": "display_data",
          "data": {
            "text/latex": "$\\displaystyle I_{L} = \\left[\\begin{matrix}-157.4 - 115.1 i\\\\-77.216 - 297.46 i\\\\0.1408 - 0.1931 i\\end{matrix}\\right]$",
            "text/plain": [
              "Eq(I_L, Matrix([\n",
              "[  -157.4 - 115.1*I],\n",
              "[-77.216 - 297.46*I],\n",
              "[ 0.1408 - 0.1931*I]]))"
            ]
          },
          "metadata": {
            "tags": []
          }
        },
        {
          "output_type": "stream",
          "text": [
            "\n",
            "\n"
          ],
          "name": "stdout"
        },
        {
          "output_type": "display_data",
          "data": {
            "text/latex": "$\\displaystyle J_{L} = \\left[\\begin{matrix}-157.4 + 115.1 i\\\\-77.216 + 297.46 i\\\\0.1408 + 0.1931 i\\end{matrix}\\right]$",
            "text/plain": [
              "Eq(J_L, Matrix([\n",
              "[  -157.4 + 115.1*I],\n",
              "[-77.216 + 297.46*I],\n",
              "[ 0.1408 + 0.1931*I]]))"
            ]
          },
          "metadata": {
            "tags": []
          }
        },
        {
          "output_type": "stream",
          "text": [
            "\n",
            "\n"
          ],
          "name": "stdout"
        },
        {
          "output_type": "display_data",
          "data": {
            "text/markdown": "2) Bottom Square",
            "text/plain": [
              "<IPython.core.display.Markdown object>"
            ]
          },
          "metadata": {
            "tags": []
          }
        },
        {
          "output_type": "stream",
          "text": [
            "\n",
            "\n"
          ],
          "name": "stdout"
        },
        {
          "output_type": "display_data",
          "data": {
            "text/latex": "$\\displaystyle I_{B} = \\left[\\begin{matrix}-302.79 + 286.18 i\\\\-50.455 - 137.58 i\\\\0.1121 + 0.2483 i\\end{matrix}\\right]$",
            "text/plain": [
              "Eq(I_B, Matrix([\n",
              "[-302.79 + 286.18*I],\n",
              "[-50.455 - 137.58*I],\n",
              "[ 0.1121 + 0.2483*I]]))"
            ]
          },
          "metadata": {
            "tags": []
          }
        },
        {
          "output_type": "stream",
          "text": [
            "\n",
            "\n"
          ],
          "name": "stdout"
        },
        {
          "output_type": "display_data",
          "data": {
            "text/latex": "$\\displaystyle J_{B} = \\left[\\begin{matrix}-302.79 - 286.18 i\\\\-50.455 + 137.58 i\\\\0.1121 - 0.2483 i\\end{matrix}\\right]$",
            "text/plain": [
              "Eq(J_B, Matrix([\n",
              "[-302.79 - 286.18*I],\n",
              "[-50.455 + 137.58*I],\n",
              "[ 0.1121 - 0.2483*I]]))"
            ]
          },
          "metadata": {
            "tags": []
          }
        },
        {
          "output_type": "stream",
          "text": [
            "\n",
            "\n"
          ],
          "name": "stdout"
        },
        {
          "output_type": "display_data",
          "data": {
            "text/markdown": "3) Left Square",
            "text/plain": [
              "<IPython.core.display.Markdown object>"
            ]
          },
          "metadata": {
            "tags": []
          }
        },
        {
          "output_type": "stream",
          "text": [
            "\n",
            "\n"
          ],
          "name": "stdout"
        },
        {
          "output_type": "display_data",
          "data": {
            "text/latex": "$\\displaystyle I_{L} = \\left[\\begin{matrix}-287.19 - 84.255 i\\\\46.717 - 264.15 i\\\\-0.0823 - 0.1603 i\\end{matrix}\\right]$",
            "text/plain": [
              "Eq(I_L, Matrix([\n",
              "[-287.19 - 84.255*I],\n",
              "[ 46.717 - 264.15*I],\n",
              "[-0.0823 - 0.1603*I]]))"
            ]
          },
          "metadata": {
            "tags": []
          }
        },
        {
          "output_type": "stream",
          "text": [
            "\n",
            "\n"
          ],
          "name": "stdout"
        },
        {
          "output_type": "display_data",
          "data": {
            "text/latex": "$\\displaystyle J_{L} = \\left[\\begin{matrix}-287.19 + 84.255 i\\\\46.717 + 264.15 i\\\\-0.0823 + 0.1603 i\\end{matrix}\\right]$",
            "text/plain": [
              "Eq(J_L, Matrix([\n",
              "[-287.19 + 84.255*I],\n",
              "[ 46.717 + 264.15*I],\n",
              "[-0.0823 + 0.1603*I]]))"
            ]
          },
          "metadata": {
            "tags": []
          }
        },
        {
          "output_type": "stream",
          "text": [
            "\n",
            "\n"
          ],
          "name": "stdout"
        },
        {
          "output_type": "display_data",
          "data": {
            "text/latex": "$\\text{Doing this process we've obtained the six circular points.\n Now, as a third step, we fit the conic }\\omega \\text{ using the imaged circular points.}$",
            "text/plain": [
              "<IPython.core.display.Latex object>"
            ]
          },
          "metadata": {
            "tags": []
          }
        },
        {
          "output_type": "stream",
          "text": [
            "\n",
            "\n"
          ],
          "name": "stdout"
        },
        {
          "output_type": "display_data",
          "data": {
            "text/latex": "$\\text{For doing this we explicit a set of 5 equations that come respectively as real and imaginary part from the following equation:}$",
            "text/plain": [
              "<IPython.core.display.Latex object>"
            ]
          },
          "metadata": {
            "tags": []
          }
        },
        {
          "output_type": "display_data",
          "data": {
            "text/latex": "${(h_{1} \\pm jh_{2})^T \\omega (h_{1} \\pm jh_{2}) = 0}$",
            "text/plain": [
              "<IPython.core.display.Latex object>"
            ]
          },
          "metadata": {
            "tags": []
          }
        },
        {
          "output_type": "stream",
          "text": [
            "\n",
            "\n"
          ],
          "name": "stdout"
        },
        {
          "output_type": "display_data",
          "data": {
            "text/latex": "$\\text{With real part:}$",
            "text/plain": [
              "<IPython.core.display.Latex object>"
            ]
          },
          "metadata": {
            "tags": []
          }
        },
        {
          "output_type": "display_data",
          "data": {
            "text/latex": "${h_1^T ωh_2 = 0}$",
            "text/plain": [
              "<IPython.core.display.Latex object>"
            ]
          },
          "metadata": {
            "tags": []
          }
        },
        {
          "output_type": "display_data",
          "data": {
            "text/latex": "$\\text{And imaginary part:}$",
            "text/plain": [
              "<IPython.core.display.Latex object>"
            ]
          },
          "metadata": {
            "tags": []
          }
        },
        {
          "output_type": "display_data",
          "data": {
            "text/latex": "${h_1^T ωh_1 = h_2^T ωh_2}$",
            "text/plain": [
              "<IPython.core.display.Latex object>"
            ]
          },
          "metadata": {
            "tags": []
          }
        },
        {
          "output_type": "stream",
          "text": [
            "\n",
            "\n",
            "\n",
            "\n"
          ],
          "name": "stdout"
        },
        {
          "output_type": "display_data",
          "data": {
            "text/latex": "$\\text{Therefore, has been decided to solve the following system of equation:}$",
            "text/plain": [
              "<IPython.core.display.Latex object>"
            ]
          },
          "metadata": {
            "tags": []
          }
        },
        {
          "output_type": "display_data",
          "data": {
            "text/latex": "${{hr_{1}}^T ωhr_{1} = {hr_{2}}^T ωhr_{2}}$",
            "text/plain": [
              "<IPython.core.display.Latex object>"
            ]
          },
          "metadata": {
            "tags": []
          }
        },
        {
          "output_type": "display_data",
          "data": {
            "text/latex": "${{hb_{1}}^T ωhb_{2} = 0}$",
            "text/plain": [
              "<IPython.core.display.Latex object>"
            ]
          },
          "metadata": {
            "tags": []
          }
        },
        {
          "output_type": "display_data",
          "data": {
            "text/latex": "${{hb_{1}}^T ωhb_{1} = {hb_{2}}^T ωhb_{2}}$",
            "text/plain": [
              "<IPython.core.display.Latex object>"
            ]
          },
          "metadata": {
            "tags": []
          }
        },
        {
          "output_type": "display_data",
          "data": {
            "text/latex": "${{hl_{1}}^T ωhl_{2} = 0}$",
            "text/plain": [
              "<IPython.core.display.Latex object>"
            ]
          },
          "metadata": {
            "tags": []
          }
        },
        {
          "output_type": "display_data",
          "data": {
            "text/latex": "${{hl_{1}}^T ωhl_{1} = {hl_{2}}^T ωhl_{2}}$",
            "text/plain": [
              "<IPython.core.display.Latex object>"
            ]
          },
          "metadata": {
            "tags": []
          }
        },
        {
          "output_type": "stream",
          "text": [
            "\n",
            "\n"
          ],
          "name": "stdout"
        },
        {
          "output_type": "display_data",
          "data": {
            "text/latex": "$\\text{Since we have five degrees of freedom and six coefficients, has been selected f equal to 1.}$",
            "text/plain": [
              "<IPython.core.display.Latex object>"
            ]
          },
          "metadata": {
            "tags": []
          }
        },
        {
          "output_type": "display_data",
          "data": {
            "text/latex": "$\\text{The coefficients that we have carried out are the following:}$",
            "text/plain": [
              "<IPython.core.display.Latex object>"
            ]
          },
          "metadata": {
            "tags": []
          }
        },
        {
          "output_type": "stream",
          "text": [
            "\n",
            "\n"
          ],
          "name": "stdout"
        },
        {
          "output_type": "display_data",
          "data": {
            "text/latex": "$\\displaystyle \\left[\\begin{matrix}a\\\\b\\\\c\\\\d\\\\e\\\\f\\end{matrix}\\right] = \\left[\\begin{matrix}7.43 \\cdot 10^{-7}\\\\1.61 \\cdot 10^{-7}\\\\9.66 \\cdot 10^{-7}\\\\-0.000707\\\\-0.00089\\\\1.0\\end{matrix}\\right]$",
            "text/plain": [
              "Eq(Matrix([\n",
              "[a],\n",
              "[b],\n",
              "[c],\n",
              "[d],\n",
              "[e],\n",
              "[f]]), Matrix([\n",
              "[  7.43e-7],\n",
              "[  1.61e-7],\n",
              "[  9.66e-7],\n",
              "[-0.000707],\n",
              "[ -0.00089],\n",
              "[      1.0]]))"
            ]
          },
          "metadata": {
            "tags": []
          }
        },
        {
          "output_type": "stream",
          "text": [
            "\n",
            "\n"
          ],
          "name": "stdout"
        },
        {
          "output_type": "display_data",
          "data": {
            "text/latex": "$\\text{They define this conic } \\omega \\text{:}$",
            "text/plain": [
              "<IPython.core.display.Latex object>"
            ]
          },
          "metadata": {
            "tags": []
          }
        },
        {
          "output_type": "stream",
          "text": [
            "\n",
            "\n"
          ],
          "name": "stdout"
        },
        {
          "output_type": "display_data",
          "data": {
            "text/latex": "$\\displaystyle \\omega = \\left[\\begin{matrix}7.43 \\cdot 10^{-7} & 8.07 \\cdot 10^{-8} & -0.000353\\\\8.07 \\cdot 10^{-8} & 9.66 \\cdot 10^{-7} & -0.000445\\\\-0.000353 & -0.000445 & 1.0\\end{matrix}\\right]$",
            "text/plain": [
              "Eq(\\omega, Matrix([\n",
              "[  7.43e-7,   8.07e-8, -0.000353],\n",
              "[  8.07e-8,   9.66e-7, -0.000445],\n",
              "[-0.000353, -0.000445,       1.0]]))"
            ]
          },
          "metadata": {
            "tags": []
          }
        },
        {
          "output_type": "stream",
          "text": [
            "\n",
            "\n"
          ],
          "name": "stdout"
        },
        {
          "output_type": "display_data",
          "data": {
            "text/latex": "$\\text{Before going forward to the next step, has been checked that: }{I_i^T} \\omega  {I_i}\\text{ = 0 and }{J_i^T} \\omega {J_i}\\text{ = 0}$",
            "text/plain": [
              "<IPython.core.display.Latex object>"
            ]
          },
          "metadata": {
            "tags": []
          }
        },
        {
          "output_type": "stream",
          "text": [
            "\n",
            "\n"
          ],
          "name": "stdout"
        },
        {
          "output_type": "display_data",
          "data": {
            "text/latex": "$\\text{1) For the right square I want to check: }$",
            "text/plain": [
              "<IPython.core.display.Latex object>"
            ]
          },
          "metadata": {
            "tags": []
          }
        },
        {
          "output_type": "stream",
          "text": [
            "\n",
            "\n"
          ],
          "name": "stdout"
        },
        {
          "output_type": "display_data",
          "data": {
            "text/latex": "${Check_I = I_R^T \\omega I_R = 0}$",
            "text/plain": [
              "<IPython.core.display.Latex object>"
            ]
          },
          "metadata": {
            "tags": []
          }
        },
        {
          "output_type": "display_data",
          "data": {
            "text/latex": "${Check_J = J_R^T \\omega J_R = 0}$",
            "text/plain": [
              "<IPython.core.display.Latex object>"
            ]
          },
          "metadata": {
            "tags": []
          }
        },
        {
          "output_type": "stream",
          "text": [
            "\n",
            "\n"
          ],
          "name": "stdout"
        },
        {
          "output_type": "display_data",
          "data": {
            "text/latex": "$\\text{Results:}$",
            "text/plain": [
              "<IPython.core.display.Latex object>"
            ]
          },
          "metadata": {
            "tags": []
          }
        },
        {
          "output_type": "display_data",
          "data": {
            "text/latex": "$\\displaystyle Check_{I} = \\left[\\begin{matrix}0\\end{matrix}\\right]$",
            "text/plain": [
              "Eq(Check_I, Matrix([[0]]))"
            ]
          },
          "metadata": {
            "tags": []
          }
        },
        {
          "output_type": "display_data",
          "data": {
            "text/latex": "$\\displaystyle Check_{J} = \\left[\\begin{matrix}0\\end{matrix}\\right]$",
            "text/plain": [
              "Eq(Check_J, Matrix([[0]]))"
            ]
          },
          "metadata": {
            "tags": []
          }
        },
        {
          "output_type": "stream",
          "text": [
            "\n",
            "\n"
          ],
          "name": "stdout"
        },
        {
          "output_type": "display_data",
          "data": {
            "text/latex": "$\\text{2) For the bottom square I want to check: }$",
            "text/plain": [
              "<IPython.core.display.Latex object>"
            ]
          },
          "metadata": {
            "tags": []
          }
        },
        {
          "output_type": "stream",
          "text": [
            "\n",
            "\n"
          ],
          "name": "stdout"
        },
        {
          "output_type": "display_data",
          "data": {
            "text/latex": "${Check_I = I_B^T \\omega I_B = 0}$",
            "text/plain": [
              "<IPython.core.display.Latex object>"
            ]
          },
          "metadata": {
            "tags": []
          }
        },
        {
          "output_type": "display_data",
          "data": {
            "text/latex": "${Check_J = J_B^T \\omega J_B = 0}$",
            "text/plain": [
              "<IPython.core.display.Latex object>"
            ]
          },
          "metadata": {
            "tags": []
          }
        },
        {
          "output_type": "stream",
          "text": [
            "\n",
            "\n"
          ],
          "name": "stdout"
        },
        {
          "output_type": "display_data",
          "data": {
            "text/latex": "$\\text{Results:}$",
            "text/plain": [
              "<IPython.core.display.Latex object>"
            ]
          },
          "metadata": {
            "tags": []
          }
        },
        {
          "output_type": "display_data",
          "data": {
            "text/latex": "$\\displaystyle Check_{I} = \\left[\\begin{matrix}0\\end{matrix}\\right]$",
            "text/plain": [
              "Eq(Check_I, Matrix([[0]]))"
            ]
          },
          "metadata": {
            "tags": []
          }
        },
        {
          "output_type": "display_data",
          "data": {
            "text/latex": "$\\displaystyle Check_{J} = \\left[\\begin{matrix}0\\end{matrix}\\right]$",
            "text/plain": [
              "Eq(Check_J, Matrix([[0]]))"
            ]
          },
          "metadata": {
            "tags": []
          }
        },
        {
          "output_type": "stream",
          "text": [
            "\n",
            "\n"
          ],
          "name": "stdout"
        },
        {
          "output_type": "display_data",
          "data": {
            "text/latex": "$\\text{3) For the left square I want to check: }$",
            "text/plain": [
              "<IPython.core.display.Latex object>"
            ]
          },
          "metadata": {
            "tags": []
          }
        },
        {
          "output_type": "stream",
          "text": [
            "\n",
            "\n"
          ],
          "name": "stdout"
        },
        {
          "output_type": "display_data",
          "data": {
            "text/latex": "${Check_I = I_L^T \\omega I_L = 0}$",
            "text/plain": [
              "<IPython.core.display.Latex object>"
            ]
          },
          "metadata": {
            "tags": []
          }
        },
        {
          "output_type": "display_data",
          "data": {
            "text/latex": "${Check_J = J_L^T \\omega J_L = 0}$",
            "text/plain": [
              "<IPython.core.display.Latex object>"
            ]
          },
          "metadata": {
            "tags": []
          }
        },
        {
          "output_type": "stream",
          "text": [
            "\n",
            "\n"
          ],
          "name": "stdout"
        },
        {
          "output_type": "display_data",
          "data": {
            "text/latex": "$\\text{Results:}$",
            "text/plain": [
              "<IPython.core.display.Latex object>"
            ]
          },
          "metadata": {
            "tags": []
          }
        },
        {
          "output_type": "display_data",
          "data": {
            "text/latex": "$\\displaystyle Check_{I} = \\left[\\begin{matrix}0\\end{matrix}\\right]$",
            "text/plain": [
              "Eq(Check_I, Matrix([[0]]))"
            ]
          },
          "metadata": {
            "tags": []
          }
        },
        {
          "output_type": "display_data",
          "data": {
            "text/latex": "$\\displaystyle Check_{J} = \\left[\\begin{matrix}0\\end{matrix}\\right]$",
            "text/plain": [
              "Eq(Check_J, Matrix([[0]]))"
            ]
          },
          "metadata": {
            "tags": []
          }
        },
        {
          "output_type": "stream",
          "text": [
            "\n",
            "\n"
          ],
          "name": "stdout"
        }
      ]
    },
    {
      "cell_type": "code",
      "metadata": {
        "colab": {
          "base_uri": "https://localhost:8080/",
          "height": 508
        },
        "id": "GYRIq93k99Og",
        "outputId": "7a4fd972-1535-4b90-e7af-13cdf5372576"
      },
      "source": [
        "display(Latex('$\\\\bold{Step \\space n°4}$'))\n",
        "print(\"\\n\")\n",
        "display(Markdown(\"Finally in the last step using the Cholesky factorization of the conic, we established the calibration matrix K:\"))\n",
        "print(\"\\n\")\n",
        "display(Eq(S('K'), Matrix(np.round(K_upper, 10)).evalf(5), evaluate=False))\n",
        "print(\"\\n\")\n",
        "display(Latex('$\\\\text{ As final verification I check whether }{(KK^T)^{-1} = }\\\\text{ }\\omega \\\\text{ and by computing this I exactly obtain: }$')); \n",
        "print(\"\\n\")\n",
        "display(Eq(Eq(Symbol('(KK^T)^{-1}'), Matrix(inv(K_lower@np.transpose(K_lower))).evalf(3), evaluate=False),Symbol('\\omega'), evaluate=False));\n",
        "print(\"\\n\")\n",
        "\n",
        "display(Latex(\"$\\\\textbf{Conclusion:}$\"))\n",
        "print(\"\\n\")\n",
        "display(Latex('$\\\\text{Has been proven that the matrix } \\omega \\\\text{ is equal to the one already found in the previous computation.}$')); \n",
        "display(Latex('$\\\\text{Throught these steps we have carried out the calibration matrix}{K}$')); \n",
        "print(\"\\n\")"
      ],
      "execution_count": 16,
      "outputs": [
        {
          "output_type": "display_data",
          "data": {
            "text/latex": "$\\bold{Step \\space n°4}$",
            "text/plain": [
              "<IPython.core.display.Latex object>"
            ]
          },
          "metadata": {
            "tags": []
          }
        },
        {
          "output_type": "stream",
          "text": [
            "\n",
            "\n"
          ],
          "name": "stdout"
        },
        {
          "output_type": "display_data",
          "data": {
            "text/markdown": "Finally in the last step using the Cholesky factorization of the conic, we established the calibration matrix K:",
            "text/plain": [
              "<IPython.core.display.Markdown object>"
            ]
          },
          "metadata": {
            "tags": []
          }
        },
        {
          "output_type": "stream",
          "text": [
            "\n",
            "\n"
          ],
          "name": "stdout"
        },
        {
          "output_type": "display_data",
          "data": {
            "text/latex": "$\\displaystyle K = \\left[\\begin{matrix}1279.4 & 127.55 & 0.50881\\\\0 & 1141.0 & 0.50778\\\\0 & 0 & 1.0\\end{matrix}\\right]$",
            "text/plain": [
              "Eq(K, Matrix([\n",
              "[1279.4, 127.55, 0.50881],\n",
              "[     0, 1141.0, 0.50778],\n",
              "[     0,      0,     1.0]]))"
            ]
          },
          "metadata": {
            "tags": []
          }
        },
        {
          "output_type": "stream",
          "text": [
            "\n",
            "\n"
          ],
          "name": "stdout"
        },
        {
          "output_type": "display_data",
          "data": {
            "text/latex": "$\\text{ As final verification I check whether }{(KK^T)^{-1} = }\\text{ }\\omega \\text{ and by computing this I exactly obtain: }$",
            "text/plain": [
              "<IPython.core.display.Latex object>"
            ]
          },
          "metadata": {
            "tags": []
          }
        },
        {
          "output_type": "stream",
          "text": [
            "\n",
            "\n"
          ],
          "name": "stdout"
        },
        {
          "output_type": "display_data",
          "data": {
            "text/latex": "$\\displaystyle (KK^T)^{-1} = \\left[\\begin{matrix}7.43 \\cdot 10^{-7} & 8.07 \\cdot 10^{-8} & -0.000353\\\\8.07 \\cdot 10^{-8} & 9.66 \\cdot 10^{-7} & -0.000445\\\\-0.000353 & -0.000445 & 1.0\\end{matrix}\\right] = \\omega$",
            "text/plain": [
              "Eq(Eq((KK^T)^{-1}, Matrix([\n",
              "[  7.43e-7,   8.07e-8, -0.000353],\n",
              "[  8.07e-8,   9.66e-7, -0.000445],\n",
              "[-0.000353, -0.000445,       1.0]])), \\omega)"
            ]
          },
          "metadata": {
            "tags": []
          }
        },
        {
          "output_type": "stream",
          "text": [
            "\n",
            "\n"
          ],
          "name": "stdout"
        },
        {
          "output_type": "display_data",
          "data": {
            "text/latex": "$\\textbf{Conclusion:}$",
            "text/plain": [
              "<IPython.core.display.Latex object>"
            ]
          },
          "metadata": {
            "tags": []
          }
        },
        {
          "output_type": "stream",
          "text": [
            "\n",
            "\n"
          ],
          "name": "stdout"
        },
        {
          "output_type": "display_data",
          "data": {
            "text/latex": "$\\text{Has been proven that the matrix } \\omega \\text{ is equal to the one already found in the previous computation.}$",
            "text/plain": [
              "<IPython.core.display.Latex object>"
            ]
          },
          "metadata": {
            "tags": []
          }
        },
        {
          "output_type": "display_data",
          "data": {
            "text/latex": "$\\text{Throught these steps we have carried out the calibration matrix}{K}$",
            "text/plain": [
              "<IPython.core.display.Latex object>"
            ]
          },
          "metadata": {
            "tags": []
          }
        },
        {
          "output_type": "stream",
          "text": [
            "\n",
            "\n"
          ],
          "name": "stdout"
        }
      ]
    }
  ]
}